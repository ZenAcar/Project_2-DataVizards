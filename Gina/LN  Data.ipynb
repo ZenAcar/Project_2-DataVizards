{
 "cells": [
  {
   "cell_type": "code",
   "execution_count": 3,
   "metadata": {
    "ExecuteTime": {
     "end_time": "2020-06-01T02:18:18.935454Z",
     "start_time": "2020-06-01T02:18:18.927451Z"
    }
   },
   "outputs": [
    {
     "name": "stdout",
     "output_type": "stream",
     "text": [
      "Requirement already satisfied: wget in c:\\users\\danjr\\anaconda3\\lib\\site-packages (3.2)\n",
      "Requirement already satisfied: dtale in c:\\users\\danjr\\anaconda3\\lib\\site-packages (1.8.15)\n",
      "Requirement already satisfied: itsdangerous in c:\\users\\danjr\\anaconda3\\lib\\site-packages (from dtale) (1.1.0)\n",
      "Requirement already satisfied: dash>=1.5.0 in c:\\users\\danjr\\anaconda3\\lib\\site-packages (from dtale) (1.12.0)\n",
      "Requirement already satisfied: pandas in c:\\users\\danjr\\anaconda3\\lib\\site-packages (from dtale) (1.0.4)\n",
      "Requirement already satisfied: future>=0.14.0 in c:\\users\\danjr\\anaconda3\\lib\\site-packages (from dtale) (0.18.2)\n",
      "Requirement already satisfied: scipy in c:\\users\\danjr\\anaconda3\\lib\\site-packages (from dtale) (1.4.1)\n",
      "Requirement already satisfied: dash-daq in c:\\users\\danjr\\anaconda3\\lib\\site-packages (from dtale) (0.5.0)\n",
      "Requirement already satisfied: scikit-learn>='0.21.0 in c:\\users\\danjr\\anaconda3\\lib\\site-packages (from dtale) (0.21.3)\n",
      "Requirement already satisfied: six in c:\\users\\danjr\\anaconda3\\lib\\site-packages (from dtale) (1.12.0)\n",
      "Requirement already satisfied: flask-ngrok; python_version > \"3.0\" in c:\\users\\danjr\\anaconda3\\lib\\site-packages (from dtale) (0.0.25)\n",
      "Requirement already satisfied: lz4; python_version > \"3.0\" in c:\\users\\danjr\\anaconda3\\lib\\site-packages (from dtale) (3.0.2)\n",
      "Requirement already satisfied: requests in c:\\users\\danjr\\anaconda3\\lib\\site-packages (from dtale) (2.23.0)\n",
      "Requirement already satisfied: Flask>=1.0 in c:\\users\\danjr\\anaconda3\\lib\\site-packages (from dtale) (1.1.1)\n",
      "Requirement already satisfied: Flask-Compress in c:\\users\\danjr\\anaconda3\\lib\\site-packages (from dtale) (1.5.0)\n",
      "Requirement already satisfied: dash-html-components==1.0.3 in c:\\users\\danjr\\anaconda3\\lib\\site-packages (from dash>=1.5.0->dtale) (1.0.3)\n",
      "Requirement already satisfied: plotly in c:\\users\\danjr\\anaconda3\\lib\\site-packages (from dash>=1.5.0->dtale) (4.5.4)\n",
      "Requirement already satisfied: dash-table==4.7.0 in c:\\users\\danjr\\anaconda3\\lib\\site-packages (from dash>=1.5.0->dtale) (4.7.0)\n",
      "Requirement already satisfied: dash-core-components==1.10.0 in c:\\users\\danjr\\anaconda3\\lib\\site-packages (from dash>=1.5.0->dtale) (1.10.0)\n",
      "Requirement already satisfied: dash-renderer==1.4.1 in c:\\users\\danjr\\anaconda3\\lib\\site-packages (from dash>=1.5.0->dtale) (1.4.1)\n",
      "Requirement already satisfied: numpy>=1.13.3 in c:\\users\\danjr\\anaconda3\\lib\\site-packages (from pandas->dtale) (1.16.5)\n",
      "Requirement already satisfied: python-dateutil>=2.6.1 in c:\\users\\danjr\\anaconda3\\lib\\site-packages (from pandas->dtale) (2.8.0)\n",
      "Requirement already satisfied: pytz>=2017.2 in c:\\users\\danjr\\anaconda3\\lib\\site-packages (from pandas->dtale) (2019.3)\n",
      "Requirement already satisfied: joblib>=0.11 in c:\\users\\danjr\\anaconda3\\lib\\site-packages (from scikit-learn>='0.21.0->dtale) (0.13.2)\n",
      "Requirement already satisfied: chardet<4,>=3.0.2 in c:\\users\\danjr\\anaconda3\\lib\\site-packages (from requests->dtale) (3.0.4)\n",
      "Requirement already satisfied: urllib3!=1.25.0,!=1.25.1,<1.26,>=1.21.1 in c:\\users\\danjr\\anaconda3\\lib\\site-packages (from requests->dtale) (1.24.2)\n",
      "Requirement already satisfied: certifi>=2017.4.17 in c:\\users\\danjr\\anaconda3\\lib\\site-packages (from requests->dtale) (2019.9.11)\n",
      "Requirement already satisfied: idna<3,>=2.5 in c:\\users\\danjr\\anaconda3\\lib\\site-packages (from requests->dtale) (2.8)\n",
      "Requirement already satisfied: Werkzeug>=0.15 in c:\\users\\danjr\\anaconda3\\lib\\site-packages (from Flask>=1.0->dtale) (0.16.0)\n",
      "Requirement already satisfied: click>=5.1 in c:\\users\\danjr\\anaconda3\\lib\\site-packages (from Flask>=1.0->dtale) (7.0)\n",
      "Requirement already satisfied: Jinja2>=2.10.1 in c:\\users\\danjr\\anaconda3\\lib\\site-packages (from Flask>=1.0->dtale) (2.11.2)\n",
      "Requirement already satisfied: brotli in c:\\users\\danjr\\anaconda3\\lib\\site-packages (from Flask-Compress->dtale) (1.0.7)\n",
      "Requirement already satisfied: retrying>=1.3.3 in c:\\users\\danjr\\anaconda3\\lib\\site-packages (from plotly->dash>=1.5.0->dtale) (1.3.3)\n",
      "Requirement already satisfied: MarkupSafe>=0.23 in c:\\users\\danjr\\anaconda3\\lib\\site-packages (from Jinja2>=2.10.1->Flask>=1.0->dtale) (1.1.1)\n"
     ]
    }
   ],
   "source": [
    "# May need to install these....\n",
    "# uncomment if unsure\n",
    "!pip install wget\n",
    "!pip install dtale"
   ]
  },
  {
   "cell_type": "code",
   "execution_count": 4,
   "metadata": {
    "ExecuteTime": {
     "end_time": "2020-06-01T03:31:27.329865Z",
     "start_time": "2020-06-01T03:30:47.903232Z"
    }
   },
   "outputs": [
    {
     "ename": "ModuleNotFoundError",
     "evalue": "No module named 'six.moves.collections_abc'",
     "output_type": "error",
     "traceback": [
      "\u001b[1;31m---------------------------------------------------------------------------\u001b[0m",
      "\u001b[1;31mModuleNotFoundError\u001b[0m                       Traceback (most recent call last)",
      "\u001b[1;32m<ipython-input-4-4d6d23776c80>\u001b[0m in \u001b[0;36m<module>\u001b[1;34m\u001b[0m\n\u001b[0;32m      3\u001b[0m \u001b[1;32mimport\u001b[0m \u001b[0mos\u001b[0m \u001b[1;32mas\u001b[0m \u001b[0mos\u001b[0m\u001b[1;33m\u001b[0m\u001b[1;33m\u001b[0m\u001b[0m\n\u001b[0;32m      4\u001b[0m \u001b[1;33m\u001b[0m\u001b[0m\n\u001b[1;32m----> 5\u001b[1;33m \u001b[1;32mimport\u001b[0m \u001b[0mdtale\u001b[0m \u001b[1;31m# data Frame visualization\u001b[0m\u001b[1;33m\u001b[0m\u001b[1;33m\u001b[0m\u001b[0m\n\u001b[0m\u001b[0;32m      6\u001b[0m \u001b[1;32mimport\u001b[0m \u001b[0mwget\u001b[0m \u001b[1;32mas\u001b[0m \u001b[0mwget\u001b[0m\u001b[1;33m\u001b[0m\u001b[1;33m\u001b[0m\u001b[0m\n",
      "\u001b[1;32m~\\Anaconda3\\lib\\site-packages\\dtale\\__init__.py\u001b[0m in \u001b[0;36m<module>\u001b[1;34m\u001b[0m\n\u001b[0;32m      4\u001b[0m \u001b[1;33m\u001b[0m\u001b[0m\n\u001b[0;32m      5\u001b[0m \u001b[1;31m# flake8: NOQA\u001b[0m\u001b[1;33m\u001b[0m\u001b[1;33m\u001b[0m\u001b[1;33m\u001b[0m\u001b[0m\n\u001b[1;32m----> 6\u001b[1;33m \u001b[1;32mfrom\u001b[0m \u001b[0mdtale\u001b[0m\u001b[1;33m.\u001b[0m\u001b[0mapp\u001b[0m \u001b[1;32mimport\u001b[0m \u001b[0mshow\u001b[0m\u001b[1;33m,\u001b[0m \u001b[0mget_instance\u001b[0m\u001b[1;33m,\u001b[0m \u001b[0minstances\u001b[0m\u001b[1;33m,\u001b[0m \u001b[0moffline_chart\u001b[0m  \u001b[1;31m# isort:skip\u001b[0m\u001b[1;33m\u001b[0m\u001b[1;33m\u001b[0m\u001b[0m\n\u001b[0m\u001b[0;32m      7\u001b[0m \u001b[1;32mfrom\u001b[0m \u001b[0mdtale\u001b[0m\u001b[1;33m.\u001b[0m\u001b[0mcli\u001b[0m\u001b[1;33m.\u001b[0m\u001b[0mloaders\u001b[0m \u001b[1;32mimport\u001b[0m \u001b[0mLOADERS\u001b[0m  \u001b[1;31m# isort:skip\u001b[0m\u001b[1;33m\u001b[0m\u001b[1;33m\u001b[0m\u001b[0m\n\u001b[0;32m      8\u001b[0m \u001b[1;33m\u001b[0m\u001b[0m\n",
      "\u001b[1;32m~\\Anaconda3\\lib\\site-packages\\dtale\\app.py\u001b[0m in \u001b[0;36m<module>\u001b[1;34m\u001b[0m\n\u001b[0;32m     21\u001b[0m \u001b[1;32mfrom\u001b[0m \u001b[0msix\u001b[0m \u001b[1;32mimport\u001b[0m \u001b[0mPY3\u001b[0m\u001b[1;33m\u001b[0m\u001b[1;33m\u001b[0m\u001b[0m\n\u001b[0;32m     22\u001b[0m \u001b[1;33m\u001b[0m\u001b[0m\n\u001b[1;32m---> 23\u001b[1;33m \u001b[1;32mimport\u001b[0m \u001b[0mdtale\u001b[0m\u001b[1;33m.\u001b[0m\u001b[0mglobal_state\u001b[0m \u001b[1;32mas\u001b[0m \u001b[0mglobal_state\u001b[0m\u001b[1;33m\u001b[0m\u001b[1;33m\u001b[0m\u001b[0m\n\u001b[0m\u001b[0;32m     24\u001b[0m \u001b[1;32mfrom\u001b[0m \u001b[0mdtale\u001b[0m \u001b[1;32mimport\u001b[0m \u001b[0mdtale\u001b[0m\u001b[1;33m\u001b[0m\u001b[1;33m\u001b[0m\u001b[0m\n\u001b[0;32m     25\u001b[0m \u001b[1;32mfrom\u001b[0m \u001b[0mdtale\u001b[0m\u001b[1;33m.\u001b[0m\u001b[0mcli\u001b[0m\u001b[1;33m.\u001b[0m\u001b[0mclickutils\u001b[0m \u001b[1;32mimport\u001b[0m \u001b[0mretrieve_meta_info_and_version\u001b[0m\u001b[1;33m,\u001b[0m \u001b[0msetup_logging\u001b[0m\u001b[1;33m\u001b[0m\u001b[1;33m\u001b[0m\u001b[0m\n",
      "\u001b[1;32m~\\Anaconda3\\lib\\site-packages\\dtale\\global_state.py\u001b[0m in \u001b[0;36m<module>\u001b[1;34m\u001b[0m\n\u001b[0;32m      1\u001b[0m \u001b[1;32mfrom\u001b[0m \u001b[0msix\u001b[0m \u001b[1;32mimport\u001b[0m \u001b[0mPY3\u001b[0m\u001b[1;33m\u001b[0m\u001b[1;33m\u001b[0m\u001b[0m\n\u001b[1;32m----> 2\u001b[1;33m \u001b[1;32mfrom\u001b[0m \u001b[0msix\u001b[0m\u001b[1;33m.\u001b[0m\u001b[0mmoves\u001b[0m\u001b[1;33m.\u001b[0m\u001b[0mcollections_abc\u001b[0m \u001b[1;32mimport\u001b[0m \u001b[0mMutableMapping\u001b[0m\u001b[1;33m\u001b[0m\u001b[1;33m\u001b[0m\u001b[0m\n\u001b[0m\u001b[0;32m      3\u001b[0m \u001b[1;33m\u001b[0m\u001b[0m\n\u001b[0;32m      4\u001b[0m \u001b[0mDATA\u001b[0m \u001b[1;33m=\u001b[0m \u001b[1;33m{\u001b[0m\u001b[1;33m}\u001b[0m\u001b[1;33m\u001b[0m\u001b[1;33m\u001b[0m\u001b[0m\n\u001b[0;32m      5\u001b[0m \u001b[0mDTYPES\u001b[0m \u001b[1;33m=\u001b[0m \u001b[1;33m{\u001b[0m\u001b[1;33m}\u001b[0m\u001b[1;33m\u001b[0m\u001b[1;33m\u001b[0m\u001b[0m\n",
      "\u001b[1;31mModuleNotFoundError\u001b[0m: No module named 'six.moves.collections_abc'"
     ]
    }
   ],
   "source": [
    "import pandas as pd\n",
    "import numpy as np\n",
    "import os as os\n",
    "\n",
    "import dtale # data Frame visualization\n",
    "import wget as wget"
   ]
  },
  {
   "cell_type": "markdown",
   "metadata": {},
   "source": [
    "# Download the data\n",
    "\n",
    "Download Current employment statistics from [US Bureau of Labor Statics website](https://www.bls.gov/)\n",
    "\n",
    "\n",
    "Data Dictionary\n",
    "???\n",
    "\n"
   ]
  },
  {
   "cell_type": "code",
   "execution_count": null,
   "metadata": {
    "ExecuteTime": {
     "end_time": "2020-06-01T04:03:33.145124Z",
     "start_time": "2020-06-01T03:59:23.585219Z"
    }
   },
   "outputs": [],
   "source": [
    "# Check if file has ben downloaded if not download the file\n",
    "# This could take a while first time downloading the files (over 5 mins)\n",
    "# Does this qualify as web scraping? :-)\n",
    "lnFileName = 'resources/ALLlnSeries.txt'\n",
    "lnSeriesFileName = 'resources/lnSeries.txt'\n",
    "lnIndustryFileName = 'resources/lnIndustries.txt'\n",
    "if not os.path.exists(lnFileName) :\n",
    "    url = \"https://download.bls.gov/pub/time.series/ln/ln.data.1.AllData\"\n",
    "    wget.download(url,lnFileName)\n",
    "    \n",
    "    url = \"https://download.bls.gov/pub/time.series/ln/ln.series\"    \n",
    "    wget.download(url,lnSeriesFileName)\n",
    "    \n",
    "    url = \"https://download.bls.gov/pub/time.series/ln/ln.indy\"    \n",
    "    wget.download(url,lnIndustryFileName)  \n",
    "\n",
    "allLN =  pd.read_table(lnFileName, sep='\\t', header=0,names=['series_id', 'year', 'period', 'value', 'footnote_codes'])\n",
    "\n",
    "LNSeriesDF =  pd.read_table(lnSeriesFileName, sep='\\t', header=0,\n",
    "                            names=['series_id', 'lfst_code', 'periodicity_code', 'series_title','absn_code', 'activity_code', 'ages_code', 'cert_code', 'class_code',\n",
    "                                   'duration_code', 'education_code', 'entr_code', 'expr_code',\n",
    "                                   'hheader_code', 'hour_code', 'indy_code', 'jdes_code', 'look_code',\n",
    "                                   'mari_code', 'mjhs_code', 'occupation_code', 'orig_code', 'pcts_code',\n",
    "                                   'race_code', 'rjnw_code', 'rnlf_code', 'rwns_code', 'seek_code',\n",
    "                                   'sexs_code', 'tdat_code', 'vets_code', 'wkst_code', 'born_code',\n",
    "                                   'chld_code', 'disa_code', 'seasonal', 'footnote_codes', 'begin_year',\n",
    "                                   'begin_period', 'end_year', 'end_period'],\n",
    "                            dtype = {'indy_code':np.str_,  'ages_code':np.str_,'education_code':np.str_,'race_code':np.str_}) \n",
    "\n",
    "\n",
    "\n"
   ]
  },
  {
   "cell_type": "code",
   "execution_count": null,
   "metadata": {
    "ExecuteTime": {
     "end_time": "2020-06-01T04:22:29.950071Z",
     "start_time": "2020-06-01T04:22:29.934081Z"
    }
   },
   "outputs": [],
   "source": [
    "industriesDF =  pd.read_table(lnIndustryFileName, sep='\\t', header=0,dtype={'indy_code':np.str_})    "
   ]
  },
  {
   "cell_type": "code",
   "execution_count": null,
   "metadata": {
    "ExecuteTime": {
     "end_time": "2020-06-01T04:22:41.596324Z",
     "start_time": "2020-06-01T04:22:41.573318Z"
    }
   },
   "outputs": [],
   "source": []
  },
  {
   "cell_type": "code",
   "execution_count": null,
   "metadata": {
    "ExecuteTime": {
     "end_time": "2020-06-01T04:18:34.687580Z",
     "start_time": "2020-06-01T04:18:34.677581Z"
    }
   },
   "outputs": [],
   "source": []
  },
  {
   "cell_type": "code",
   "execution_count": null,
   "metadata": {
    "ExecuteTime": {
     "end_time": "2020-06-01T04:19:24.081590Z",
     "start_time": "2020-06-01T04:19:21.470580Z"
    }
   },
   "outputs": [],
   "source": [
    "# Only interested in 2020\n",
    "# CES Seasonally Adjusted\n",
    "condition = allLN['year'].isin([2020])  & allLN['period'].str.startswith('M')\n",
    "LNS2020DF = allLN[condition]\n",
    "LNS2020DF.shape"
   ]
  },
  {
   "cell_type": "code",
   "execution_count": null,
   "metadata": {
    "ExecuteTime": {
     "end_time": "2020-06-01T04:19:24.159581Z",
     "start_time": "2020-06-01T04:19:24.085587Z"
    }
   },
   "outputs": [],
   "source": [
    "# Get month from period and dop period\n",
    "# month 13 Annual Average      \n",
    "# https://download.bls.gov/pub/time.series/ce/ce.period\n",
    "LNS2020DF['Month'] = LNS2020DF['period'].str.replace('M','').astype(int)\n",
    "LNS2020DF.drop('period',1,inplace=True)\n",
    "LNS2020DF.shape"
   ]
  },
  {
   "cell_type": "code",
   "execution_count": null,
   "metadata": {
    "ExecuteTime": {
     "end_time": "2020-06-01T04:19:25.437583Z",
     "start_time": "2020-06-01T04:19:25.069582Z"
    }
   },
   "outputs": [],
   "source": [
    "# Merge with Series DF\n",
    "LNS2020DF = pd.merge(LNS2020DF,LNSeriesDF,on='series_id',how='left')\n",
    "LNS2020DF.shape\n"
   ]
  },
  {
   "cell_type": "code",
   "execution_count": null,
   "metadata": {
    "ExecuteTime": {
     "end_time": "2020-06-01T04:23:43.178193Z",
     "start_time": "2020-06-01T04:23:42.943200Z"
    }
   },
   "outputs": [],
   "source": [
    "LNS2020DF = pd.merge(LNS2020DF,industriesDF,on='indy_code',how='left')\n",
    "LNS2020DF.shape"
   ]
  },
  {
   "cell_type": "code",
   "execution_count": null,
   "metadata": {
    "ExecuteTime": {
     "end_time": "2020-06-01T04:33:26.728560Z",
     "start_time": "2020-06-01T04:33:26.670559Z"
    }
   },
   "outputs": [],
   "source": [
    "LNS2020DF.drop(['jdes_code','absn_code','cert_code','rjnw_code', 'begin_year',\n",
    "                'begin_period', 'end_year', 'end_period'],1,inplace=True)\n",
    "\n"
   ]
  },
  {
   "cell_type": "code",
   "execution_count": null,
   "metadata": {
    "ExecuteTime": {
     "end_time": "2020-06-01T04:19:56.528841Z",
     "start_time": "2020-06-01T04:19:48.061909Z"
    }
   },
   "outputs": [],
   "source": [
    "# Browse the data\n",
    "# uncomment the following lines to browse the data\n",
    "\n",
    "#d = dtale.show(LNS2020DF, ignore_duplicate=True)\n",
    "#d.open_browser()"
   ]
  },
  {
   "cell_type": "code",
   "execution_count": null,
   "metadata": {
    "ExecuteTime": {
     "end_time": "2020-06-01T02:18:28.892009Z",
     "start_time": "2020-06-01T02:18:28.709015Z"
    }
   },
   "outputs": [],
   "source": [
    "LNS2020DF.to_pickle(\"resources/LNS2020.pkl\",compression='gzip')"
   ]
  },
  {
   "cell_type": "code",
   "execution_count": null,
   "metadata": {
    "ExecuteTime": {
     "end_time": "2020-06-01T02:18:28.924007Z",
     "start_time": "2020-06-01T02:18:28.894011Z"
    }
   },
   "outputs": [],
   "source": [
    "# to load Picke file use the following once pickle has been generated\n",
    "LNS2020DF_2=pd.read_pickle('resources/LNS2020.pkl',compression='gzip')"
   ]
  },
  {
   "cell_type": "code",
   "execution_count": null,
   "metadata": {},
   "outputs": [],
   "source": []
  }
 ],
 "metadata": {
  "kernelspec": {
   "display_name": "Python 3",
   "language": "python",
   "name": "python3"
  },
  "language_info": {
   "codemirror_mode": {
    "name": "ipython",
    "version": 3
   },
   "file_extension": ".py",
   "mimetype": "text/x-python",
   "name": "python",
   "nbconvert_exporter": "python",
   "pygments_lexer": "ipython3",
   "version": "3.7.4"
  }
 },
 "nbformat": 4,
 "nbformat_minor": 4
}
