{
 "cells": [
  {
   "cell_type": "code",
   "execution_count": 1,
   "metadata": {
    "ExecuteTime": {
     "end_time": "2020-06-04T03:14:40.362763Z",
     "start_time": "2020-06-04T03:14:39.135762Z"
    }
   },
   "outputs": [
    {
     "data": {
      "text/html": [
       "<div>\n",
       "<style scoped>\n",
       "    .dataframe tbody tr th:only-of-type {\n",
       "        vertical-align: middle;\n",
       "    }\n",
       "\n",
       "    .dataframe tbody tr th {\n",
       "        vertical-align: top;\n",
       "    }\n",
       "\n",
       "    .dataframe thead th {\n",
       "        text-align: right;\n",
       "    }\n",
       "</style>\n",
       "<table border=\"1\" class=\"dataframe\">\n",
       "  <thead>\n",
       "    <tr style=\"text-align: right;\">\n",
       "      <th></th>\n",
       "      <th>series_id</th>\n",
       "      <th>year</th>\n",
       "      <th>value</th>\n",
       "      <th>industry_code_x</th>\n",
       "      <th>Month</th>\n",
       "      <th>supersector_code</th>\n",
       "      <th>data_type_code</th>\n",
       "      <th>series_title</th>\n",
       "      <th>supersector_name</th>\n",
       "      <th>data_type_text</th>\n",
       "      <th>short_title</th>\n",
       "    </tr>\n",
       "  </thead>\n",
       "  <tbody>\n",
       "    <tr>\n",
       "      <th>0</th>\n",
       "      <td>CES0000000001</td>\n",
       "      <td>2015</td>\n",
       "      <td>140568.0</td>\n",
       "      <td>00000000</td>\n",
       "      <td>1</td>\n",
       "      <td>00</td>\n",
       "      <td>01</td>\n",
       "      <td>All employees, thousands, total nonfarm, seaso...</td>\n",
       "      <td>Total nonfarm</td>\n",
       "      <td>ALL EMPLOYEES, THOUSANDS</td>\n",
       "      <td>All employees</td>\n",
       "    </tr>\n",
       "    <tr>\n",
       "      <th>1</th>\n",
       "      <td>CES0000000001</td>\n",
       "      <td>2015</td>\n",
       "      <td>140839.0</td>\n",
       "      <td>00000000</td>\n",
       "      <td>2</td>\n",
       "      <td>00</td>\n",
       "      <td>01</td>\n",
       "      <td>All employees, thousands, total nonfarm, seaso...</td>\n",
       "      <td>Total nonfarm</td>\n",
       "      <td>ALL EMPLOYEES, THOUSANDS</td>\n",
       "      <td>All employees</td>\n",
       "    </tr>\n",
       "    <tr>\n",
       "      <th>2</th>\n",
       "      <td>CES0000000001</td>\n",
       "      <td>2015</td>\n",
       "      <td>140910.0</td>\n",
       "      <td>00000000</td>\n",
       "      <td>3</td>\n",
       "      <td>00</td>\n",
       "      <td>01</td>\n",
       "      <td>All employees, thousands, total nonfarm, seaso...</td>\n",
       "      <td>Total nonfarm</td>\n",
       "      <td>ALL EMPLOYEES, THOUSANDS</td>\n",
       "      <td>All employees</td>\n",
       "    </tr>\n",
       "    <tr>\n",
       "      <th>3</th>\n",
       "      <td>CES0000000001</td>\n",
       "      <td>2015</td>\n",
       "      <td>141194.0</td>\n",
       "      <td>00000000</td>\n",
       "      <td>4</td>\n",
       "      <td>00</td>\n",
       "      <td>01</td>\n",
       "      <td>All employees, thousands, total nonfarm, seaso...</td>\n",
       "      <td>Total nonfarm</td>\n",
       "      <td>ALL EMPLOYEES, THOUSANDS</td>\n",
       "      <td>All employees</td>\n",
       "    </tr>\n",
       "    <tr>\n",
       "      <th>4</th>\n",
       "      <td>CES0000000001</td>\n",
       "      <td>2015</td>\n",
       "      <td>141525.0</td>\n",
       "      <td>00000000</td>\n",
       "      <td>5</td>\n",
       "      <td>00</td>\n",
       "      <td>01</td>\n",
       "      <td>All employees, thousands, total nonfarm, seaso...</td>\n",
       "      <td>Total nonfarm</td>\n",
       "      <td>ALL EMPLOYEES, THOUSANDS</td>\n",
       "      <td>All employees</td>\n",
       "    </tr>\n",
       "  </tbody>\n",
       "</table>\n",
       "</div>"
      ],
      "text/plain": [
       "       series_id  year     value industry_code_x  Month supersector_code  \\\n",
       "0  CES0000000001  2015  140568.0        00000000      1               00   \n",
       "1  CES0000000001  2015  140839.0        00000000      2               00   \n",
       "2  CES0000000001  2015  140910.0        00000000      3               00   \n",
       "3  CES0000000001  2015  141194.0        00000000      4               00   \n",
       "4  CES0000000001  2015  141525.0        00000000      5               00   \n",
       "\n",
       "  data_type_code                                       series_title  \\\n",
       "0             01  All employees, thousands, total nonfarm, seaso...   \n",
       "1             01  All employees, thousands, total nonfarm, seaso...   \n",
       "2             01  All employees, thousands, total nonfarm, seaso...   \n",
       "3             01  All employees, thousands, total nonfarm, seaso...   \n",
       "4             01  All employees, thousands, total nonfarm, seaso...   \n",
       "\n",
       "  supersector_name            data_type_text    short_title  \n",
       "0    Total nonfarm  ALL EMPLOYEES, THOUSANDS  All employees  \n",
       "1    Total nonfarm  ALL EMPLOYEES, THOUSANDS  All employees  \n",
       "2    Total nonfarm  ALL EMPLOYEES, THOUSANDS  All employees  \n",
       "3    Total nonfarm  ALL EMPLOYEES, THOUSANDS  All employees  \n",
       "4    Total nonfarm  ALL EMPLOYEES, THOUSANDS  All employees  "
      ]
     },
     "execution_count": 1,
     "metadata": {},
     "output_type": "execute_result"
    }
   ],
   "source": [
    "# Dependencies and Setup\n",
    "import pandas as pd\n",
    "import seaborn as sns\n",
    "import numpy as np\n",
    "from datetime import datetime,date\n",
    "\n",
    "# File to Load\n",
    "CESDF=pd.read_pickle('resources/CES2020.pkl',compression='gzip')\n",
    "# Preview of the DataFrame\n",
    "CESDF.head()"
   ]
  },
  {
   "cell_type": "code",
   "execution_count": 2,
   "metadata": {
    "ExecuteTime": {
     "end_time": "2020-06-04T03:14:40.377765Z",
     "start_time": "2020-06-04T03:14:40.365763Z"
    }
   },
   "outputs": [
    {
     "data": {
      "text/plain": [
       "series_id            object\n",
       "year                  int64\n",
       "value               float64\n",
       "industry_code_x      object\n",
       "Month                 int32\n",
       "supersector_code     object\n",
       "data_type_code       object\n",
       "series_title         object\n",
       "supersector_name     object\n",
       "data_type_text       object\n",
       "short_title          object\n",
       "dtype: object"
      ]
     },
     "execution_count": 2,
     "metadata": {},
     "output_type": "execute_result"
    }
   ],
   "source": [
    "# Check for correct data types - need to convert\n",
    "CESDF.dtypes"
   ]
  },
  {
   "cell_type": "code",
   "execution_count": 3,
   "metadata": {
    "ExecuteTime": {
     "end_time": "2020-06-04T03:14:41.252407Z",
     "start_time": "2020-06-04T03:14:41.231394Z"
    }
   },
   "outputs": [
    {
     "data": {
      "text/plain": [
       "Index(['series_id', 'year', 'value', 'industry_code_x', 'Month',\n",
       "       'supersector_code', 'data_type_code', 'series_title',\n",
       "       'supersector_name', 'data_type_text', 'short_title'],\n",
       "      dtype='object')"
      ]
     },
     "execution_count": 3,
     "metadata": {},
     "output_type": "execute_result"
    }
   ],
   "source": [
    "# Check column names for spaces - looks good\n",
    "CESDF.columns"
   ]
  },
  {
   "cell_type": "code",
   "execution_count": 4,
   "metadata": {
    "ExecuteTime": {
     "end_time": "2020-06-04T03:14:43.202212Z",
     "start_time": "2020-06-04T03:14:43.184208Z"
    }
   },
   "outputs": [
    {
     "data": {
      "text/plain": [
       "series_id           3958\n",
       "year                3958\n",
       "value               3958\n",
       "industry_code_x     3958\n",
       "Month               3958\n",
       "supersector_code    3958\n",
       "data_type_code      3958\n",
       "series_title        3958\n",
       "supersector_name    3958\n",
       "data_type_text      3958\n",
       "short_title         3958\n",
       "dtype: int64"
      ]
     },
     "execution_count": 4,
     "metadata": {},
     "output_type": "execute_result"
    }
   ],
   "source": [
    "# Identify incomplete rows\n",
    "CESDF.count()"
   ]
  },
  {
   "cell_type": "code",
   "execution_count": 5,
   "metadata": {
    "ExecuteTime": {
     "end_time": "2020-06-04T03:14:43.797309Z",
     "start_time": "2020-06-04T03:14:43.791296Z"
    }
   },
   "outputs": [],
   "source": [
    "# Drop all rows with missing information\n",
    "# df = unemployment_df.dropna(how='any')"
   ]
  },
  {
   "cell_type": "code",
   "execution_count": 6,
   "metadata": {
    "ExecuteTime": {
     "end_time": "2020-06-04T03:14:44.577799Z",
     "start_time": "2020-06-04T03:14:44.558799Z"
    }
   },
   "outputs": [
    {
     "data": {
      "text/plain": [
       "series_id           3958\n",
       "year                3958\n",
       "value               3958\n",
       "industry_code_x     3958\n",
       "Month               3958\n",
       "supersector_code    3958\n",
       "data_type_code      3958\n",
       "series_title        3958\n",
       "supersector_name    3958\n",
       "data_type_text      3958\n",
       "short_title         3958\n",
       "dtype: int64"
      ]
     },
     "execution_count": 6,
     "metadata": {},
     "output_type": "execute_result"
    }
   ],
   "source": [
    "# Verify dropped rows\n",
    "CESDF.count()"
   ]
  },
  {
   "cell_type": "code",
   "execution_count": 7,
   "metadata": {
    "ExecuteTime": {
     "end_time": "2020-06-04T03:14:45.218485Z",
     "start_time": "2020-06-04T03:14:45.198486Z"
    }
   },
   "outputs": [
    {
     "data": {
      "text/plain": [
       "62"
      ]
     },
     "execution_count": 7,
     "metadata": {},
     "output_type": "execute_result"
    }
   ],
   "source": [
    "# Check states values\n",
    "CESDF['series_id'].nunique()"
   ]
  },
  {
   "cell_type": "code",
   "execution_count": 8,
   "metadata": {
    "ExecuteTime": {
     "end_time": "2020-06-04T03:14:45.905053Z",
     "start_time": "2020-06-04T03:14:45.879053Z"
    },
    "scrolled": true
   },
   "outputs": [
    {
     "data": {
      "text/html": [
       "<div>\n",
       "<style scoped>\n",
       "    .dataframe tbody tr th:only-of-type {\n",
       "        vertical-align: middle;\n",
       "    }\n",
       "\n",
       "    .dataframe tbody tr th {\n",
       "        vertical-align: top;\n",
       "    }\n",
       "\n",
       "    .dataframe thead th {\n",
       "        text-align: right;\n",
       "    }\n",
       "</style>\n",
       "<table border=\"1\" class=\"dataframe\">\n",
       "  <thead>\n",
       "    <tr style=\"text-align: right;\">\n",
       "      <th></th>\n",
       "      <th>year</th>\n",
       "      <th>value</th>\n",
       "      <th>Month</th>\n",
       "    </tr>\n",
       "  </thead>\n",
       "  <tbody>\n",
       "    <tr>\n",
       "      <th>count</th>\n",
       "      <td>3958.000000</td>\n",
       "      <td>3958.000000</td>\n",
       "      <td>3958.000000</td>\n",
       "    </tr>\n",
       "    <tr>\n",
       "      <th>mean</th>\n",
       "      <td>2017.180394</td>\n",
       "      <td>19163.943861</td>\n",
       "      <td>6.255685</td>\n",
       "    </tr>\n",
       "    <tr>\n",
       "      <th>std</th>\n",
       "      <td>1.545633</td>\n",
       "      <td>32045.982010</td>\n",
       "      <td>3.494074</td>\n",
       "    </tr>\n",
       "    <tr>\n",
       "      <th>min</th>\n",
       "      <td>2015.000000</td>\n",
       "      <td>90.000000</td>\n",
       "      <td>1.000000</td>\n",
       "    </tr>\n",
       "    <tr>\n",
       "      <th>25%</th>\n",
       "      <td>2016.000000</td>\n",
       "      <td>2801.250000</td>\n",
       "      <td>3.000000</td>\n",
       "    </tr>\n",
       "    <tr>\n",
       "      <th>50%</th>\n",
       "      <td>2017.000000</td>\n",
       "      <td>7693.750000</td>\n",
       "      <td>6.000000</td>\n",
       "    </tr>\n",
       "    <tr>\n",
       "      <th>75%</th>\n",
       "      <td>2018.000000</td>\n",
       "      <td>16322.000000</td>\n",
       "      <td>9.000000</td>\n",
       "    </tr>\n",
       "    <tr>\n",
       "      <th>max</th>\n",
       "      <td>2020.000000</td>\n",
       "      <td>152463.000000</td>\n",
       "      <td>12.000000</td>\n",
       "    </tr>\n",
       "  </tbody>\n",
       "</table>\n",
       "</div>"
      ],
      "text/plain": [
       "              year          value        Month\n",
       "count  3958.000000    3958.000000  3958.000000\n",
       "mean   2017.180394   19163.943861     6.255685\n",
       "std       1.545633   32045.982010     3.494074\n",
       "min    2015.000000      90.000000     1.000000\n",
       "25%    2016.000000    2801.250000     3.000000\n",
       "50%    2017.000000    7693.750000     6.000000\n",
       "75%    2018.000000   16322.000000     9.000000\n",
       "max    2020.000000  152463.000000    12.000000"
      ]
     },
     "execution_count": 8,
     "metadata": {},
     "output_type": "execute_result"
    }
   ],
   "source": [
    "# Display a statistical overview for a high level insight into the data\n",
    "CESDF.describe()"
   ]
  },
  {
   "cell_type": "code",
   "execution_count": 9,
   "metadata": {
    "ExecuteTime": {
     "end_time": "2020-06-04T03:14:47.315353Z",
     "start_time": "2020-06-04T03:14:47.279352Z"
    }
   },
   "outputs": [
    {
     "data": {
      "text/html": [
       "<div>\n",
       "<style scoped>\n",
       "    .dataframe tbody tr th:only-of-type {\n",
       "        vertical-align: middle;\n",
       "    }\n",
       "\n",
       "    .dataframe tbody tr th {\n",
       "        vertical-align: top;\n",
       "    }\n",
       "\n",
       "    .dataframe thead th {\n",
       "        text-align: right;\n",
       "    }\n",
       "</style>\n",
       "<table border=\"1\" class=\"dataframe\">\n",
       "  <thead>\n",
       "    <tr style=\"text-align: right;\">\n",
       "      <th></th>\n",
       "      <th>series_id</th>\n",
       "      <th>year</th>\n",
       "      <th>value</th>\n",
       "      <th>industry_code_x</th>\n",
       "      <th>Month</th>\n",
       "      <th>supersector_code</th>\n",
       "      <th>data_type_code</th>\n",
       "      <th>series_title</th>\n",
       "      <th>supersector_name</th>\n",
       "      <th>data_type_text</th>\n",
       "      <th>short_title</th>\n",
       "    </tr>\n",
       "  </thead>\n",
       "  <tbody>\n",
       "    <tr>\n",
       "      <th>0</th>\n",
       "      <td>CES0000000001</td>\n",
       "      <td>2015</td>\n",
       "      <td>140568.0</td>\n",
       "      <td>00000000</td>\n",
       "      <td>1</td>\n",
       "      <td>00</td>\n",
       "      <td>01</td>\n",
       "      <td>All employees, thousands, total nonfarm, seaso...</td>\n",
       "      <td>Total nonfarm</td>\n",
       "      <td>ALL EMPLOYEES, THOUSANDS</td>\n",
       "      <td>All employees</td>\n",
       "    </tr>\n",
       "    <tr>\n",
       "      <th>1</th>\n",
       "      <td>CES0000000001</td>\n",
       "      <td>2015</td>\n",
       "      <td>140839.0</td>\n",
       "      <td>00000000</td>\n",
       "      <td>2</td>\n",
       "      <td>00</td>\n",
       "      <td>01</td>\n",
       "      <td>All employees, thousands, total nonfarm, seaso...</td>\n",
       "      <td>Total nonfarm</td>\n",
       "      <td>ALL EMPLOYEES, THOUSANDS</td>\n",
       "      <td>All employees</td>\n",
       "    </tr>\n",
       "    <tr>\n",
       "      <th>2</th>\n",
       "      <td>CES0000000001</td>\n",
       "      <td>2015</td>\n",
       "      <td>140910.0</td>\n",
       "      <td>00000000</td>\n",
       "      <td>3</td>\n",
       "      <td>00</td>\n",
       "      <td>01</td>\n",
       "      <td>All employees, thousands, total nonfarm, seaso...</td>\n",
       "      <td>Total nonfarm</td>\n",
       "      <td>ALL EMPLOYEES, THOUSANDS</td>\n",
       "      <td>All employees</td>\n",
       "    </tr>\n",
       "    <tr>\n",
       "      <th>3</th>\n",
       "      <td>CES0000000001</td>\n",
       "      <td>2015</td>\n",
       "      <td>141194.0</td>\n",
       "      <td>00000000</td>\n",
       "      <td>4</td>\n",
       "      <td>00</td>\n",
       "      <td>01</td>\n",
       "      <td>All employees, thousands, total nonfarm, seaso...</td>\n",
       "      <td>Total nonfarm</td>\n",
       "      <td>ALL EMPLOYEES, THOUSANDS</td>\n",
       "      <td>All employees</td>\n",
       "    </tr>\n",
       "    <tr>\n",
       "      <th>4</th>\n",
       "      <td>CES0000000001</td>\n",
       "      <td>2015</td>\n",
       "      <td>141525.0</td>\n",
       "      <td>00000000</td>\n",
       "      <td>5</td>\n",
       "      <td>00</td>\n",
       "      <td>01</td>\n",
       "      <td>All employees, thousands, total nonfarm, seaso...</td>\n",
       "      <td>Total nonfarm</td>\n",
       "      <td>ALL EMPLOYEES, THOUSANDS</td>\n",
       "      <td>All employees</td>\n",
       "    </tr>\n",
       "  </tbody>\n",
       "</table>\n",
       "</div>"
      ],
      "text/plain": [
       "       series_id  year     value industry_code_x  Month supersector_code  \\\n",
       "0  CES0000000001  2015  140568.0        00000000      1               00   \n",
       "1  CES0000000001  2015  140839.0        00000000      2               00   \n",
       "2  CES0000000001  2015  140910.0        00000000      3               00   \n",
       "3  CES0000000001  2015  141194.0        00000000      4               00   \n",
       "4  CES0000000001  2015  141525.0        00000000      5               00   \n",
       "\n",
       "  data_type_code                                       series_title  \\\n",
       "0             01  All employees, thousands, total nonfarm, seaso...   \n",
       "1             01  All employees, thousands, total nonfarm, seaso...   \n",
       "2             01  All employees, thousands, total nonfarm, seaso...   \n",
       "3             01  All employees, thousands, total nonfarm, seaso...   \n",
       "4             01  All employees, thousands, total nonfarm, seaso...   \n",
       "\n",
       "  supersector_name            data_type_text    short_title  \n",
       "0    Total nonfarm  ALL EMPLOYEES, THOUSANDS  All employees  \n",
       "1    Total nonfarm  ALL EMPLOYEES, THOUSANDS  All employees  \n",
       "2    Total nonfarm  ALL EMPLOYEES, THOUSANDS  All employees  \n",
       "3    Total nonfarm  ALL EMPLOYEES, THOUSANDS  All employees  \n",
       "4    Total nonfarm  ALL EMPLOYEES, THOUSANDS  All employees  "
      ]
     },
     "execution_count": 9,
     "metadata": {},
     "output_type": "execute_result"
    }
   ],
   "source": [
    "series = [\"CES0000000001\",\"CES0500000001\",\"CES0600000001\",\"CES0700000001\",\"CES0800000001\",\n",
    "\"CES1000000001\",\"CES2000000001\",\"CES3000000001\",\"CES3100000001\",\"CES3200000001\",\n",
    "\"CES4000000001\",\"CES4200000001\",\"CES4300000001\",\"CES5000000001\",\"CES5500000001\",\n",
    "\"CES5552000001\",\"CES5553000001\",\"CES6000000001\",\"CES6054000001\",\"CES6055000001\",\n",
    "\"CES6056000001\",\"CES6500000001\",\"CES6561000001\",\"CES6562000001\",\"CES7000000001\",\n",
    "\"CES7071000001\",\"CES7072000001\",\"CES8000000001\",\"CES9000000001\",\"CES9091000001\",\n",
    "\"CES9092000001\",\"CES9093000001\"]\n",
    "\n",
    "\n",
    "condition = CESDF['series_id'].isin(series)\n",
    "CESSeriesDF = CESDF[condition]\n",
    "CESSeriesDF.head()"
   ]
  },
  {
   "cell_type": "code",
   "execution_count": 10,
   "metadata": {
    "ExecuteTime": {
     "end_time": "2020-06-04T03:15:08.498468Z",
     "start_time": "2020-06-04T03:15:08.478466Z"
    }
   },
   "outputs": [
    {
     "data": {
      "text/plain": [
       "(2048, 11)"
      ]
     },
     "execution_count": 10,
     "metadata": {},
     "output_type": "execute_result"
    }
   ],
   "source": [
    "CESSeriesDF.shape"
   ]
  },
  {
   "cell_type": "code",
   "execution_count": 12,
   "metadata": {
    "ExecuteTime": {
     "end_time": "2020-06-04T03:18:01.735681Z",
     "start_time": "2020-06-04T03:18:01.650681Z"
    }
   },
   "outputs": [
    {
     "name": "stderr",
     "output_type": "stream",
     "text": [
      "e:\\Anaconda3\\envs\\PythonData\\lib\\site-packages\\ipykernel_launcher.py:2: SettingWithCopyWarning: \n",
      "A value is trying to be set on a copy of a slice from a DataFrame.\n",
      "Try using .loc[row_indexer,col_indexer] = value instead\n",
      "\n",
      "See the caveats in the documentation: https://pandas.pydata.org/pandas-docs/stable/user_guide/indexing.html#returning-a-view-versus-a-copy\n",
      "  \n"
     ]
    },
    {
     "data": {
      "text/html": [
       "<div>\n",
       "<style scoped>\n",
       "    .dataframe tbody tr th:only-of-type {\n",
       "        vertical-align: middle;\n",
       "    }\n",
       "\n",
       "    .dataframe tbody tr th {\n",
       "        vertical-align: top;\n",
       "    }\n",
       "\n",
       "    .dataframe thead th {\n",
       "        text-align: right;\n",
       "    }\n",
       "</style>\n",
       "<table border=\"1\" class=\"dataframe\">\n",
       "  <thead>\n",
       "    <tr style=\"text-align: right;\">\n",
       "      <th></th>\n",
       "      <th>series_id</th>\n",
       "      <th>year</th>\n",
       "      <th>Month</th>\n",
       "      <th>value</th>\n",
       "      <th>short_title</th>\n",
       "      <th>date</th>\n",
       "    </tr>\n",
       "  </thead>\n",
       "  <tbody>\n",
       "    <tr>\n",
       "      <th>0</th>\n",
       "      <td>CES0000000001</td>\n",
       "      <td>2015</td>\n",
       "      <td>1</td>\n",
       "      <td>140568.0</td>\n",
       "      <td>All employees</td>\n",
       "      <td>2015-1</td>\n",
       "    </tr>\n",
       "    <tr>\n",
       "      <th>1</th>\n",
       "      <td>CES0000000001</td>\n",
       "      <td>2015</td>\n",
       "      <td>2</td>\n",
       "      <td>140839.0</td>\n",
       "      <td>All employees</td>\n",
       "      <td>2015-2</td>\n",
       "    </tr>\n",
       "    <tr>\n",
       "      <th>2</th>\n",
       "      <td>CES0000000001</td>\n",
       "      <td>2015</td>\n",
       "      <td>3</td>\n",
       "      <td>140910.0</td>\n",
       "      <td>All employees</td>\n",
       "      <td>2015-3</td>\n",
       "    </tr>\n",
       "    <tr>\n",
       "      <th>3</th>\n",
       "      <td>CES0000000001</td>\n",
       "      <td>2015</td>\n",
       "      <td>4</td>\n",
       "      <td>141194.0</td>\n",
       "      <td>All employees</td>\n",
       "      <td>2015-4</td>\n",
       "    </tr>\n",
       "    <tr>\n",
       "      <th>4</th>\n",
       "      <td>CES0000000001</td>\n",
       "      <td>2015</td>\n",
       "      <td>5</td>\n",
       "      <td>141525.0</td>\n",
       "      <td>All employees</td>\n",
       "      <td>2015-5</td>\n",
       "    </tr>\n",
       "  </tbody>\n",
       "</table>\n",
       "</div>"
      ],
      "text/plain": [
       "       series_id  year  Month     value    short_title    date\n",
       "0  CES0000000001  2015      1  140568.0  All employees  2015-1\n",
       "1  CES0000000001  2015      2  140839.0  All employees  2015-2\n",
       "2  CES0000000001  2015      3  140910.0  All employees  2015-3\n",
       "3  CES0000000001  2015      4  141194.0  All employees  2015-4\n",
       "4  CES0000000001  2015      5  141525.0  All employees  2015-5"
      ]
     },
     "execution_count": 12,
     "metadata": {},
     "output_type": "execute_result"
    }
   ],
   "source": [
    "df = CESSeriesDF[['year','Month','value','short_title']]\n",
    "df['date']=df['year'].astype(str) + \"-\"+ df['Month'].astype(str) \n",
    "df.head()"
   ]
  },
  {
   "cell_type": "code",
   "execution_count": 13,
   "metadata": {
    "ExecuteTime": {
     "end_time": "2020-06-04T03:18:50.172974Z",
     "start_time": "2020-06-04T03:18:50.104957Z"
    }
   },
   "outputs": [
    {
     "data": {
      "text/html": [
       "<div>\n",
       "<style scoped>\n",
       "    .dataframe tbody tr th:only-of-type {\n",
       "        vertical-align: middle;\n",
       "    }\n",
       "\n",
       "    .dataframe tbody tr th {\n",
       "        vertical-align: top;\n",
       "    }\n",
       "\n",
       "    .dataframe thead tr th {\n",
       "        text-align: left;\n",
       "    }\n",
       "\n",
       "    .dataframe thead tr:last-of-type th {\n",
       "        text-align: right;\n",
       "    }\n",
       "</style>\n",
       "<table border=\"1\" class=\"dataframe\">\n",
       "  <thead>\n",
       "    <tr>\n",
       "      <th></th>\n",
       "      <th colspan=\"21\" halign=\"left\">value</th>\n",
       "    </tr>\n",
       "    <tr>\n",
       "      <th>short_title</th>\n",
       "      <th>All employees</th>\n",
       "      <th>All employees accommodation and food services</th>\n",
       "      <th>All employees administrative and waste services</th>\n",
       "      <th>All employees arts entertainment and recreation</th>\n",
       "      <th>All employees construction</th>\n",
       "      <th>All employees durable goods</th>\n",
       "      <th>All employees education and health services</th>\n",
       "      <th>All employees educational services</th>\n",
       "      <th>All employees federal</th>\n",
       "      <th>All employees finance and insurance</th>\n",
       "      <th>...</th>\n",
       "      <th>All employees private</th>\n",
       "      <th>All employees private service-providing</th>\n",
       "      <th>All employees professional and business services</th>\n",
       "      <th>All employees professional and technical services</th>\n",
       "      <th>All employees real estate and rental and leasing</th>\n",
       "      <th>All employees retail trade</th>\n",
       "      <th>All employees service-providing</th>\n",
       "      <th>All employees state government</th>\n",
       "      <th>All employees trade transportation and utilities</th>\n",
       "      <th>All employees transportation and warehousing</th>\n",
       "    </tr>\n",
       "    <tr>\n",
       "      <th>date</th>\n",
       "      <th></th>\n",
       "      <th></th>\n",
       "      <th></th>\n",
       "      <th></th>\n",
       "      <th></th>\n",
       "      <th></th>\n",
       "      <th></th>\n",
       "      <th></th>\n",
       "      <th></th>\n",
       "      <th></th>\n",
       "      <th></th>\n",
       "      <th></th>\n",
       "      <th></th>\n",
       "      <th></th>\n",
       "      <th></th>\n",
       "      <th></th>\n",
       "      <th></th>\n",
       "      <th></th>\n",
       "      <th></th>\n",
       "      <th></th>\n",
       "      <th></th>\n",
       "    </tr>\n",
       "  </thead>\n",
       "  <tbody>\n",
       "    <tr>\n",
       "      <th>2015-1</th>\n",
       "      <td>140568.0</td>\n",
       "      <td>12790.7</td>\n",
       "      <td>8719.9</td>\n",
       "      <td>2124.7</td>\n",
       "      <td>6320.0</td>\n",
       "      <td>7752.0</td>\n",
       "      <td>21741.0</td>\n",
       "      <td>3439.1</td>\n",
       "      <td>2745.0</td>\n",
       "      <td>5990.9</td>\n",
       "      <td>...</td>\n",
       "      <td>118608.0</td>\n",
       "      <td>99108.0</td>\n",
       "      <td>19442.0</td>\n",
       "      <td>8526.7</td>\n",
       "      <td>2067.7</td>\n",
       "      <td>15520.2</td>\n",
       "      <td>121068.0</td>\n",
       "      <td>5065.0</td>\n",
       "      <td>26613.0</td>\n",
       "      <td>4769.8</td>\n",
       "    </tr>\n",
       "    <tr>\n",
       "      <th>2015-10</th>\n",
       "      <td>142587.0</td>\n",
       "      <td>13133.2</td>\n",
       "      <td>8891.2</td>\n",
       "      <td>2182.6</td>\n",
       "      <td>6547.0</td>\n",
       "      <td>7770.0</td>\n",
       "      <td>22215.0</td>\n",
       "      <td>3490.3</td>\n",
       "      <td>2759.0</td>\n",
       "      <td>6067.0</td>\n",
       "      <td>...</td>\n",
       "      <td>120531.0</td>\n",
       "      <td>100851.0</td>\n",
       "      <td>19851.0</td>\n",
       "      <td>8733.2</td>\n",
       "      <td>2101.3</td>\n",
       "      <td>15675.4</td>\n",
       "      <td>122907.0</td>\n",
       "      <td>5084.0</td>\n",
       "      <td>26908.0</td>\n",
       "      <td>4898.8</td>\n",
       "    </tr>\n",
       "    <tr>\n",
       "      <th>2015-11</th>\n",
       "      <td>142824.0</td>\n",
       "      <td>13174.9</td>\n",
       "      <td>8898.2</td>\n",
       "      <td>2198.6</td>\n",
       "      <td>6598.0</td>\n",
       "      <td>7756.0</td>\n",
       "      <td>22260.0</td>\n",
       "      <td>3502.0</td>\n",
       "      <td>2766.0</td>\n",
       "      <td>6075.2</td>\n",
       "      <td>...</td>\n",
       "      <td>120743.0</td>\n",
       "      <td>101032.0</td>\n",
       "      <td>19885.0</td>\n",
       "      <td>8755.5</td>\n",
       "      <td>2105.2</td>\n",
       "      <td>15695.0</td>\n",
       "      <td>123113.0</td>\n",
       "      <td>5090.0</td>\n",
       "      <td>26945.0</td>\n",
       "      <td>4914.7</td>\n",
       "    </tr>\n",
       "    <tr>\n",
       "      <th>2015-12</th>\n",
       "      <td>143097.0</td>\n",
       "      <td>13210.7</td>\n",
       "      <td>8959.1</td>\n",
       "      <td>2194.9</td>\n",
       "      <td>6630.0</td>\n",
       "      <td>7750.0</td>\n",
       "      <td>22323.0</td>\n",
       "      <td>3526.3</td>\n",
       "      <td>2776.0</td>\n",
       "      <td>6079.1</td>\n",
       "      <td>...</td>\n",
       "      <td>121000.0</td>\n",
       "      <td>101262.0</td>\n",
       "      <td>19955.0</td>\n",
       "      <td>8765.3</td>\n",
       "      <td>2109.1</td>\n",
       "      <td>15699.0</td>\n",
       "      <td>123359.0</td>\n",
       "      <td>5088.0</td>\n",
       "      <td>26978.0</td>\n",
       "      <td>4946.0</td>\n",
       "    </tr>\n",
       "    <tr>\n",
       "      <th>2015-2</th>\n",
       "      <td>140839.0</td>\n",
       "      <td>12843.2</td>\n",
       "      <td>8732.4</td>\n",
       "      <td>2129.2</td>\n",
       "      <td>6361.0</td>\n",
       "      <td>7760.0</td>\n",
       "      <td>21789.0</td>\n",
       "      <td>3448.4</td>\n",
       "      <td>2747.0</td>\n",
       "      <td>5998.8</td>\n",
       "      <td>...</td>\n",
       "      <td>118861.0</td>\n",
       "      <td>99324.0</td>\n",
       "      <td>19487.0</td>\n",
       "      <td>8555.9</td>\n",
       "      <td>2072.7</td>\n",
       "      <td>15535.1</td>\n",
       "      <td>121302.0</td>\n",
       "      <td>5071.0</td>\n",
       "      <td>26657.0</td>\n",
       "      <td>4786.0</td>\n",
       "    </tr>\n",
       "  </tbody>\n",
       "</table>\n",
       "<p>5 rows × 32 columns</p>\n",
       "</div>"
      ],
      "text/plain": [
       "                    value                                                \\\n",
       "short_title All employees All employees accommodation and food services   \n",
       "date                                                                      \n",
       "2015-1           140568.0                                       12790.7   \n",
       "2015-10          142587.0                                       13133.2   \n",
       "2015-11          142824.0                                       13174.9   \n",
       "2015-12          143097.0                                       13210.7   \n",
       "2015-2           140839.0                                       12843.2   \n",
       "\n",
       "                                                             \\\n",
       "short_title All employees administrative and waste services   \n",
       "date                                                          \n",
       "2015-1                                               8719.9   \n",
       "2015-10                                              8891.2   \n",
       "2015-11                                              8898.2   \n",
       "2015-12                                              8959.1   \n",
       "2015-2                                               8732.4   \n",
       "\n",
       "                                                             \\\n",
       "short_title All employees arts entertainment and recreation   \n",
       "date                                                          \n",
       "2015-1                                               2124.7   \n",
       "2015-10                                              2182.6   \n",
       "2015-11                                              2198.6   \n",
       "2015-12                                              2194.9   \n",
       "2015-2                                               2129.2   \n",
       "\n",
       "                                                                    \\\n",
       "short_title All employees construction All employees durable goods   \n",
       "date                                                                 \n",
       "2015-1                          6320.0                      7752.0   \n",
       "2015-10                         6547.0                      7770.0   \n",
       "2015-11                         6598.0                      7756.0   \n",
       "2015-12                         6630.0                      7750.0   \n",
       "2015-2                          6361.0                      7760.0   \n",
       "\n",
       "                                                         \\\n",
       "short_title All employees education and health services   \n",
       "date                                                      \n",
       "2015-1                                          21741.0   \n",
       "2015-10                                         22215.0   \n",
       "2015-11                                         22260.0   \n",
       "2015-12                                         22323.0   \n",
       "2015-2                                          21789.0   \n",
       "\n",
       "                                                                      \\\n",
       "short_title All employees educational services All employees federal   \n",
       "date                                                                   \n",
       "2015-1                                  3439.1                2745.0   \n",
       "2015-10                                 3490.3                2759.0   \n",
       "2015-11                                 3502.0                2766.0   \n",
       "2015-12                                 3526.3                2776.0   \n",
       "2015-2                                  3448.4                2747.0   \n",
       "\n",
       "                                                 ...                        \\\n",
       "short_title All employees finance and insurance  ... All employees private   \n",
       "date                                             ...                         \n",
       "2015-1                                   5990.9  ...              118608.0   \n",
       "2015-10                                  6067.0  ...              120531.0   \n",
       "2015-11                                  6075.2  ...              120743.0   \n",
       "2015-12                                  6079.1  ...              121000.0   \n",
       "2015-2                                   5998.8  ...              118861.0   \n",
       "\n",
       "                                                     \\\n",
       "short_title All employees private service-providing   \n",
       "date                                                  \n",
       "2015-1                                      99108.0   \n",
       "2015-10                                    100851.0   \n",
       "2015-11                                    101032.0   \n",
       "2015-12                                    101262.0   \n",
       "2015-2                                      99324.0   \n",
       "\n",
       "                                                              \\\n",
       "short_title All employees professional and business services   \n",
       "date                                                           \n",
       "2015-1                                               19442.0   \n",
       "2015-10                                              19851.0   \n",
       "2015-11                                              19885.0   \n",
       "2015-12                                              19955.0   \n",
       "2015-2                                               19487.0   \n",
       "\n",
       "                                                               \\\n",
       "short_title All employees professional and technical services   \n",
       "date                                                            \n",
       "2015-1                                                 8526.7   \n",
       "2015-10                                                8733.2   \n",
       "2015-11                                                8755.5   \n",
       "2015-12                                                8765.3   \n",
       "2015-2                                                 8555.9   \n",
       "\n",
       "                                                              \\\n",
       "short_title All employees real estate and rental and leasing   \n",
       "date                                                           \n",
       "2015-1                                                2067.7   \n",
       "2015-10                                               2101.3   \n",
       "2015-11                                               2105.2   \n",
       "2015-12                                               2109.1   \n",
       "2015-2                                                2072.7   \n",
       "\n",
       "                                                                        \\\n",
       "short_title All employees retail trade All employees service-providing   \n",
       "date                                                                     \n",
       "2015-1                         15520.2                        121068.0   \n",
       "2015-10                        15675.4                        122907.0   \n",
       "2015-11                        15695.0                        123113.0   \n",
       "2015-12                        15699.0                        123359.0   \n",
       "2015-2                         15535.1                        121302.0   \n",
       "\n",
       "                                            \\\n",
       "short_title All employees state government   \n",
       "date                                         \n",
       "2015-1                              5065.0   \n",
       "2015-10                             5084.0   \n",
       "2015-11                             5090.0   \n",
       "2015-12                             5088.0   \n",
       "2015-2                              5071.0   \n",
       "\n",
       "                                                              \\\n",
       "short_title All employees trade transportation and utilities   \n",
       "date                                                           \n",
       "2015-1                                               26613.0   \n",
       "2015-10                                              26908.0   \n",
       "2015-11                                              26945.0   \n",
       "2015-12                                              26978.0   \n",
       "2015-2                                               26657.0   \n",
       "\n",
       "                                                          \n",
       "short_title All employees transportation and warehousing  \n",
       "date                                                      \n",
       "2015-1                                            4769.8  \n",
       "2015-10                                           4898.8  \n",
       "2015-11                                           4914.7  \n",
       "2015-12                                           4946.0  \n",
       "2015-2                                            4786.0  \n",
       "\n",
       "[5 rows x 32 columns]"
      ]
     },
     "execution_count": 13,
     "metadata": {},
     "output_type": "execute_result"
    }
   ],
   "source": [
    "df = pd.pivot_table(df,index=['date'],values=['value'],columns=['short_title'])\n",
    "\n",
    "df.head()"
   ]
  },
  {
   "cell_type": "code",
   "execution_count": null,
   "metadata": {},
   "outputs": [],
   "source": [
    "# Re"
   ]
  },
  {
   "cell_type": "code",
   "execution_count": 15,
   "metadata": {
    "ExecuteTime": {
     "end_time": "2020-06-04T03:20:23.132431Z",
     "start_time": "2020-06-04T03:20:23.112432Z"
    }
   },
   "outputs": [
    {
     "data": {
      "text/plain": [
       "MultiIndex([( 'date',                                                      ''),\n",
       "            ('value',                                         'All employees'),\n",
       "            ('value',         'All employees accommodation and food services'),\n",
       "            ('value',       'All employees administrative and waste services'),\n",
       "            ('value',       'All employees arts entertainment and recreation'),\n",
       "            ('value',                            'All employees construction'),\n",
       "            ('value',                           'All employees durable goods'),\n",
       "            ('value',           'All employees education and health services'),\n",
       "            ('value',                    'All employees educational services'),\n",
       "            ('value',                                 'All employees federal'),\n",
       "            ('value',                   'All employees finance and insurance'),\n",
       "            ('value',                    'All employees financial activities'),\n",
       "            ('value',                         'All employees goods-producing'),\n",
       "            ('value',                              'All employees government'),\n",
       "            ('value',       'All employees health care and social assistance'),\n",
       "            ('value',                             'All employees information'),\n",
       "            ('value',                 'All employees leisure and hospitality'),\n",
       "            ('value',                        'All employees local government'),\n",
       "            ('value', 'All employees management of companies and enterprises'),\n",
       "            ('value',                           'All employees manufacturing'),\n",
       "            ('value',                      'All employees mining and logging'),\n",
       "            ('value',                        'All employees nondurable goods'),\n",
       "            ('value',                          'All employees other services'),\n",
       "            ('value',                                 'All employees private'),\n",
       "            ('value',               'All employees private service-providing'),\n",
       "            ('value',      'All employees professional and business services'),\n",
       "            ('value',     'All employees professional and technical services'),\n",
       "            ('value',      'All employees real estate and rental and leasing'),\n",
       "            ('value',                            'All employees retail trade'),\n",
       "            ('value',                       'All employees service-providing'),\n",
       "            ('value',                        'All employees state government'),\n",
       "            ('value',      'All employees trade transportation and utilities'),\n",
       "            ('value',          'All employees transportation and warehousing')],\n",
       "           names=[None, 'short_title'])"
      ]
     },
     "execution_count": 15,
     "metadata": {},
     "output_type": "execute_result"
    }
   ],
   "source": [
    "df.reset_index(inplace=True)\n",
    "df.columns"
   ]
  },
  {
   "cell_type": "code",
   "execution_count": 17,
   "metadata": {
    "ExecuteTime": {
     "end_time": "2020-06-04T03:20:42.462852Z",
     "start_time": "2020-06-04T03:20:41.774849Z"
    }
   },
   "outputs": [
    {
     "data": {
      "image/png": "[encoded data removed]",
      "text/plain": [
       "<Figure size 432x288 with 1 Axes>"
      ]
     },
     "metadata": {
      "needs_background": "light"
     },
     "output_type": "display_data"
    }
   ],
   "source": [
    "ax = df.plot(xticks=df.index,legend=False)\n"
   ]
  },
  {
   "cell_type": "code",
   "execution_count": null,
   "metadata": {},
   "outputs": [],
   "source": []
  }
 ],
 "metadata": {
  "kernelspec": {
   "display_name": "Python 3",
   "language": "python",
   "name": "python3"
  },
  "language_info": {
   "codemirror_mode": {
    "name": "ipython",
    "version": 3
   },
   "file_extension": ".py",
   "mimetype": "text/x-python",
   "name": "python",
   "nbconvert_exporter": "python",
   "pygments_lexer": "ipython3",
   "version": "3.7.4"
  }
 },
 "nbformat": 4,
 "nbformat_minor": 2
}
