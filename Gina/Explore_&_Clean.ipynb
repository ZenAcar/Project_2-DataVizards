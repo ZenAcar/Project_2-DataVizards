{
 "cells": [
  {
   "cell_type": "code",
   "execution_count": 94,
   "metadata": {},
   "outputs": [
    {
     "data": {
      "text/html": [
       "<div>\n",
       "<style scoped>\n",
       "    .dataframe tbody tr th:only-of-type {\n",
       "        vertical-align: middle;\n",
       "    }\n",
       "\n",
       "    .dataframe tbody tr th {\n",
       "        vertical-align: top;\n",
       "    }\n",
       "\n",
       "    .dataframe thead th {\n",
       "        text-align: right;\n",
       "    }\n",
       "</style>\n",
       "<table border=\"1\" class=\"dataframe\">\n",
       "  <thead>\n",
       "    <tr style=\"text-align: right;\">\n",
       "      <th></th>\n",
       "      <th>State</th>\n",
       "      <th>Filed week ended</th>\n",
       "      <th>Initial Claims</th>\n",
       "      <th>Reflecting Week Ended</th>\n",
       "      <th>Continued Claims</th>\n",
       "      <th>Covered Employment</th>\n",
       "      <th>Insured Unemployment Rate</th>\n",
       "    </tr>\n",
       "  </thead>\n",
       "  <tbody>\n",
       "    <tr>\n",
       "      <th>0</th>\n",
       "      <td>Alabama</td>\n",
       "      <td>1/4/2020</td>\n",
       "      <td>4,578</td>\n",
       "      <td>12/28/2019</td>\n",
       "      <td>18,523</td>\n",
       "      <td>1,923,741</td>\n",
       "      <td>0.96</td>\n",
       "    </tr>\n",
       "    <tr>\n",
       "      <th>1</th>\n",
       "      <td>Alabama</td>\n",
       "      <td>1/11/2020</td>\n",
       "      <td>3,629</td>\n",
       "      <td>1/4/2020</td>\n",
       "      <td>21,143</td>\n",
       "      <td>1,923,741</td>\n",
       "      <td>1.10</td>\n",
       "    </tr>\n",
       "    <tr>\n",
       "      <th>2</th>\n",
       "      <td>Alabama</td>\n",
       "      <td>1/18/2020</td>\n",
       "      <td>2,483</td>\n",
       "      <td>1/11/2020</td>\n",
       "      <td>17,402</td>\n",
       "      <td>1,923,741</td>\n",
       "      <td>0.90</td>\n",
       "    </tr>\n",
       "    <tr>\n",
       "      <th>3</th>\n",
       "      <td>Alabama</td>\n",
       "      <td>1/25/2020</td>\n",
       "      <td>2,129</td>\n",
       "      <td>1/18/2020</td>\n",
       "      <td>18,390</td>\n",
       "      <td>1,923,741</td>\n",
       "      <td>0.96</td>\n",
       "    </tr>\n",
       "    <tr>\n",
       "      <th>4</th>\n",
       "      <td>Alabama</td>\n",
       "      <td>2/1/2020</td>\n",
       "      <td>2,170</td>\n",
       "      <td>1/25/2020</td>\n",
       "      <td>17,284</td>\n",
       "      <td>1,923,741</td>\n",
       "      <td>0.90</td>\n",
       "    </tr>\n",
       "  </tbody>\n",
       "</table>\n",
       "</div>"
      ],
      "text/plain": [
       "     State Filed week ended Initial Claims Reflecting Week Ended  \\\n",
       "0  Alabama         1/4/2020          4,578            12/28/2019   \n",
       "1  Alabama        1/11/2020          3,629              1/4/2020   \n",
       "2  Alabama        1/18/2020          2,483             1/11/2020   \n",
       "3  Alabama        1/25/2020          2,129             1/18/2020   \n",
       "4  Alabama         2/1/2020          2,170             1/25/2020   \n",
       "\n",
       "  Continued Claims Covered Employment  Insured Unemployment Rate  \n",
       "0           18,523          1,923,741                       0.96  \n",
       "1           21,143          1,923,741                       1.10  \n",
       "2           17,402          1,923,741                       0.90  \n",
       "3           18,390          1,923,741                       0.96  \n",
       "4           17,284          1,923,741                       0.90  "
      ]
     },
     "execution_count": 94,
     "metadata": {},
     "output_type": "execute_result"
    }
   ],
   "source": [
    "# Dependencies and Setup\n",
    "import pandas as pd\n",
    "import seaborn as sns\n",
    "from datetime import datetime,date\n",
    "\n",
    "# File to Load\n",
    "file_to_load = \"Resources/US_Unemployment.csv\"\n",
    "\n",
    "# Read file and store into Pandas data frame\n",
    "df = pd.read_csv(file_to_load)\n",
    "\n",
    "# Output File (CSV)\n",
    "output_data_file = \"Resources/cleaned_data.csv\"\n",
    "\n",
    "# Preview of the DataFrame\n",
    "df.head()"
   ]
  },
  {
   "cell_type": "code",
   "execution_count": 95,
   "metadata": {},
   "outputs": [
    {
     "data": {
      "text/plain": [
       "State                         object\n",
       "Filed week ended              object\n",
       "Initial Claims                object\n",
       "Reflecting Week Ended         object\n",
       "Continued Claims              object\n",
       "Covered Employment            object\n",
       "Insured Unemployment Rate    float64\n",
       "dtype: object"
      ]
     },
     "execution_count": 95,
     "metadata": {},
     "output_type": "execute_result"
    }
   ],
   "source": [
    "# Check for correct data types - need to convert\n",
    "df.dtypes"
   ]
  },
  {
   "cell_type": "code",
   "execution_count": 96,
   "metadata": {},
   "outputs": [],
   "source": [
    "# Remove commas from columns to be able to cast as a number\n",
    "df[\"Initial Claims\"] = df[\"Initial Claims\"].str.replace(',', '')\n",
    "df[\"Continued Claims\"] = df[\"Continued Claims\"].str.replace(',', '')\n",
    "df[\"Covered Employment\"] = df[\"Covered Employment\"].str.replace(',', '')"
   ]
  },
  {
   "cell_type": "code",
   "execution_count": 97,
   "metadata": {},
   "outputs": [],
   "source": [
    "# Convert data types\n",
    "df['Initial Claims'] = pd.to_numeric(df['Initial Claims'])\n",
    "df['Continued Claims'] = pd.to_numeric(df['Continued Claims'])\n",
    "df['Covered Employment'] = pd.to_numeric(df['Covered Employment'])"
   ]
  },
  {
   "cell_type": "code",
   "execution_count": 98,
   "metadata": {},
   "outputs": [
    {
     "data": {
      "text/plain": [
       "State                         object\n",
       "Filed week ended              object\n",
       "Initial Claims               float64\n",
       "Reflecting Week Ended         object\n",
       "Continued Claims             float64\n",
       "Covered Employment           float64\n",
       "Insured Unemployment Rate    float64\n",
       "dtype: object"
      ]
     },
     "execution_count": 98,
     "metadata": {},
     "output_type": "execute_result"
    }
   ],
   "source": [
    "# Verify adjusted data types\n",
    "df.dtypes"
   ]
  },
  {
   "cell_type": "code",
   "execution_count": 99,
   "metadata": {},
   "outputs": [
    {
     "data": {
      "text/plain": [
       "Index(['State', 'Filed week ended', 'Initial Claims', 'Reflecting Week Ended',\n",
       "       'Continued Claims', 'Covered Employment', 'Insured Unemployment Rate'],\n",
       "      dtype='object')"
      ]
     },
     "execution_count": 99,
     "metadata": {},
     "output_type": "execute_result"
    }
   ],
   "source": [
    "# Check column names for spaces - looks good\n",
    "df.columns"
   ]
  },
  {
   "cell_type": "code",
   "execution_count": 100,
   "metadata": {},
   "outputs": [
    {
     "data": {
      "text/plain": [
       "State                        1061\n",
       "Filed week ended             1060\n",
       "Initial Claims               1060\n",
       "Reflecting Week Ended        1060\n",
       "Continued Claims             1060\n",
       "Covered Employment           1060\n",
       "Insured Unemployment Rate    1060\n",
       "dtype: int64"
      ]
     },
     "execution_count": 100,
     "metadata": {},
     "output_type": "execute_result"
    }
   ],
   "source": [
    "# Identify incomplete rows\n",
    "df.count()"
   ]
  },
  {
   "cell_type": "code",
   "execution_count": 101,
   "metadata": {},
   "outputs": [],
   "source": [
    "# Drop all rows with missing information\n",
    "df = unemployment_df.dropna(how='any')"
   ]
  },
  {
   "cell_type": "code",
   "execution_count": 102,
   "metadata": {},
   "outputs": [
    {
     "data": {
      "text/plain": [
       "State                        1060\n",
       "Filed week ended             1060\n",
       "Initial Claims               1060\n",
       "Reflecting Week Ended        1060\n",
       "Continued Claims             1060\n",
       "Covered Employment           1060\n",
       "Insured Unemployment Rate    1060\n",
       "dtype: int64"
      ]
     },
     "execution_count": 102,
     "metadata": {},
     "output_type": "execute_result"
    }
   ],
   "source": [
    "# Verify dropped rows\n",
    "df.count()"
   ]
  },
  {
   "cell_type": "code",
   "execution_count": 103,
   "metadata": {},
   "outputs": [
    {
     "data": {
      "text/plain": [
       "West Virginia           20\n",
       "Virgin Islands          20\n",
       "Alabama                 20\n",
       "Missouri                20\n",
       "Pennsylvania            20\n",
       "New York                20\n",
       "Oklahoma                20\n",
       "Vermont                 20\n",
       "Oregon                  20\n",
       "Tennessee               20\n",
       "Florida                 20\n",
       "Montana                 20\n",
       "Wisconsin               20\n",
       "Illinois                20\n",
       "Georgia                 20\n",
       "Kentucky                20\n",
       "Iowa                    20\n",
       "Idaho                   20\n",
       "Maine                   20\n",
       "Indiana                 20\n",
       "Wyoming                 20\n",
       "North Dakota            20\n",
       "Utah                    20\n",
       "Rhode Island            20\n",
       "Virginia                20\n",
       "Texas                   20\n",
       "New Mexico              20\n",
       "Kansas                  20\n",
       "Puerto Rico             20\n",
       "Arizona                 20\n",
       "District of Columbia    20\n",
       "Maryland                20\n",
       "Washington              20\n",
       "California              20\n",
       "Mississippi             20\n",
       "Nevada                  20\n",
       "Connecticut             20\n",
       "Ohio                    20\n",
       "Minnesota               20\n",
       "North Carolina          20\n",
       "South Dakota            20\n",
       "Massachusetts           20\n",
       "Hawaii                  20\n",
       "South Carolina          20\n",
       "Louisiana               20\n",
       "Arkansas                20\n",
       "Alaska                  20\n",
       "New Jersey              20\n",
       "Nebraska                20\n",
       "Colorado                20\n",
       "Michigan                20\n",
       "Delaware                20\n",
       "New Hampshire           20\n",
       "Name: State, dtype: int64"
      ]
     },
     "execution_count": 103,
     "metadata": {},
     "output_type": "execute_result"
    }
   ],
   "source": [
    "# Check states values\n",
    "df['State'].value_counts()"
   ]
  },
  {
   "cell_type": "code",
   "execution_count": 104,
   "metadata": {
    "scrolled": true
   },
   "outputs": [
    {
     "data": {
      "text/html": [
       "<div>\n",
       "<style scoped>\n",
       "    .dataframe tbody tr th:only-of-type {\n",
       "        vertical-align: middle;\n",
       "    }\n",
       "\n",
       "    .dataframe tbody tr th {\n",
       "        vertical-align: top;\n",
       "    }\n",
       "\n",
       "    .dataframe thead th {\n",
       "        text-align: right;\n",
       "    }\n",
       "</style>\n",
       "<table border=\"1\" class=\"dataframe\">\n",
       "  <thead>\n",
       "    <tr style=\"text-align: right;\">\n",
       "      <th></th>\n",
       "      <th>Insured Unemployment Rate</th>\n",
       "    </tr>\n",
       "  </thead>\n",
       "  <tbody>\n",
       "    <tr>\n",
       "      <th>count</th>\n",
       "      <td>1060.000000</td>\n",
       "    </tr>\n",
       "    <tr>\n",
       "      <th>mean</th>\n",
       "      <td>4.872972</td>\n",
       "    </tr>\n",
       "    <tr>\n",
       "      <th>std</th>\n",
       "      <td>5.584986</td>\n",
       "    </tr>\n",
       "    <tr>\n",
       "      <th>min</th>\n",
       "      <td>0.370000</td>\n",
       "    </tr>\n",
       "    <tr>\n",
       "      <th>25%</th>\n",
       "      <td>1.120000</td>\n",
       "    </tr>\n",
       "    <tr>\n",
       "      <th>50%</th>\n",
       "      <td>2.120000</td>\n",
       "    </tr>\n",
       "    <tr>\n",
       "      <th>75%</th>\n",
       "      <td>7.892500</td>\n",
       "    </tr>\n",
       "    <tr>\n",
       "      <th>max</th>\n",
       "      <td>31.200000</td>\n",
       "    </tr>\n",
       "  </tbody>\n",
       "</table>\n",
       "</div>"
      ],
      "text/plain": [
       "       Insured Unemployment Rate\n",
       "count                1060.000000\n",
       "mean                    4.872972\n",
       "std                     5.584986\n",
       "min                     0.370000\n",
       "25%                     1.120000\n",
       "50%                     2.120000\n",
       "75%                     7.892500\n",
       "max                    31.200000"
      ]
     },
     "execution_count": 104,
     "metadata": {},
     "output_type": "execute_result"
    }
   ],
   "source": [
    "# Display a statistical overview for a high level insight into the data\n",
    "df.describe()"
   ]
  },
  {
   "cell_type": "code",
   "execution_count": null,
   "metadata": {},
   "outputs": [],
   "source": []
  }
 ],
 "metadata": {
  "kernelspec": {
   "display_name": "Python 3",
   "language": "python",
   "name": "python3"
  },
  "language_info": {
   "codemirror_mode": {
    "name": "ipython",
    "version": 3
   },
   "file_extension": ".py",
   "mimetype": "text/x-python",
   "name": "python",
   "nbconvert_exporter": "python",
   "pygments_lexer": "ipython3",
   "version": "3.7.4"
  }
 },
 "nbformat": 4,
 "nbformat_minor": 2
}
