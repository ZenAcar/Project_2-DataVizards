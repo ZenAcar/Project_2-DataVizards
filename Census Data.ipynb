{
 "cells": [
  {
   "cell_type": "code",
   "execution_count": 1,
   "metadata": {
    "ExecuteTime": {
     "end_time": "2020-06-07T01:14:02.645378Z",
     "start_time": "2020-06-07T01:14:02.109379Z"
    }
   },
   "outputs": [],
   "source": [
    "#https://www.census.gov/data/datasets/time-series/demo/popest/2010s-state-total.html#par_textimage_500989927\n",
    "import pandas as pd\n",
    "import numpy as np\n",
    "import os\n",
    "from sqlalchemy import create_engine\n"
   ]
  },
  {
   "cell_type": "code",
   "execution_count": 2,
   "metadata": {
    "ExecuteTime": {
     "end_time": "2020-06-07T01:14:02.692387Z",
     "start_time": "2020-06-07T01:14:02.648395Z"
    }
   },
   "outputs": [
    {
     "data": {
      "text/html": [
       "<div>\n",
       "<style scoped>\n",
       "    .dataframe tbody tr th:only-of-type {\n",
       "        vertical-align: middle;\n",
       "    }\n",
       "\n",
       "    .dataframe tbody tr th {\n",
       "        vertical-align: top;\n",
       "    }\n",
       "\n",
       "    .dataframe thead th {\n",
       "        text-align: right;\n",
       "    }\n",
       "</style>\n",
       "<table border=\"1\" class=\"dataframe\">\n",
       "  <thead>\n",
       "    <tr style=\"text-align: right;\">\n",
       "      <th></th>\n",
       "      <th>state</th>\n",
       "      <th>Census</th>\n",
       "      <th>Estimates Base</th>\n",
       "      <th>2010</th>\n",
       "      <th>2011</th>\n",
       "      <th>2012</th>\n",
       "      <th>2013</th>\n",
       "      <th>2014</th>\n",
       "      <th>2015</th>\n",
       "      <th>2016</th>\n",
       "      <th>2017</th>\n",
       "      <th>2018</th>\n",
       "      <th>2019</th>\n",
       "    </tr>\n",
       "  </thead>\n",
       "  <tbody>\n",
       "    <tr>\n",
       "      <th>0</th>\n",
       "      <td>United States</td>\n",
       "      <td>308745538</td>\n",
       "      <td>308758105</td>\n",
       "      <td>309321666</td>\n",
       "      <td>311556874</td>\n",
       "      <td>313830990</td>\n",
       "      <td>315993715</td>\n",
       "      <td>318301008</td>\n",
       "      <td>320635163</td>\n",
       "      <td>322941311</td>\n",
       "      <td>324985539</td>\n",
       "      <td>326687501</td>\n",
       "      <td>328239523</td>\n",
       "    </tr>\n",
       "    <tr>\n",
       "      <th>1</th>\n",
       "      <td>Alabama</td>\n",
       "      <td>4779736</td>\n",
       "      <td>4780125</td>\n",
       "      <td>4785437</td>\n",
       "      <td>4799069</td>\n",
       "      <td>4815588</td>\n",
       "      <td>4830081</td>\n",
       "      <td>4841799</td>\n",
       "      <td>4852347</td>\n",
       "      <td>4863525</td>\n",
       "      <td>4874486</td>\n",
       "      <td>4887681</td>\n",
       "      <td>4903185</td>\n",
       "    </tr>\n",
       "    <tr>\n",
       "      <th>2</th>\n",
       "      <td>Alaska</td>\n",
       "      <td>710231</td>\n",
       "      <td>710249</td>\n",
       "      <td>713910</td>\n",
       "      <td>722128</td>\n",
       "      <td>730443</td>\n",
       "      <td>737068</td>\n",
       "      <td>736283</td>\n",
       "      <td>737498</td>\n",
       "      <td>741456</td>\n",
       "      <td>739700</td>\n",
       "      <td>735139</td>\n",
       "      <td>731545</td>\n",
       "    </tr>\n",
       "    <tr>\n",
       "      <th>3</th>\n",
       "      <td>Arizona</td>\n",
       "      <td>6392017</td>\n",
       "      <td>6392288</td>\n",
       "      <td>6407172</td>\n",
       "      <td>6472643</td>\n",
       "      <td>6554978</td>\n",
       "      <td>6632764</td>\n",
       "      <td>6730413</td>\n",
       "      <td>6829676</td>\n",
       "      <td>6941072</td>\n",
       "      <td>7044008</td>\n",
       "      <td>7158024</td>\n",
       "      <td>7278717</td>\n",
       "    </tr>\n",
       "    <tr>\n",
       "      <th>4</th>\n",
       "      <td>Arkansas</td>\n",
       "      <td>2915918</td>\n",
       "      <td>2916031</td>\n",
       "      <td>2921964</td>\n",
       "      <td>2940667</td>\n",
       "      <td>2952164</td>\n",
       "      <td>2959400</td>\n",
       "      <td>2967392</td>\n",
       "      <td>2978048</td>\n",
       "      <td>2989918</td>\n",
       "      <td>3001345</td>\n",
       "      <td>3009733</td>\n",
       "      <td>3017804</td>\n",
       "    </tr>\n",
       "  </tbody>\n",
       "</table>\n",
       "</div>"
      ],
      "text/plain": [
       "           state     Census  Estimates Base       2010       2011       2012  \\\n",
       "0  United States  308745538       308758105  309321666  311556874  313830990   \n",
       "1        Alabama    4779736         4780125    4785437    4799069    4815588   \n",
       "2         Alaska     710231          710249     713910     722128     730443   \n",
       "3        Arizona    6392017         6392288    6407172    6472643    6554978   \n",
       "4       Arkansas    2915918         2916031    2921964    2940667    2952164   \n",
       "\n",
       "        2013       2014       2015       2016       2017       2018       2019  \n",
       "0  315993715  318301008  320635163  322941311  324985539  326687501  328239523  \n",
       "1    4830081    4841799    4852347    4863525    4874486    4887681    4903185  \n",
       "2     737068     736283     737498     741456     739700     735139     731545  \n",
       "3    6632764    6730413    6829676    6941072    7044008    7158024    7278717  \n",
       "4    2959400    2967392    2978048    2989918    3001345    3009733    3017804  "
      ]
     },
     "execution_count": 2,
     "metadata": {},
     "output_type": "execute_result"
    }
   ],
   "source": [
    "CensusFileName=\"resources/nst-est2019-01.csv\"\n",
    "\n",
    "CensusDF =  pd.read_csv(CensusFileName, header=0)    \n",
    "\n",
    "CensusDF.head()\n"
   ]
  },
  {
   "cell_type": "code",
   "execution_count": 3,
   "metadata": {
    "ExecuteTime": {
     "end_time": "2020-06-07T01:14:02.708389Z",
     "start_time": "2020-06-07T01:14:02.695380Z"
    }
   },
   "outputs": [],
   "source": [
    "# default 2020 to same values to 2019\n",
    "CensusDF['2020'] = CensusDF['2019']"
   ]
  },
  {
   "cell_type": "code",
   "execution_count": 4,
   "metadata": {
    "ExecuteTime": {
     "end_time": "2020-06-07T01:14:02.739391Z",
     "start_time": "2020-06-07T01:14:02.710383Z"
    }
   },
   "outputs": [
    {
     "data": {
      "text/html": [
       "<div>\n",
       "<style scoped>\n",
       "    .dataframe tbody tr th:only-of-type {\n",
       "        vertical-align: middle;\n",
       "    }\n",
       "\n",
       "    .dataframe tbody tr th {\n",
       "        vertical-align: top;\n",
       "    }\n",
       "\n",
       "    .dataframe thead th {\n",
       "        text-align: right;\n",
       "    }\n",
       "</style>\n",
       "<table border=\"1\" class=\"dataframe\">\n",
       "  <thead>\n",
       "    <tr style=\"text-align: right;\">\n",
       "      <th></th>\n",
       "      <th>state</th>\n",
       "      <th>variable</th>\n",
       "      <th>value</th>\n",
       "    </tr>\n",
       "  </thead>\n",
       "  <tbody>\n",
       "    <tr>\n",
       "      <th>0</th>\n",
       "      <td>United States</td>\n",
       "      <td>2015</td>\n",
       "      <td>320635163</td>\n",
       "    </tr>\n",
       "    <tr>\n",
       "      <th>1</th>\n",
       "      <td>Alabama</td>\n",
       "      <td>2015</td>\n",
       "      <td>4852347</td>\n",
       "    </tr>\n",
       "    <tr>\n",
       "      <th>2</th>\n",
       "      <td>Alaska</td>\n",
       "      <td>2015</td>\n",
       "      <td>737498</td>\n",
       "    </tr>\n",
       "    <tr>\n",
       "      <th>3</th>\n",
       "      <td>Arizona</td>\n",
       "      <td>2015</td>\n",
       "      <td>6829676</td>\n",
       "    </tr>\n",
       "    <tr>\n",
       "      <th>4</th>\n",
       "      <td>Arkansas</td>\n",
       "      <td>2015</td>\n",
       "      <td>2978048</td>\n",
       "    </tr>\n",
       "  </tbody>\n",
       "</table>\n",
       "</div>"
      ],
      "text/plain": [
       "           state variable      value\n",
       "0  United States     2015  320635163\n",
       "1        Alabama     2015    4852347\n",
       "2         Alaska     2015     737498\n",
       "3        Arizona     2015    6829676\n",
       "4       Arkansas     2015    2978048"
      ]
     },
     "execution_count": 4,
     "metadata": {},
     "output_type": "execute_result"
    }
   ],
   "source": [
    "df = pd.melt(CensusDF, id_vars=['state'], value_vars=['2015','2016','2017','2018','2019','2020'])\n",
    "df.head()"
   ]
  },
  {
   "cell_type": "code",
   "execution_count": 5,
   "metadata": {
    "ExecuteTime": {
     "end_time": "2020-06-07T01:14:02.755393Z",
     "start_time": "2020-06-07T01:14:02.740380Z"
    }
   },
   "outputs": [
    {
     "data": {
      "text/plain": [
       "state       object\n",
       "variable    object\n",
       "value        int64\n",
       "dtype: object"
      ]
     },
     "execution_count": 5,
     "metadata": {},
     "output_type": "execute_result"
    }
   ],
   "source": [
    "df.dtypes"
   ]
  },
  {
   "cell_type": "code",
   "execution_count": 8,
   "metadata": {
    "ExecuteTime": {
     "end_time": "2020-06-07T01:36:47.772917Z",
     "start_time": "2020-06-07T01:36:47.674906Z"
    }
   },
   "outputs": [],
   "source": [
    "engine = create_engine('sqlite:///resources/us_unemployment.db', echo=False)\n",
    "df.to_sql('census',con=engine,if_exists='replace')"
   ]
  },
  {
   "cell_type": "code",
   "execution_count": null,
   "metadata": {},
   "outputs": [],
   "source": []
  }
 ],
 "metadata": {
  "kernelspec": {
   "display_name": "Python 3.6.10 64-bit ('PythonData': conda)",
   "language": "python",
   "name": "python361064bitpythondatacondaec7e8270480d4d8a925de6dc1659eacb"
  },
  "language_info": {
   "codemirror_mode": {
    "name": "ipython",
    "version": 3
   },
   "file_extension": ".py",
   "mimetype": "text/x-python",
   "name": "python",
   "nbconvert_exporter": "python",
   "pygments_lexer": "ipython3",
   "version": "3.6.10"
  }
 },
 "nbformat": 4,
 "nbformat_minor": 4
}
