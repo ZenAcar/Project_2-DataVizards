{
 "cells": [
  {
   "cell_type": "code",
   "execution_count": 1,
   "metadata": {
    "ExecuteTime": {
     "end_time": "2020-06-01T04:39:41.681109Z",
     "start_time": "2020-06-01T04:39:41.677109Z"
    }
   },
   "outputs": [],
   "source": [
    "# May need to install these....\n",
    "# uncomment if unsure\n",
    "#!pip install wget\n",
    "#!pip install dtale"
   ]
  },
  {
   "cell_type": "code",
   "execution_count": 2,
   "metadata": {
    "ExecuteTime": {
     "end_time": "2020-06-01T04:39:44.271150Z",
     "start_time": "2020-06-01T04:39:41.684105Z"
    }
   },
   "outputs": [],
   "source": [
    "import pandas as pd\n",
    "import numpy as np\n",
    "import os\n",
    "\n",
    "import dtale # data Frame visualization\n",
    "import wget"
   ]
  },
  {
   "cell_type": "markdown",
   "metadata": {},
   "source": [
    "# Download the data\n",
    "\n",
    "Download Current employment statistics from [US Bureau of Labor Statics website](https://www.bls.gov/)\n",
    "\n",
    "\n",
    "Data Dictionary\n",
    "https://download.bls.gov/pub/time.series/ce/ce.txt\n",
    "\n"
   ]
  },
  {
   "cell_type": "code",
   "execution_count": 3,
   "metadata": {
    "ExecuteTime": {
     "end_time": "2020-06-01T04:39:47.887150Z",
     "start_time": "2020-06-01T04:39:44.273103Z"
    }
   },
   "outputs": [],
   "source": [
    "# Check if file has ben downloaded if not download the file\n",
    "# This could take a while first time downloading the files (over 5 mins)\n",
    "# Does this qualify as web scraping? :-)\n",
    "CESFileName = 'resources/AllCESSeries.txt'\n",
    "SeriesFileName = 'resources/CESSeries.txt'\n",
    "IndustryFileName = 'resources/CESIndustries.txt'\n",
    "if not os.path.exists(CESFileName) :\n",
    "    url = \"https://download.bls.gov/pub/time.series/ce/ce.data.0.AllCESSeries\"\n",
    "    wget.download(url,CESFileName)\n",
    "    \n",
    "    url = \"https://download.bls.gov/pub/time.series/ce/ce.series\"    \n",
    "    wget.download(url,SeriesFileName)\n",
    "    \n",
    "    url = \"https://download.bls.gov/pub/time.series/ce/ce.industry\"    \n",
    "    wget.download(url,IndustryFileName)  \n",
    "\n",
    "allCES =  pd.read_table(CESFileName, sep='\\t', header=0,names=['series_id', 'year', 'period', 'value', 'footnote_codes'])    \n",
    "\n",
    "seriesDF =  pd.read_table(SeriesFileName, sep='\\t', header=0,\n",
    "                          names=['series_id', 'supersector_code','industry_code','data_type_code', 'seasonal', 'series_title', 'footnote_codes','begin_year', 'begin_period', 'end_year', 'end_period'],\n",
    "                          dtype = {'supersector_code':np.str_,  'industry_code':np.str_,'data_type_code':np.str_})    \n",
    "\n",
    "industriesDF =  pd.read_table(IndustryFileName, sep='\\t', header=0,dtype={'industry_code':np.str_,'naics_code':np.str_})    \n",
    "\n"
   ]
  },
  {
   "cell_type": "code",
   "execution_count": 4,
   "metadata": {
    "ExecuteTime": {
     "end_time": "2020-06-01T04:39:50.150103Z",
     "start_time": "2020-06-01T04:39:47.889105Z"
    }
   },
   "outputs": [],
   "source": [
    "# Split Industry from Series ID\n",
    "allCES['industry_code'] = allCES['series_id'].str.slice(3,11)\n",
    "\n",
    "seriesDF.drop(['begin_year', 'begin_period', 'end_year', 'end_period'],1,inplace=True)\n",
    "\n"
   ]
  },
  {
   "cell_type": "code",
   "execution_count": 5,
   "metadata": {
    "ExecuteTime": {
     "end_time": "2020-06-01T04:39:53.532113Z",
     "start_time": "2020-06-01T04:39:50.152105Z"
    }
   },
   "outputs": [
    {
     "data": {
      "text/plain": [
       "(39251, 6)"
      ]
     },
     "execution_count": 5,
     "metadata": {},
     "output_type": "execute_result"
    }
   ],
   "source": [
    "# Only interested in 2020\n",
    "# CES Seasonally Adjusted\n",
    "condition = allCES['year'].isin([2020]) & allCES['series_id'].str.startswith('CES')\n",
    "CES2020DF = allCES[condition]\n",
    "CES2020DF.shape"
   ]
  },
  {
   "cell_type": "code",
   "execution_count": 6,
   "metadata": {
    "ExecuteTime": {
     "end_time": "2020-06-01T04:39:53.593106Z",
     "start_time": "2020-06-01T04:39:53.534108Z"
    }
   },
   "outputs": [
    {
     "name": "stderr",
     "output_type": "stream",
     "text": [
      "e:\\Anaconda3\\envs\\PythonData\\lib\\site-packages\\ipykernel_launcher.py:4: SettingWithCopyWarning:\n",
      "\n",
      "\n",
      "A value is trying to be set on a copy of a slice from a DataFrame.\n",
      "Try using .loc[row_indexer,col_indexer] = value instead\n",
      "\n",
      "See the caveats in the documentation: https://pandas.pydata.org/pandas-docs/stable/user_guide/indexing.html#returning-a-view-versus-a-copy\n",
      "\n",
      "e:\\Anaconda3\\envs\\PythonData\\lib\\site-packages\\pandas\\core\\frame.py:3997: SettingWithCopyWarning:\n",
      "\n",
      "\n",
      "A value is trying to be set on a copy of a slice from a DataFrame\n",
      "\n",
      "See the caveats in the documentation: https://pandas.pydata.org/pandas-docs/stable/user_guide/indexing.html#returning-a-view-versus-a-copy\n",
      "\n"
     ]
    }
   ],
   "source": [
    "# Get month from period and dop period\n",
    "# month 13 Annual Average      \n",
    "# https://download.bls.gov/pub/time.series/ce/ce.period\n",
    "CES2020DF['Month'] = CES2020DF['period'].str.replace('M','').astype(int)\n",
    "CES2020DF.drop('period',1,inplace=True)"
   ]
  },
  {
   "cell_type": "code",
   "execution_count": 7,
   "metadata": {
    "ExecuteTime": {
     "end_time": "2020-06-01T04:39:53.702105Z",
     "start_time": "2020-06-01T04:39:53.596105Z"
    }
   },
   "outputs": [
    {
     "data": {
      "text/plain": [
       "(39251, 12)"
      ]
     },
     "execution_count": 7,
     "metadata": {},
     "output_type": "execute_result"
    }
   ],
   "source": [
    "# Merge with Industry\n",
    "CES2020DF = pd.merge(CES2020DF,industriesDF,on='industry_code',how='left')\n",
    "CES2020DF.shape"
   ]
  },
  {
   "cell_type": "code",
   "execution_count": 8,
   "metadata": {
    "ExecuteTime": {
     "end_time": "2020-06-01T04:39:53.765105Z",
     "start_time": "2020-06-01T04:39:53.709106Z"
    }
   },
   "outputs": [
    {
     "data": {
      "text/plain": [
       "(39251, 18)"
      ]
     },
     "execution_count": 8,
     "metadata": {},
     "output_type": "execute_result"
    }
   ],
   "source": [
    "# Merge with Series DF\n",
    "CES2020DF = pd.merge(CES2020DF,seriesDF,on='series_id',how='left')\n",
    "CES2020DF.shape\n"
   ]
  },
  {
   "cell_type": "code",
   "execution_count": 9,
   "metadata": {
    "ExecuteTime": {
     "end_time": "2020-06-01T04:39:53.811106Z",
     "start_time": "2020-06-01T04:39:53.768105Z"
    }
   },
   "outputs": [
    {
     "data": {
      "text/plain": [
       "(4815, 18)"
      ]
     },
     "execution_count": 9,
     "metadata": {},
     "output_type": "execute_result"
    }
   ],
   "source": [
    "# data_type_code  = 1 all\n",
    "# data_type_code  = 10  Women employees\n",
    "# Assume Men =   all - Women\n",
    "\n",
    "condition = CES2020DF['data_type_code'].isin(['01','10'])\n",
    "CES2020DF = CES2020DF[condition]\n",
    "\n",
    "CES2020DF.shape\n",
    "\n"
   ]
  },
  {
   "cell_type": "code",
   "execution_count": 10,
   "metadata": {
    "ExecuteTime": {
     "end_time": "2020-06-01T04:39:53.827104Z",
     "start_time": "2020-06-01T04:39:53.814105Z"
    }
   },
   "outputs": [],
   "source": [
    "# Browse the data\n",
    "# uncomment the following lines to browse the data\n",
    "\n",
    "#d = dtale.show(CES2020DF, ignore_duplicate=True)\n",
    "#d.open_browser()"
   ]
  },
  {
   "cell_type": "code",
   "execution_count": 11,
   "metadata": {
    "ExecuteTime": {
     "end_time": "2020-06-01T04:39:54.030103Z",
     "start_time": "2020-06-01T04:39:53.829107Z"
    }
   },
   "outputs": [],
   "source": [
    "CES2020DF.to_pickle(\"resources/CES2020.pkl\",compression='gzip')"
   ]
  },
  {
   "cell_type": "code",
   "execution_count": 12,
   "metadata": {
    "ExecuteTime": {
     "end_time": "2020-06-01T04:39:54.046106Z",
     "start_time": "2020-06-01T04:39:54.033108Z"
    }
   },
   "outputs": [],
   "source": [
    "# to load Picke file use the following once pickle has been generated\n",
    "CES2020DF_2=pd.read_pickle('resources/CES2020.pkl',compression='gzip')"
   ]
  },
  {
   "cell_type": "code",
   "execution_count": null,
   "metadata": {},
   "outputs": [],
   "source": []
  }
 ],
 "metadata": {
  "kernelspec": {
   "display_name": "Python 3",
   "language": "python",
   "name": "python3"
  },
  "language_info": {
   "codemirror_mode": {
    "name": "ipython",
    "version": 3
   },
   "file_extension": ".py",
   "mimetype": "text/x-python",
   "name": "python",
   "nbconvert_exporter": "python",
   "pygments_lexer": "ipython3",
   "version": "3.7.4"
  }
 },
 "nbformat": 4,
 "nbformat_minor": 4
}
