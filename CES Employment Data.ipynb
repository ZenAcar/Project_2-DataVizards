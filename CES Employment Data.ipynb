{
 "cells": [
  {
   "cell_type": "code",
   "execution_count": 1,
   "metadata": {
    "ExecuteTime": {
     "end_time": "2020-06-04T03:07:05.726130Z",
     "start_time": "2020-06-04T03:07:05.723130Z"
    }
   },
   "outputs": [],
   "source": [
    "# May need to install these....\n",
    "# uncomment if unsure\n",
    "#!pip install wget\n",
    "#!pip install dtale"
   ]
  },
  {
   "cell_type": "code",
   "execution_count": 2,
   "metadata": {
    "ExecuteTime": {
     "end_time": "2020-06-04T03:07:08.393180Z",
     "start_time": "2020-06-04T03:07:05.729129Z"
    }
   },
   "outputs": [],
   "source": [
    "import pandas as pd\n",
    "import numpy as np\n",
    "import os\n",
    "\n",
    "import dtale # data Frame visualization\n",
    "import wget"
   ]
  },
  {
   "cell_type": "markdown",
   "metadata": {},
   "source": [
    "# Download the data\n",
    "\n",
    "Download Current employment statistics from [US Bureau of Labor Statics website](https://www.bls.gov/)\n",
    "\n",
    "\n",
    "Data Dictionary\n",
    "https://download.bls.gov/pub/time.series/ce/ce.txt\n",
    "\n"
   ]
  },
  {
   "cell_type": "code",
   "execution_count": 3,
   "metadata": {
    "ExecuteTime": {
     "end_time": "2020-06-04T03:07:15.909198Z",
     "start_time": "2020-06-04T03:07:08.395177Z"
    }
   },
   "outputs": [],
   "source": [
    "# Check if file has ben downloaded if not download the file\n",
    "# This could take a while first time downloading the files (over 5 mins)\n",
    "# Does this qualify as web scraping? :-)\n",
    "CESFileName = 'resources/AllCESSeries.txt'\n",
    "SeriesFileName = 'resources/CESSeries.txt'\n",
    "IndustryFileName = 'resources/CESIndustries.txt'\n",
    "SuperSectorFileName = 'resources\\CESSuperSector.txt'\n",
    "DataTypeCodesFileName = 'resources\\CESDataTypeCodes.txt'\n",
    "\n",
    "SeriesShortFileName = 'resources\\CESSeries_short.csv'\n",
    "\n",
    "if not os.path.exists(CESFileName) :\n",
    "    url = \"https://download.bls.gov/pub/time.series/ce/ce.data.0.AllCESSeries\"\n",
    "    wget.download(url,CESFileName)\n",
    "    \n",
    "    url = \"https://download.bls.gov/pub/time.series/ce/ce.series\"    \n",
    "    wget.download(url,SeriesFileName)\n",
    "    \n",
    "    url = \"https://download.bls.gov/pub/time.series/ce/ce.industry\"    \n",
    "    wget.download(url,IndustryFileName)  \n",
    "\n",
    "    url = \"https://download.bls.gov/pub/time.series/ce/ce.supersector\"    \n",
    "    wget.download(url,SuperSectorFileName)  \n",
    "\n",
    "    url = \"https://download.bls.gov/pub/time.series/ce/ce.datatype\"    \n",
    "    wget.download(url,DataTypeCodesFileName)  \n",
    "    \n",
    "\n",
    "allCES =  pd.read_table(CESFileName, sep='\\t', header=0,names=['series_id', 'year', 'period', 'value', 'footnote_codes'])    \n",
    "\n",
    "seriesDF =  pd.read_table(SeriesFileName, sep='\\t', header=0,\n",
    "                          names=['series_id', 'supersector_code','industry_code','data_type_code', 'seasonal', 'series_title', 'footnote_codes','begin_year', 'begin_period', 'end_year', 'end_period'],\n",
    "                          dtype = {'supersector_code':np.str_,  'industry_code':np.str_,'data_type_code':np.str_})    \n",
    "\n",
    "industriesDF =  pd.read_table(IndustryFileName, sep='\\t', header=0,dtype={'industry_code':np.str_,'naics_code':np.str_})    \n",
    "\n",
    "\n",
    "SuperSectorDF =  pd.read_table(SuperSectorFileName, sep='\\t', header=0,names=['supersector_code','supersector_name'],\n",
    "                               dtype={'supersector_code':np.str_})    \n",
    "\n",
    "DataTypeCodesDF =  pd.read_table(DataTypeCodesFileName, sep='\\t', header=0,names=['data_type_code','data_type_text'],\n",
    "                               dtype={'data_type_code':np.str_})    \n",
    "\n",
    "seriesShortDF =  pd.read_csv(SeriesShortFileName ) \n",
    "\n",
    "#Clean up spaces on the series_id\n",
    "allCES['series_id'] = allCES['series_id'].str.strip()\n",
    "seriesDF['series_id'] = seriesDF['series_id'].str.strip()\n"
   ]
  },
  {
   "cell_type": "code",
   "execution_count": 4,
   "metadata": {
    "ExecuteTime": {
     "end_time": "2020-06-04T03:07:18.797323Z",
     "start_time": "2020-06-04T03:07:15.912179Z"
    }
   },
   "outputs": [],
   "source": [
    "# Split Industry from Series ID\n",
    "allCES['industry_code'] = allCES['series_id'].str.slice(3,11)\n",
    "\n",
    "seriesDF.drop(['begin_year', 'begin_period', 'end_year', 'end_period'],1,inplace=True)\n",
    "\n"
   ]
  },
  {
   "cell_type": "code",
   "execution_count": 5,
   "metadata": {
    "ExecuteTime": {
     "end_time": "2020-06-04T03:07:23.115305Z",
     "start_time": "2020-06-04T03:07:18.804307Z"
    }
   },
   "outputs": [
    {
     "data": {
      "text/plain": [
       "(804591, 6)"
      ]
     },
     "execution_count": 5,
     "metadata": {},
     "output_type": "execute_result"
    }
   ],
   "source": [
    "# Only interested in 2020\n",
    "# CES Seasonally Adjusted\n",
    "condition = allCES['year'].isin([2015,2016,2017,2018,2019,2020]) & allCES['series_id'].str.startswith('CES')\n",
    "CES2020DF = allCES[condition]\n",
    "CES2020DF.shape"
   ]
  },
  {
   "cell_type": "code",
   "execution_count": 6,
   "metadata": {
    "ExecuteTime": {
     "end_time": "2020-06-04T03:07:23.704309Z",
     "start_time": "2020-06-04T03:07:23.117307Z"
    }
   },
   "outputs": [
    {
     "name": "stderr",
     "output_type": "stream",
     "text": [
      "e:\\Anaconda3\\envs\\PythonData\\lib\\site-packages\\ipykernel_launcher.py:4: SettingWithCopyWarning:\n",
      "\n",
      "\n",
      "A value is trying to be set on a copy of a slice from a DataFrame.\n",
      "Try using .loc[row_indexer,col_indexer] = value instead\n",
      "\n",
      "See the caveats in the documentation: https://pandas.pydata.org/pandas-docs/stable/user_guide/indexing.html#returning-a-view-versus-a-copy\n",
      "\n",
      "e:\\Anaconda3\\envs\\PythonData\\lib\\site-packages\\pandas\\core\\frame.py:3997: SettingWithCopyWarning:\n",
      "\n",
      "\n",
      "A value is trying to be set on a copy of a slice from a DataFrame\n",
      "\n",
      "See the caveats in the documentation: https://pandas.pydata.org/pandas-docs/stable/user_guide/indexing.html#returning-a-view-versus-a-copy\n",
      "\n"
     ]
    }
   ],
   "source": [
    "# Get month from period and dop period\n",
    "# month 13 Annual Average      \n",
    "# https://download.bls.gov/pub/time.series/ce/ce.period\n",
    "CES2020DF['Month'] = CES2020DF['period'].str.replace('M','').astype(int)\n",
    "CES2020DF.drop('period',1,inplace=True)"
   ]
  },
  {
   "cell_type": "code",
   "execution_count": 7,
   "metadata": {
    "ExecuteTime": {
     "end_time": "2020-06-04T03:07:24.359307Z",
     "start_time": "2020-06-04T03:07:23.707309Z"
    }
   },
   "outputs": [
    {
     "data": {
      "text/plain": [
       "(804591, 12)"
      ]
     },
     "execution_count": 7,
     "metadata": {},
     "output_type": "execute_result"
    }
   ],
   "source": [
    "# Merge with Industry\n",
    "CES2020DF = pd.merge(CES2020DF,industriesDF,on='industry_code',how='left')\n",
    "CES2020DF.shape"
   ]
  },
  {
   "cell_type": "code",
   "execution_count": 8,
   "metadata": {
    "ExecuteTime": {
     "end_time": "2020-06-04T03:07:24.794310Z",
     "start_time": "2020-06-04T03:07:24.363311Z"
    }
   },
   "outputs": [
    {
     "data": {
      "text/plain": [
       "(804591, 18)"
      ]
     },
     "execution_count": 8,
     "metadata": {},
     "output_type": "execute_result"
    }
   ],
   "source": [
    "# Merge with Series DF\n",
    "CES2020DF = pd.merge(CES2020DF,seriesDF,on='series_id',how='left')\n",
    "CES2020DF.shape\n"
   ]
  },
  {
   "cell_type": "code",
   "execution_count": 9,
   "metadata": {
    "ExecuteTime": {
     "end_time": "2020-06-04T03:07:25.169304Z",
     "start_time": "2020-06-04T03:07:24.796310Z"
    }
   },
   "outputs": [
    {
     "data": {
      "text/plain": [
       "(804591, 19)"
      ]
     },
     "execution_count": 9,
     "metadata": {},
     "output_type": "execute_result"
    }
   ],
   "source": [
    "# Merge with SupoerSector DF\n",
    "CES2020DF = pd.merge(CES2020DF,SuperSectorDF,on='supersector_code',how='left')\n",
    "CES2020DF.shape"
   ]
  },
  {
   "cell_type": "code",
   "execution_count": 10,
   "metadata": {
    "ExecuteTime": {
     "end_time": "2020-06-04T03:07:25.589314Z",
     "start_time": "2020-06-04T03:07:25.171308Z"
    }
   },
   "outputs": [
    {
     "data": {
      "text/plain": [
       "(804591, 20)"
      ]
     },
     "execution_count": 10,
     "metadata": {},
     "output_type": "execute_result"
    }
   ],
   "source": [
    "# Merge with DataTypeCodesDF\n",
    "CES2020DF = pd.merge(CES2020DF,DataTypeCodesDF,on='data_type_code',how='left')\n",
    "CES2020DF.shape"
   ]
  },
  {
   "cell_type": "code",
   "execution_count": 11,
   "metadata": {
    "ExecuteTime": {
     "end_time": "2020-06-04T03:07:25.978307Z",
     "start_time": "2020-06-04T03:07:25.593314Z"
    }
   },
   "outputs": [
    {
     "data": {
      "text/plain": [
       "(97155, 20)"
      ]
     },
     "execution_count": 11,
     "metadata": {},
     "output_type": "execute_result"
    }
   ],
   "source": [
    "# data_type_code  = 1 all\n",
    "# data_type_code  = 10  Women employees\n",
    "# Assume Men =   all - Women\n",
    "\n",
    "condition = CES2020DF['data_type_code'].isin(['01','10'])\n",
    "CES2020DF = CES2020DF[condition]\n",
    "\n",
    "CES2020DF.shape\n",
    "\n"
   ]
  },
  {
   "cell_type": "code",
   "execution_count": 12,
   "metadata": {
    "ExecuteTime": {
     "end_time": "2020-06-04T03:07:26.009308Z",
     "start_time": "2020-06-04T03:07:25.980307Z"
    }
   },
   "outputs": [],
   "source": [
    "#CES2020DF.columns\n",
    "\n",
    "CES2020DF.drop(['seasonal','footnote_codes_x','naics_code','industry_name','display_level','selectable','sort_sequence','industry_code_y','footnote_codes_y','publishing_status'],1,inplace=True)\n"
   ]
  },
  {
   "cell_type": "code",
   "execution_count": 13,
   "metadata": {
    "ExecuteTime": {
     "end_time": "2020-06-04T03:07:26.041310Z",
     "start_time": "2020-06-04T03:07:26.011307Z"
    }
   },
   "outputs": [
    {
     "data": {
      "text/plain": [
       "(3958, 10)"
      ]
     },
     "execution_count": 13,
     "metadata": {},
     "output_type": "execute_result"
    }
   ],
   "source": [
    "industries_codes = {\"Total Nonfarm\":\"00000000\", \"Total Private\":\"05000000\",  \"Goods Producing\":\"06000000\", \"Service-Providing\":\"07000000\", \n",
    "\"Private Service Providing\":\"08000000\",\"Mining and Logging\":\"10000000\",\"Mining, Logging and Construction\":\"15000000\",\n",
    "\"Construction\":\"20000000\",\"Manufacturing\":\"30000000\",\"Durable Goods\":\"31000000\",\"Non-Durable Goods\":\"32000000\",\n",
    "\"Trade, Transportation, and Utilities\":\"40000000\",\"Wholesale Trade\":\"41000000\",\"Retail Trade\":\"42000000\",\n",
    "\"Transportation, Warehousing, and Utilities\":\"43000000\",\"Information\":\"50000000\",\"Financial Activities\":\"55000000\",\n",
    "\"Finance and Insurance\":\"55520000\",\"Real Estate and Rental and Leasing\":\"55530000\",\"Professional and Business Services\":\"60000000\", \n",
    "\"Professional, Scientific, and Technical Services\":\"60540000\", \"Management of Companies and Enterprises\":\"60550000\", \n",
    "\"Administrative and Support and Waste Mgt\":\"60560000\", \"Education and Health Services\":\"65000000\", \n",
    "\"Educational Services\":\"65610000\", \"Health Care and Social Assistance\":\"65620000\", \"Leisure and Hospitality\":\"70000000\",\n",
    "\"Arts, Entertainment, and Recreation\":\"70710000\",\"Accommodation and Food Services\":\"70720000\", \"Other Services\":\"80000000\", \n",
    "\"Government\":\"90000000\",\"Federal Government\":\"90910000\",\"State Government\":\"90920000\",\"Local Government\":\"90930000\"}\n",
    "\n",
    "codes =[ v for v in industries_codes.values() ]\n",
    "\n",
    "condition = CES2020DF['industry_code_x'].isin(codes)\n",
    "CES2020DF = CES2020DF[condition]\n",
    "CES2020DF.shape\n"
   ]
  },
  {
   "cell_type": "code",
   "execution_count": 14,
   "metadata": {
    "ExecuteTime": {
     "end_time": "2020-06-04T03:07:26.056320Z",
     "start_time": "2020-06-04T03:07:26.043308Z"
    }
   },
   "outputs": [
    {
     "data": {
      "text/plain": [
       "(3958, 11)"
      ]
     },
     "execution_count": 14,
     "metadata": {},
     "output_type": "execute_result"
    }
   ],
   "source": [
    "CES2020DF = pd.merge(CES2020DF,seriesShortDF,on='series_id',how='left')\n",
    "CES2020DF.shape\n",
    "\n"
   ]
  },
  {
   "cell_type": "code",
   "execution_count": 15,
   "metadata": {
    "ExecuteTime": {
     "end_time": "2020-06-04T03:07:44.680818Z",
     "start_time": "2020-06-04T03:07:26.060310Z"
    }
   },
   "outputs": [],
   "source": [
    "# Browse the data\n",
    "# uncomment the following lines to browse the data\n",
    "d = dtale.show(CES2020DF, ignore_duplicate=True)\n",
    "d.open_browser()"
   ]
  },
  {
   "cell_type": "code",
   "execution_count": 16,
   "metadata": {
    "ExecuteTime": {
     "end_time": "2020-06-04T03:07:44.802817Z",
     "start_time": "2020-06-04T03:07:44.682818Z"
    }
   },
   "outputs": [],
   "source": [
    "CES2020DF.to_pickle(\"resources/CES2020.pkl\",compression='gzip')"
   ]
  },
  {
   "cell_type": "code",
   "execution_count": 17,
   "metadata": {
    "ExecuteTime": {
     "end_time": "2020-06-04T03:07:44.817819Z",
     "start_time": "2020-06-04T03:07:44.804817Z"
    }
   },
   "outputs": [],
   "source": [
    "# to load Picke file use the following once pickle has been generated\n",
    "CES2020DF_2=pd.read_pickle('resources/CES2020.pkl',compression='gzip')"
   ]
  },
  {
   "cell_type": "code",
   "execution_count": null,
   "metadata": {},
   "outputs": [],
   "source": []
  }
 ],
 "metadata": {
  "kernelspec": {
   "display_name": "Python 3.6.10 64-bit ('PythonData': conda)",
   "language": "python",
   "name": "python361064bitpythondatacondaec7e8270480d4d8a925de6dc1659eacb"
  },
  "language_info": {
   "codemirror_mode": {
    "name": "ipython",
    "version": 3
   },
   "file_extension": ".py",
   "mimetype": "text/x-python",
   "name": "python",
   "nbconvert_exporter": "python",
   "pygments_lexer": "ipython3",
   "version": "3.6.10"
  }
 },
 "nbformat": 4,
 "nbformat_minor": 4
}
