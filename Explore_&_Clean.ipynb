{
 "cells": [
  {
   "cell_type": "code",
   "execution_count": 10,
   "metadata": {},
   "outputs": [
    {
     "name": "stdout",
     "output_type": "stream",
     "text": [
      "Collecting pandas_profiling\n",
      "  Using cached https://files.pythonhosted.org/packages/b9/94/ef8ef4517540d13406fcc0b8adfd75336e014242c69bd4162ab46931f36a/pandas_profiling-2.8.0-py2.py3-none-any.whl\n",
      "Collecting phik>=0.9.10 (from pandas_profiling)\n",
      "  Using cached https://files.pythonhosted.org/packages/01/5a/7ef1c04ce62cd72f900c06298dc2385840550d5c653a0dbc19109a5477e6/phik-0.10.0-py3-none-any.whl\n",
      "Requirement already satisfied: tqdm>=4.43.0 in c:\\users\\danjr\\anaconda3\\lib\\site-packages (from pandas_profiling) (4.46.0)\n",
      "Requirement already satisfied: ipywidgets>=7.5.1 in c:\\users\\danjr\\anaconda3\\lib\\site-packages (from pandas_profiling) (7.5.1)\n",
      "Collecting confuse>=1.0.0 (from pandas_profiling)\n",
      "Collecting visions[type_image_path]==0.4.4 (from pandas_profiling)\n",
      "  Using cached https://files.pythonhosted.org/packages/4a/03/5a45d542257830cf1d9da2cdc1c0bc6f55a9212937b70fdd6d7031b46d6c/visions-0.4.4-py3-none-any.whl\n",
      "Collecting requests>=2.23.0 (from pandas_profiling)\n",
      "  Using cached https://files.pythonhosted.org/packages/1a/70/1935c770cb3be6e3a8b78ced23d7e0f3b187f5cbfab4749523ed65d7c9b1/requests-2.23.0-py2.py3-none-any.whl\n",
      "Requirement already satisfied: joblib in c:\\users\\danjr\\anaconda3\\lib\\site-packages (from pandas_profiling) (0.13.2)\n",
      "Requirement already satisfied: htmlmin>=0.1.12 in c:\\users\\danjr\\anaconda3\\lib\\site-packages (from pandas_profiling) (0.1.12)\n",
      "Requirement already satisfied: numpy>=1.16.0 in c:\\users\\danjr\\anaconda3\\lib\\site-packages (from pandas_profiling) (1.16.5)\n",
      "Collecting pandas!=1.0.0,!=1.0.1,!=1.0.2,>=0.25.3 (from pandas_profiling)\n",
      "  Using cached https://files.pythonhosted.org/packages/1d/eb/b4f68f54ad287d583c9c3b3c77f865615f832f092810f20d2b44498cd06c/pandas-1.0.4-cp37-cp37m-win_amd64.whl\n",
      "Requirement already satisfied: astropy>=4.0 in c:\\users\\danjr\\anaconda3\\lib\\site-packages (from pandas_profiling) (4.0.1.post1)\n",
      "Collecting tangled-up-in-unicode>=0.0.6 (from pandas_profiling)\n",
      "  Using cached https://files.pythonhosted.org/packages/4a/e2/e588ab9298d4989ce7fdb2b97d18aac878d99dbdc379a4476a09d9271b68/tangled_up_in_unicode-0.0.6-py3-none-any.whl\n",
      "Collecting scipy>=1.4.1 (from pandas_profiling)\n",
      "  Using cached https://files.pythonhosted.org/packages/61/51/046cbc61c7607e5ecead6ff1a9453fba5e7e47a5ea8d608cc7036586a5ef/scipy-1.4.1-cp37-cp37m-win_amd64.whl\n",
      "Requirement already satisfied (use --upgrade to upgrade): scipy>=1.4.1 from https://files.pythonhosted.org/packages/61/51/046cbc61c7607e5ecead6ff1a9453fba5e7e47a5ea8d608cc7036586a5ef/scipy-1.4.1-cp37-cp37m-win_amd64.whl#sha256=a2d6df9eb074af7f08866598e4ef068a2b310d98f87dc23bd1b90ec7bdcec802 in c:\\users\\danjr\\anaconda3\\lib\\site-packages (from pandas_profiling)\n",
      "Collecting jinja2>=2.11.1 (from pandas_profiling)\n",
      "  Using cached https://files.pythonhosted.org/packages/30/9e/f663a2aa66a09d838042ae1a2c5659828bb9b41ea3a6efa20a20fd92b121/Jinja2-2.11.2-py2.py3-none-any.whl\n",
      "Requirement already satisfied: matplotlib>=3.2.0 in c:\\users\\danjr\\anaconda3\\lib\\site-packages (from pandas_profiling) (3.2.1)\n",
      "Collecting missingno>=0.4.2 (from pandas_profiling)\n",
      "  Using cached https://files.pythonhosted.org/packages/2b/de/6e4dd6d720c49939544352155dc06a08c9f7e4271aa631a559dfbeaaf9d4/missingno-0.4.2-py3-none-any.whl\n",
      "Requirement already satisfied: numba>=0.38.1 in c:\\users\\danjr\\anaconda3\\lib\\site-packages (from phik>=0.9.10->pandas_profiling) (0.45.1)\n",
      "Requirement already satisfied: ipykernel>=4.5.1 in c:\\users\\danjr\\anaconda3\\lib\\site-packages (from ipywidgets>=7.5.1->pandas_profiling) (5.1.2)\n",
      "Requirement already satisfied: nbformat>=4.2.0 in c:\\users\\danjr\\anaconda3\\lib\\site-packages (from ipywidgets>=7.5.1->pandas_profiling) (4.4.0)\n",
      "Requirement already satisfied: traitlets>=4.3.1 in c:\\users\\danjr\\anaconda3\\lib\\site-packages (from ipywidgets>=7.5.1->pandas_profiling) (4.3.3)\n",
      "Requirement already satisfied: ipython>=4.0.0; python_version >= \"3.3\" in c:\\users\\danjr\\anaconda3\\lib\\site-packages (from ipywidgets>=7.5.1->pandas_profiling) (7.8.0)\n",
      "Requirement already satisfied: widgetsnbextension~=3.5.0 in c:\\users\\danjr\\anaconda3\\lib\\site-packages (from ipywidgets>=7.5.1->pandas_profiling) (3.5.1)\n",
      "Requirement already satisfied: pyyaml in c:\\users\\danjr\\anaconda3\\lib\\site-packages (from confuse>=1.0.0->pandas_profiling) (5.1.2)\n",
      "Collecting attrs>=19.3.0 (from visions[type_image_path]==0.4.4->pandas_profiling)\n",
      "  Using cached https://files.pythonhosted.org/packages/a2/db/4313ab3be961f7a763066401fb77f7748373b6094076ae2bda2806988af6/attrs-19.3.0-py2.py3-none-any.whl\n",
      "Collecting networkx>=2.4 (from visions[type_image_path]==0.4.4->pandas_profiling)\n",
      "  Using cached https://files.pythonhosted.org/packages/41/8f/dd6a8e85946def36e4f2c69c84219af0fa5e832b018c970e92f2ad337e45/networkx-2.4-py3-none-any.whl\n",
      "Collecting imagehash; extra == \"type_image_path\" (from visions[type_image_path]==0.4.4->pandas_profiling)\n",
      "Requirement already satisfied: Pillow; extra == \"type_image_path\" in c:\\users\\danjr\\anaconda3\\lib\\site-packages (from visions[type_image_path]==0.4.4->pandas_profiling) (6.2.0)\n",
      "Requirement already satisfied: idna<3,>=2.5 in c:\\users\\danjr\\anaconda3\\lib\\site-packages (from requests>=2.23.0->pandas_profiling) (2.8)\n",
      "Requirement already satisfied: urllib3!=1.25.0,!=1.25.1,<1.26,>=1.21.1 in c:\\users\\danjr\\anaconda3\\lib\\site-packages (from requests>=2.23.0->pandas_profiling) (1.24.2)\n",
      "Requirement already satisfied: chardet<4,>=3.0.2 in c:\\users\\danjr\\anaconda3\\lib\\site-packages (from requests>=2.23.0->pandas_profiling) (3.0.4)\n",
      "Requirement already satisfied: certifi>=2017.4.17 in c:\\users\\danjr\\anaconda3\\lib\\site-packages (from requests>=2.23.0->pandas_profiling) (2019.9.11)\n",
      "Requirement already satisfied: pytz>=2017.2 in c:\\users\\danjr\\anaconda3\\lib\\site-packages (from pandas!=1.0.0,!=1.0.1,!=1.0.2,>=0.25.3->pandas_profiling) (2019.3)\n",
      "Requirement already satisfied: python-dateutil>=2.6.1 in c:\\users\\danjr\\anaconda3\\lib\\site-packages (from pandas!=1.0.0,!=1.0.1,!=1.0.2,>=0.25.3->pandas_profiling) (2.8.0)\n",
      "Requirement already satisfied: MarkupSafe>=0.23 in c:\\users\\danjr\\anaconda3\\lib\\site-packages (from jinja2>=2.11.1->pandas_profiling) (1.1.1)\n",
      "Requirement already satisfied: cycler>=0.10 in c:\\users\\danjr\\anaconda3\\lib\\site-packages (from matplotlib>=3.2.0->pandas_profiling) (0.10.0)\n",
      "Requirement already satisfied: kiwisolver>=1.0.1 in c:\\users\\danjr\\anaconda3\\lib\\site-packages (from matplotlib>=3.2.0->pandas_profiling) (1.1.0)\n",
      "Requirement already satisfied: pyparsing!=2.0.4,!=2.1.2,!=2.1.6,>=2.0.1 in c:\\users\\danjr\\anaconda3\\lib\\site-packages (from matplotlib>=3.2.0->pandas_profiling) (2.4.2)\n",
      "Requirement already satisfied: seaborn in c:\\users\\danjr\\anaconda3\\lib\\site-packages (from missingno>=0.4.2->pandas_profiling) (0.9.0)\n",
      "Requirement already satisfied: llvmlite>=0.29.0dev0 in c:\\users\\danjr\\anaconda3\\lib\\site-packages (from numba>=0.38.1->phik>=0.9.10->pandas_profiling) (0.29.0)\n",
      "Requirement already satisfied: jupyter-client in c:\\users\\danjr\\anaconda3\\lib\\site-packages (from ipykernel>=4.5.1->ipywidgets>=7.5.1->pandas_profiling) (5.3.3)\n",
      "Requirement already satisfied: tornado>=4.2 in c:\\users\\danjr\\anaconda3\\lib\\site-packages (from ipykernel>=4.5.1->ipywidgets>=7.5.1->pandas_profiling) (6.0.3)\n",
      "Requirement already satisfied: ipython-genutils in c:\\users\\danjr\\anaconda3\\lib\\site-packages (from nbformat>=4.2.0->ipywidgets>=7.5.1->pandas_profiling) (0.2.0)\n",
      "Requirement already satisfied: jupyter-core in c:\\users\\danjr\\anaconda3\\lib\\site-packages (from nbformat>=4.2.0->ipywidgets>=7.5.1->pandas_profiling) (4.5.0)\n",
      "Requirement already satisfied: jsonschema!=2.5.0,>=2.4 in c:\\users\\danjr\\anaconda3\\lib\\site-packages (from nbformat>=4.2.0->ipywidgets>=7.5.1->pandas_profiling) (3.0.2)\n",
      "Requirement already satisfied: decorator in c:\\users\\danjr\\anaconda3\\lib\\site-packages (from traitlets>=4.3.1->ipywidgets>=7.5.1->pandas_profiling) (4.4.0)\n",
      "Requirement already satisfied: six in c:\\users\\danjr\\anaconda3\\lib\\site-packages (from traitlets>=4.3.1->ipywidgets>=7.5.1->pandas_profiling) (1.12.0)\n",
      "Requirement already satisfied: backcall in c:\\users\\danjr\\anaconda3\\lib\\site-packages (from ipython>=4.0.0; python_version >= \"3.3\"->ipywidgets>=7.5.1->pandas_profiling) (0.1.0)\n",
      "Requirement already satisfied: prompt-toolkit<2.1.0,>=2.0.0 in c:\\users\\danjr\\anaconda3\\lib\\site-packages (from ipython>=4.0.0; python_version >= \"3.3\"->ipywidgets>=7.5.1->pandas_profiling) (2.0.10)\n",
      "Requirement already satisfied: pygments in c:\\users\\danjr\\anaconda3\\lib\\site-packages (from ipython>=4.0.0; python_version >= \"3.3\"->ipywidgets>=7.5.1->pandas_profiling) (2.4.2)\n",
      "Requirement already satisfied: setuptools>=18.5 in c:\\users\\danjr\\anaconda3\\lib\\site-packages (from ipython>=4.0.0; python_version >= \"3.3\"->ipywidgets>=7.5.1->pandas_profiling) (41.4.0)\n",
      "Requirement already satisfied: colorama; sys_platform == \"win32\" in c:\\users\\danjr\\anaconda3\\lib\\site-packages (from ipython>=4.0.0; python_version >= \"3.3\"->ipywidgets>=7.5.1->pandas_profiling) (0.4.1)\n",
      "Requirement already satisfied: pickleshare in c:\\users\\danjr\\anaconda3\\lib\\site-packages (from ipython>=4.0.0; python_version >= \"3.3\"->ipywidgets>=7.5.1->pandas_profiling) (0.7.5)\n",
      "Requirement already satisfied: jedi>=0.10 in c:\\users\\danjr\\anaconda3\\lib\\site-packages (from ipython>=4.0.0; python_version >= \"3.3\"->ipywidgets>=7.5.1->pandas_profiling) (0.15.1)\n",
      "Requirement already satisfied: notebook>=4.4.1 in c:\\users\\danjr\\anaconda3\\lib\\site-packages (from widgetsnbextension~=3.5.0->ipywidgets>=7.5.1->pandas_profiling) (6.0.1)\n",
      "Requirement already satisfied: PyWavelets in c:\\users\\danjr\\anaconda3\\lib\\site-packages (from imagehash; extra == \"type_image_path\"->visions[type_image_path]==0.4.4->pandas_profiling) (1.0.3)\n",
      "Requirement already satisfied: pyzmq>=13 in c:\\users\\danjr\\anaconda3\\lib\\site-packages (from jupyter-client->ipykernel>=4.5.1->ipywidgets>=7.5.1->pandas_profiling) (18.1.0)\n",
      "Requirement already satisfied: pywin32>=1.0; sys_platform == \"win32\" in c:\\users\\danjr\\anaconda3\\lib\\site-packages (from jupyter-client->ipykernel>=4.5.1->ipywidgets>=7.5.1->pandas_profiling) (223)\n",
      "Requirement already satisfied: pyrsistent>=0.14.0 in c:\\users\\danjr\\anaconda3\\lib\\site-packages (from jsonschema!=2.5.0,>=2.4->nbformat>=4.2.0->ipywidgets>=7.5.1->pandas_profiling) (0.15.4)\n",
      "Requirement already satisfied: wcwidth in c:\\users\\danjr\\anaconda3\\lib\\site-packages (from prompt-toolkit<2.1.0,>=2.0.0->ipython>=4.0.0; python_version >= \"3.3\"->ipywidgets>=7.5.1->pandas_profiling) (0.1.7)\n",
      "Requirement already satisfied: parso>=0.5.0 in c:\\users\\danjr\\anaconda3\\lib\\site-packages (from jedi>=0.10->ipython>=4.0.0; python_version >= \"3.3\"->ipywidgets>=7.5.1->pandas_profiling) (0.5.1)\n",
      "Requirement already satisfied: Send2Trash in c:\\users\\danjr\\anaconda3\\lib\\site-packages (from notebook>=4.4.1->widgetsnbextension~=3.5.0->ipywidgets>=7.5.1->pandas_profiling) (1.5.0)\n",
      "Requirement already satisfied: prometheus-client in c:\\users\\danjr\\anaconda3\\lib\\site-packages (from notebook>=4.4.1->widgetsnbextension~=3.5.0->ipywidgets>=7.5.1->pandas_profiling) (0.7.1)\n",
      "Requirement already satisfied: terminado>=0.8.1 in c:\\users\\danjr\\anaconda3\\lib\\site-packages (from notebook>=4.4.1->widgetsnbextension~=3.5.0->ipywidgets>=7.5.1->pandas_profiling) (0.8.2)\n",
      "Requirement already satisfied: nbconvert in c:\\users\\danjr\\anaconda3\\lib\\site-packages (from notebook>=4.4.1->widgetsnbextension~=3.5.0->ipywidgets>=7.5.1->pandas_profiling) (5.6.0)\n",
      "Requirement already satisfied: defusedxml in c:\\users\\danjr\\anaconda3\\lib\\site-packages (from nbconvert->notebook>=4.4.1->widgetsnbextension~=3.5.0->ipywidgets>=7.5.1->pandas_profiling) (0.6.0)\n",
      "Requirement already satisfied: mistune<2,>=0.8.1 in c:\\users\\danjr\\anaconda3\\lib\\site-packages (from nbconvert->notebook>=4.4.1->widgetsnbextension~=3.5.0->ipywidgets>=7.5.1->pandas_profiling) (0.8.4)\n",
      "Requirement already satisfied: entrypoints>=0.2.2 in c:\\users\\danjr\\anaconda3\\lib\\site-packages (from nbconvert->notebook>=4.4.1->widgetsnbextension~=3.5.0->ipywidgets>=7.5.1->pandas_profiling) (0.3)\n",
      "Requirement already satisfied: testpath in c:\\users\\danjr\\anaconda3\\lib\\site-packages (from nbconvert->notebook>=4.4.1->widgetsnbextension~=3.5.0->ipywidgets>=7.5.1->pandas_profiling) (0.4.2)\n",
      "Requirement already satisfied: bleach in c:\\users\\danjr\\anaconda3\\lib\\site-packages (from nbconvert->notebook>=4.4.1->widgetsnbextension~=3.5.0->ipywidgets>=7.5.1->pandas_profiling) (3.1.0)\n",
      "Requirement already satisfied: pandocfilters>=1.4.1 in c:\\users\\danjr\\anaconda3\\lib\\site-packages (from nbconvert->notebook>=4.4.1->widgetsnbextension~=3.5.0->ipywidgets>=7.5.1->pandas_profiling) (1.4.2)\n",
      "Requirement already satisfied: webencodings in c:\\users\\danjr\\anaconda3\\lib\\site-packages (from bleach->nbconvert->notebook>=4.4.1->widgetsnbextension~=3.5.0->ipywidgets>=7.5.1->pandas_profiling) (0.5.1)\n",
      "Installing collected packages: pandas, phik, confuse, attrs, tangled-up-in-unicode, networkx, imagehash, visions, requests, jinja2, missingno, pandas-profiling\n",
      "  Found existing installation: pandas 0.25.1\n",
      "    Can't uninstall 'pandas'. No files were found to uninstall.\n",
      "  Found existing installation: attrs 19.2.0\n",
      "    Uninstalling attrs-19.2.0:\n",
      "      Successfully uninstalled attrs-19.2.0\n",
      "  Found existing installation: networkx 2.3\n",
      "    Uninstalling networkx-2.3:\n",
      "      Successfully uninstalled networkx-2.3\n",
      "  Found existing installation: requests 2.22.0\n",
      "    Uninstalling requests-2.22.0:\n",
      "      Successfully uninstalled requests-2.22.0\n",
      "  Found existing installation: Jinja2 2.10.3\n",
      "    Uninstalling Jinja2-2.10.3:\n",
      "      Successfully uninstalled Jinja2-2.10.3\n",
      "Successfully installed attrs-19.3.0 confuse-1.1.0 imagehash-4.1.0 jinja2-2.11.2 missingno-0.4.2 networkx-2.4 pandas-1.0.4 pandas-profiling-2.8.0 phik-0.10.0 requests-2.23.0 tangled-up-in-unicode-0.0.6 visions-0.4.4\n"
     ]
    },
    {
     "name": "stderr",
     "output_type": "stream",
     "text": [
      "ERROR: Error checking for conflicts.\n",
      "Traceback (most recent call last):\n",
      "  File \"C:\\Users\\danjr\\Anaconda3\\lib\\site-packages\\pip\\_vendor\\pkg_resources\\__init__.py\", line 3012, in _dep_map\n",
      "    return self.__dep_map\n",
      "  File \"C:\\Users\\danjr\\Anaconda3\\lib\\site-packages\\pip\\_vendor\\pkg_resources\\__init__.py\", line 2806, in __getattr__\n",
      "    raise AttributeError(attr)\n",
      "AttributeError: _DistInfoDistribution__dep_map\n",
      "\n",
      "During handling of the above exception, another exception occurred:\n",
      "\n",
      "Traceback (most recent call last):\n",
      "  File \"C:\\Users\\danjr\\Anaconda3\\lib\\site-packages\\pip\\_vendor\\pkg_resources\\__init__.py\", line 3003, in _parsed_pkg_info\n",
      "    return self._pkg_info\n",
      "  File \"C:\\Users\\danjr\\Anaconda3\\lib\\site-packages\\pip\\_vendor\\pkg_resources\\__init__.py\", line 2806, in __getattr__\n",
      "    raise AttributeError(attr)\n",
      "AttributeError: _pkg_info\n",
      "\n",
      "During handling of the above exception, another exception occurred:\n",
      "\n",
      "Traceback (most recent call last):\n",
      "  File \"C:\\Users\\danjr\\Anaconda3\\lib\\site-packages\\pip\\_internal\\commands\\install.py\", line 517, in _warn_about_conflicts\n",
      "    package_set, _dep_info = check_install_conflicts(to_install)\n",
      "  File \"C:\\Users\\danjr\\Anaconda3\\lib\\site-packages\\pip\\_internal\\operations\\check.py\", line 110, in check_install_conflicts\n",
      "    package_set, _ = create_package_set_from_installed()\n",
      "  File \"C:\\Users\\danjr\\Anaconda3\\lib\\site-packages\\pip\\_internal\\operations\\check.py\", line 49, in create_package_set_from_installed\n",
      "    package_set[name] = PackageDetails(dist.version, dist.requires())\n",
      "  File \"C:\\Users\\danjr\\Anaconda3\\lib\\site-packages\\pip\\_vendor\\pkg_resources\\__init__.py\", line 2727, in requires\n",
      "    dm = self._dep_map\n",
      "  File \"C:\\Users\\danjr\\Anaconda3\\lib\\site-packages\\pip\\_vendor\\pkg_resources\\__init__.py\", line 3014, in _dep_map\n",
      "    self.__dep_map = self._compute_dependencies()\n",
      "  File \"C:\\Users\\danjr\\Anaconda3\\lib\\site-packages\\pip\\_vendor\\pkg_resources\\__init__.py\", line 3023, in _compute_dependencies\n",
      "    for req in self._parsed_pkg_info.get_all('Requires-Dist') or []:\n",
      "  File \"C:\\Users\\danjr\\Anaconda3\\lib\\site-packages\\pip\\_vendor\\pkg_resources\\__init__.py\", line 3005, in _parsed_pkg_info\n",
      "    metadata = self.get_metadata(self.PKG_INFO)\n",
      "  File \"C:\\Users\\danjr\\Anaconda3\\lib\\site-packages\\pip\\_vendor\\pkg_resources\\__init__.py\", line 1419, in get_metadata\n",
      "    value = self._get(self._fn(self.egg_info, name))\n",
      "  File \"C:\\Users\\danjr\\Anaconda3\\lib\\site-packages\\pip\\_vendor\\pkg_resources\\__init__.py\", line 1607, in _get\n",
      "    with open(path, 'rb') as stream:\n",
      "FileNotFoundError: [Errno 2] No such file or directory: 'c:\\\\users\\\\danjr\\\\anaconda3\\\\lib\\\\site-packages\\\\pandas-0.25.1.dist-info\\\\METADATA'\n"
     ]
    }
   ],
   "source": [
    "!pip install pandas_profiling"
   ]
  },
  {
   "cell_type": "code",
   "execution_count": 1,
   "metadata": {},
   "outputs": [
    {
     "data": {
      "text/html": [
       "<div>\n",
       "<style scoped>\n",
       "    .dataframe tbody tr th:only-of-type {\n",
       "        vertical-align: middle;\n",
       "    }\n",
       "\n",
       "    .dataframe tbody tr th {\n",
       "        vertical-align: top;\n",
       "    }\n",
       "\n",
       "    .dataframe thead th {\n",
       "        text-align: right;\n",
       "    }\n",
       "</style>\n",
       "<table border=\"1\" class=\"dataframe\">\n",
       "  <thead>\n",
       "    <tr style=\"text-align: right;\">\n",
       "      <th></th>\n",
       "      <th>State</th>\n",
       "      <th>Filed week ended</th>\n",
       "      <th>Initial Claims</th>\n",
       "      <th>Reflecting Week Ended</th>\n",
       "      <th>Continued Claims</th>\n",
       "      <th>Covered Employment</th>\n",
       "      <th>Insured Unemployment Rate</th>\n",
       "    </tr>\n",
       "  </thead>\n",
       "  <tbody>\n",
       "    <tr>\n",
       "      <td>0</td>\n",
       "      <td>Alabama</td>\n",
       "      <td>1/4/2020</td>\n",
       "      <td>4,578</td>\n",
       "      <td>12/28/2019</td>\n",
       "      <td>18,523</td>\n",
       "      <td>1,923,741</td>\n",
       "      <td>0.96</td>\n",
       "    </tr>\n",
       "    <tr>\n",
       "      <td>1</td>\n",
       "      <td>Alabama</td>\n",
       "      <td>1/11/2020</td>\n",
       "      <td>3,629</td>\n",
       "      <td>1/4/2020</td>\n",
       "      <td>21,143</td>\n",
       "      <td>1,923,741</td>\n",
       "      <td>1.10</td>\n",
       "    </tr>\n",
       "    <tr>\n",
       "      <td>2</td>\n",
       "      <td>Alabama</td>\n",
       "      <td>1/18/2020</td>\n",
       "      <td>2,483</td>\n",
       "      <td>1/11/2020</td>\n",
       "      <td>17,402</td>\n",
       "      <td>1,923,741</td>\n",
       "      <td>0.90</td>\n",
       "    </tr>\n",
       "    <tr>\n",
       "      <td>3</td>\n",
       "      <td>Alabama</td>\n",
       "      <td>1/25/2020</td>\n",
       "      <td>2,129</td>\n",
       "      <td>1/18/2020</td>\n",
       "      <td>18,390</td>\n",
       "      <td>1,923,741</td>\n",
       "      <td>0.96</td>\n",
       "    </tr>\n",
       "    <tr>\n",
       "      <td>4</td>\n",
       "      <td>Alabama</td>\n",
       "      <td>2/1/2020</td>\n",
       "      <td>2,170</td>\n",
       "      <td>1/25/2020</td>\n",
       "      <td>17,284</td>\n",
       "      <td>1,923,741</td>\n",
       "      <td>0.90</td>\n",
       "    </tr>\n",
       "  </tbody>\n",
       "</table>\n",
       "</div>"
      ],
      "text/plain": [
       "     State Filed week ended Initial Claims Reflecting Week Ended  \\\n",
       "0  Alabama         1/4/2020          4,578            12/28/2019   \n",
       "1  Alabama        1/11/2020          3,629              1/4/2020   \n",
       "2  Alabama        1/18/2020          2,483             1/11/2020   \n",
       "3  Alabama        1/25/2020          2,129             1/18/2020   \n",
       "4  Alabama         2/1/2020          2,170             1/25/2020   \n",
       "\n",
       "  Continued Claims Covered Employment  Insured Unemployment Rate  \n",
       "0           18,523          1,923,741                       0.96  \n",
       "1           21,143          1,923,741                       1.10  \n",
       "2           17,402          1,923,741                       0.90  \n",
       "3           18,390          1,923,741                       0.96  \n",
       "4           17,284          1,923,741                       0.90  "
      ]
     },
     "execution_count": 1,
     "metadata": {},
     "output_type": "execute_result"
    }
   ],
   "source": [
    "# Dependencies and Setup\n",
    "import pandas as pd\n",
    "import pandas_profiling\n",
    "\n",
    "# Read File and store into Pandas data frame\n",
    "file_to_load = \"Resources/US_Unemployment.csv\"\n",
    "unemployment_data = pd.read_csv(file_to_load)\n",
    "\n",
    "#Preview data\n",
    "unemployment_data.head()"
   ]
  },
  {
   "cell_type": "code",
   "execution_count": 3,
   "metadata": {},
   "outputs": [
    {
     "data": {
      "text/plain": [
       "State                        1061\n",
       "Filed week ended             1060\n",
       "Initial Claims               1060\n",
       "Reflecting Week Ended        1060\n",
       "Continued Claims             1060\n",
       "Covered Employment           1060\n",
       "Insured Unemployment Rate    1060\n",
       "dtype: int64"
      ]
     },
     "execution_count": 3,
     "metadata": {},
     "output_type": "execute_result"
    }
   ],
   "source": [
    "unemployment_data.count()"
   ]
  },
  {
   "cell_type": "code",
   "execution_count": 5,
   "metadata": {},
   "outputs": [
    {
     "data": {
      "text/plain": [
       "State                         object\n",
       "Filed week ended              object\n",
       "Initial Claims                object\n",
       "Reflecting Week Ended         object\n",
       "Continued Claims              object\n",
       "Covered Employment            object\n",
       "Insured Unemployment Rate    float64\n",
       "dtype: object"
      ]
     },
     "execution_count": 5,
     "metadata": {},
     "output_type": "execute_result"
    }
   ],
   "source": [
    "unemployment_data.dtypes"
   ]
  },
  {
   "cell_type": "code",
   "execution_count": 6,
   "metadata": {},
   "outputs": [
    {
     "data": {
      "text/plain": [
       "Index(['State', 'Filed week ended', 'Initial Claims', 'Reflecting Week Ended',\n",
       "       'Continued Claims', 'Covered Employment', 'Insured Unemployment Rate'],\n",
       "      dtype='object')"
      ]
     },
     "execution_count": 6,
     "metadata": {},
     "output_type": "execute_result"
    }
   ],
   "source": [
    "unemployment_data.columns"
   ]
  },
  {
   "cell_type": "code",
   "execution_count": null,
   "metadata": {},
   "outputs": [],
   "source": [
    "# See Pandas Profiling Report\n",
    "pd.read_csv('https://raw.githubusercontent.com/mwaskom/seaborn-data/master/planets.csv').profile_report()"
   ]
  }
 ],
 "metadata": {
  "kernelspec": {
   "display_name": "Python 3",
   "language": "python",
   "name": "python3"
  },
  "language_info": {
   "codemirror_mode": {
    "name": "ipython",
    "version": 3
   },
   "file_extension": ".py",
   "mimetype": "text/x-python",
   "name": "python",
   "nbconvert_exporter": "python",
   "pygments_lexer": "ipython3",
   "version": "3.7.4"
  }
 },
 "nbformat": 4,
 "nbformat_minor": 2
}
