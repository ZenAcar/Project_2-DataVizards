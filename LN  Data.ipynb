{
 "cells": [
  {
   "cell_type": "code",
   "execution_count": 1,
   "metadata": {
    "ExecuteTime": {
     "end_time": "2020-06-02T03:25:43.156159Z",
     "start_time": "2020-06-02T03:25:28.446222Z"
    }
   },
   "outputs": [
    {
     "name": "stdout",
     "output_type": "stream",
     "text": [
      "Requirement already satisfied: wget in e:\\anaconda3\\envs\\pythondata\\lib\\site-packages (3.2)\n",
      "Requirement already satisfied: dtale in e:\\anaconda3\\envs\\pythondata\\lib\\site-packages (1.7.15)\n",
      "Requirement already satisfied: itsdangerous in e:\\anaconda3\\envs\\pythondata\\lib\\site-packages (from dtale) (1.1.0)\n",
      "Requirement already satisfied: scipy in e:\\anaconda3\\envs\\pythondata\\lib\\site-packages (from dtale) (1.4.1)\n",
      "Requirement already satisfied: flask-ngrok; python_version > \"3.0\" in e:\\anaconda3\\envs\\pythondata\\lib\\site-packages (from dtale) (0.0.25)\n",
      "Requirement already satisfied: dash>=1.5.0 in e:\\anaconda3\\envs\\pythondata\\lib\\site-packages (from dtale) (1.9.1)\n",
      "Requirement already satisfied: Flask>=1.0 in e:\\anaconda3\\envs\\pythondata\\lib\\site-packages (from dtale) (1.1.1)\n",
      "Requirement already satisfied: requests in e:\\anaconda3\\envs\\pythondata\\lib\\site-packages (from dtale) (2.23.0)\n",
      "Requirement already satisfied: future>=0.14.0 in e:\\anaconda3\\envs\\pythondata\\lib\\site-packages (from dtale) (0.18.2)\n",
      "Requirement already satisfied: pandas in e:\\anaconda3\\envs\\pythondata\\lib\\site-packages (from dtale) (1.0.4)\n",
      "Requirement already satisfied: lz4; python_version > \"3.0\" in e:\\anaconda3\\envs\\pythondata\\lib\\site-packages (from dtale) (3.0.2)\n",
      "Requirement already satisfied: dash-daq in e:\\anaconda3\\envs\\pythondata\\lib\\site-packages (from dtale) (0.4.0)\n",
      "Requirement already satisfied: Flask-Compress in e:\\anaconda3\\envs\\pythondata\\lib\\site-packages (from dtale) (1.4.0)\n",
      "Requirement already satisfied: six in e:\\anaconda3\\envs\\pythondata\\lib\\site-packages (from dtale) (1.14.0)\n",
      "Requirement already satisfied: numpy>=1.13.3 in e:\\anaconda3\\envs\\pythondata\\lib\\site-packages (from scipy->dtale) (1.18.1)\n",
      "Requirement already satisfied: dash-html-components==1.0.2 in e:\\anaconda3\\envs\\pythondata\\lib\\site-packages (from dash>=1.5.0->dtale) (1.0.2)\n",
      "Requirement already satisfied: dash-table==4.6.1 in e:\\anaconda3\\envs\\pythondata\\lib\\site-packages (from dash>=1.5.0->dtale) (4.6.1)\n",
      "Requirement already satisfied: plotly in e:\\anaconda3\\envs\\pythondata\\lib\\site-packages (from dash>=1.5.0->dtale) (4.5.4)\n",
      "Requirement already satisfied: dash-core-components==1.8.1 in e:\\anaconda3\\envs\\pythondata\\lib\\site-packages (from dash>=1.5.0->dtale) (1.8.1)\n",
      "Requirement already satisfied: dash-renderer==1.2.4 in e:\\anaconda3\\envs\\pythondata\\lib\\site-packages (from dash>=1.5.0->dtale) (1.2.4)\n",
      "Requirement already satisfied: Jinja2>=2.10.1 in e:\\anaconda3\\envs\\pythondata\\lib\\site-packages (from Flask>=1.0->dtale) (2.11.1)\n",
      "Requirement already satisfied: click>=5.1 in e:\\anaconda3\\envs\\pythondata\\lib\\site-packages (from Flask>=1.0->dtale) (7.0)\n",
      "Requirement already satisfied: Werkzeug>=0.15 in e:\\anaconda3\\envs\\pythondata\\lib\\site-packages (from Flask>=1.0->dtale) (1.0.0)\n",
      "Requirement already satisfied: certifi>=2017.4.17 in e:\\anaconda3\\envs\\pythondata\\lib\\site-packages (from requests->dtale) (2019.11.28)\n",
      "Requirement already satisfied: idna<3,>=2.5 in e:\\anaconda3\\envs\\pythondata\\lib\\site-packages (from requests->dtale) (2.8)\n",
      "Requirement already satisfied: urllib3!=1.25.0,!=1.25.1,<1.26,>=1.21.1 in e:\\anaconda3\\envs\\pythondata\\lib\\site-packages (from requests->dtale) (1.25.8)\n",
      "Requirement already satisfied: chardet<4,>=3.0.2 in e:\\anaconda3\\envs\\pythondata\\lib\\site-packages (from requests->dtale) (3.0.4)\n",
      "Requirement already satisfied: python-dateutil>=2.6.1 in e:\\anaconda3\\envs\\pythondata\\lib\\site-packages (from pandas->dtale) (2.8.1)\n",
      "Requirement already satisfied: pytz>=2017.2 in e:\\anaconda3\\envs\\pythondata\\lib\\site-packages (from pandas->dtale) (2019.3)\n",
      "Requirement already satisfied: retrying>=1.3.3 in e:\\anaconda3\\envs\\pythondata\\lib\\site-packages (from plotly->dash>=1.5.0->dtale) (1.3.3)\n",
      "Requirement already satisfied: MarkupSafe>=0.23 in e:\\anaconda3\\envs\\pythondata\\lib\\site-packages (from Jinja2>=2.10.1->Flask>=1.0->dtale) (1.1.1)\n"
     ]
    }
   ],
   "source": [
    "# May need to install these....\n",
    "# uncomment if unsure\n",
    "!pip install wget\n",
    "!pip install dtale"
   ]
  },
  {
   "cell_type": "code",
   "execution_count": 2,
   "metadata": {
    "ExecuteTime": {
     "end_time": "2020-06-02T03:25:45.929393Z",
     "start_time": "2020-06-02T03:25:43.159161Z"
    }
   },
   "outputs": [],
   "source": [
    "import pandas as pd\n",
    "import numpy as np\n",
    "import os as os\n",
    "\n",
    "import dtale # data Frame visualization\n",
    "import wget as wget"
   ]
  },
  {
   "cell_type": "markdown",
   "metadata": {},
   "source": [
    "# Download the data\n",
    "\n",
    "Download Current employment statistics from [US Bureau of Labor Statics website](https://www.bls.gov/)\n",
    "\n",
    "\n",
    "Data Dictionary\n",
    "???\n",
    "\n"
   ]
  },
  {
   "cell_type": "code",
   "execution_count": 3,
   "metadata": {
    "ExecuteTime": {
     "end_time": "2020-06-02T03:25:49.978964Z",
     "start_time": "2020-06-02T03:25:45.932348Z"
    }
   },
   "outputs": [
    {
     "name": "stderr",
     "output_type": "stream",
     "text": [
      "e:\\Anaconda3\\envs\\PythonData\\lib\\site-packages\\IPython\\core\\interactiveshell.py:3063: DtypeWarning:\n",
      "\n",
      "Columns (3) have mixed types.Specify dtype option on import or set low_memory=False.\n",
      "\n"
     ]
    }
   ],
   "source": [
    "# Check if file has ben downloaded if not download the file\n",
    "# This could take a while first time downloading the files (over 5 mins)\n",
    "# Does this qualify as web scraping? :-)\n",
    "lnFileName = 'resources/ALLlnSeries.txt'\n",
    "lnSeriesFileName = 'resources/lnSeries.txt'\n",
    "lnIndustryFileName = 'resources/lnIndustries.txt'\n",
    "if not os.path.exists(lnFileName) :\n",
    "    url = \"https://download.bls.gov/pub/time.series/ln/ln.data.1.AllData\"\n",
    "    wget.download(url,lnFileName)\n",
    "    \n",
    "    url = \"https://download.bls.gov/pub/time.series/ln/ln.series\"    \n",
    "    wget.download(url,lnSeriesFileName)\n",
    "    \n",
    "    url = \"https://download.bls.gov/pub/time.series/ln/ln.indy\"    \n",
    "    wget.download(url,lnIndustryFileName)  \n",
    "\n",
    "allLN =  pd.read_table(lnFileName, sep='\\t', header=0,names=['series_id', 'year', 'period', 'value', 'footnote_codes'])\n",
    "\n",
    "LNSeriesDF =  pd.read_table(lnSeriesFileName, sep='\\t', header=0,\n",
    "                            names=['series_id', 'lfst_code', 'periodicity_code', 'series_title','absn_code', 'activity_code', 'ages_code', 'cert_code', 'class_code',\n",
    "                                   'duration_code', 'education_code', 'entr_code', 'expr_code',\n",
    "                                   'hheader_code', 'hour_code', 'indy_code', 'jdes_code', 'look_code',\n",
    "                                   'mari_code', 'mjhs_code', 'occupation_code', 'orig_code', 'pcts_code',\n",
    "                                   'race_code', 'rjnw_code', 'rnlf_code', 'rwns_code', 'seek_code',\n",
    "                                   'sexs_code', 'tdat_code', 'vets_code', 'wkst_code', 'born_code',\n",
    "                                   'chld_code', 'disa_code', 'seasonal', 'footnote_codes', 'begin_year',\n",
    "                                   'begin_period', 'end_year', 'end_period'],\n",
    "                            dtype = {'indy_code':np.str_,  'ages_code':np.str_,'education_code':np.str_,'race_code':np.str_}) \n",
    "\n",
    "\n",
    "\n"
   ]
  },
  {
   "cell_type": "code",
   "execution_count": 4,
   "metadata": {
    "ExecuteTime": {
     "end_time": "2020-06-02T03:25:49.993946Z",
     "start_time": "2020-06-02T03:25:49.980948Z"
    }
   },
   "outputs": [],
   "source": [
    "industriesDF =  pd.read_table(lnIndustryFileName, sep='\\t', header=0,dtype={'indy_code':np.str_})    "
   ]
  },
  {
   "cell_type": "code",
   "execution_count": null,
   "metadata": {
    "ExecuteTime": {
     "end_time": "2020-06-01T04:22:41.596324Z",
     "start_time": "2020-06-01T04:22:41.573318Z"
    }
   },
   "outputs": [],
   "source": []
  },
  {
   "cell_type": "code",
   "execution_count": null,
   "metadata": {
    "ExecuteTime": {
     "end_time": "2020-06-01T04:18:34.687580Z",
     "start_time": "2020-06-01T04:18:34.677581Z"
    }
   },
   "outputs": [],
   "source": []
  },
  {
   "cell_type": "code",
   "execution_count": 5,
   "metadata": {
    "ExecuteTime": {
     "end_time": "2020-06-02T03:25:52.698090Z",
     "start_time": "2020-06-02T03:25:49.996948Z"
    }
   },
   "outputs": [
    {
     "data": {
      "text/plain": [
       "(59611, 5)"
      ]
     },
     "execution_count": 5,
     "metadata": {},
     "output_type": "execute_result"
    }
   ],
   "source": [
    "# Only interested in 2020\n",
    "# CES Seasonally Adjusted\n",
    "condition = allLN['year'].isin([2020])  & allLN['period'].str.startswith('M')\n",
    "LNS2020DF = allLN[condition]\n",
    "LNS2020DF.shape"
   ]
  },
  {
   "cell_type": "code",
   "execution_count": 6,
   "metadata": {
    "ExecuteTime": {
     "end_time": "2020-06-02T03:25:52.775083Z",
     "start_time": "2020-06-02T03:25:52.700107Z"
    }
   },
   "outputs": [
    {
     "name": "stderr",
     "output_type": "stream",
     "text": [
      "e:\\Anaconda3\\envs\\PythonData\\lib\\site-packages\\ipykernel_launcher.py:4: SettingWithCopyWarning:\n",
      "\n",
      "\n",
      "A value is trying to be set on a copy of a slice from a DataFrame.\n",
      "Try using .loc[row_indexer,col_indexer] = value instead\n",
      "\n",
      "See the caveats in the documentation: https://pandas.pydata.org/pandas-docs/stable/user_guide/indexing.html#returning-a-view-versus-a-copy\n",
      "\n",
      "e:\\Anaconda3\\envs\\PythonData\\lib\\site-packages\\pandas\\core\\frame.py:3997: SettingWithCopyWarning:\n",
      "\n",
      "\n",
      "A value is trying to be set on a copy of a slice from a DataFrame\n",
      "\n",
      "See the caveats in the documentation: https://pandas.pydata.org/pandas-docs/stable/user_guide/indexing.html#returning-a-view-versus-a-copy\n",
      "\n"
     ]
    },
    {
     "data": {
      "text/plain": [
       "(59611, 5)"
      ]
     },
     "execution_count": 6,
     "metadata": {},
     "output_type": "execute_result"
    }
   ],
   "source": [
    "# Get month from period and dop period\n",
    "# month 13 Annual Average      \n",
    "# https://download.bls.gov/pub/time.series/ce/ce.period\n",
    "LNS2020DF['Month'] = LNS2020DF['period'].str.replace('M','').astype(int)\n",
    "LNS2020DF.drop('period',1,inplace=True)\n",
    "LNS2020DF.shape"
   ]
  },
  {
   "cell_type": "code",
   "execution_count": 7,
   "metadata": {
    "ExecuteTime": {
     "end_time": "2020-06-02T03:25:52.991086Z",
     "start_time": "2020-06-02T03:25:52.777085Z"
    }
   },
   "outputs": [
    {
     "data": {
      "text/plain": [
       "(59611, 45)"
      ]
     },
     "execution_count": 7,
     "metadata": {},
     "output_type": "execute_result"
    }
   ],
   "source": [
    "# Merge with Series DF\n",
    "LNS2020DF = pd.merge(LNS2020DF,LNSeriesDF,on='series_id',how='left')\n",
    "LNS2020DF.shape\n"
   ]
  },
  {
   "cell_type": "code",
   "execution_count": 8,
   "metadata": {
    "ExecuteTime": {
     "end_time": "2020-06-02T03:25:53.054098Z",
     "start_time": "2020-06-02T03:25:52.994084Z"
    }
   },
   "outputs": [
    {
     "data": {
      "text/plain": [
       "(59611, 46)"
      ]
     },
     "execution_count": 8,
     "metadata": {},
     "output_type": "execute_result"
    }
   ],
   "source": [
    "LNS2020DF = pd.merge(LNS2020DF,industriesDF,on='indy_code',how='left')\n",
    "LNS2020DF.shape"
   ]
  },
  {
   "cell_type": "code",
   "execution_count": 9,
   "metadata": {
    "ExecuteTime": {
     "end_time": "2020-06-02T03:25:53.101099Z",
     "start_time": "2020-06-02T03:25:53.056086Z"
    }
   },
   "outputs": [],
   "source": [
    "LNS2020DF.drop(['jdes_code','absn_code','cert_code','rjnw_code', 'begin_year',\n",
    "                'begin_period', 'end_year', 'end_period'],1,inplace=True)\n",
    "\n"
   ]
  },
  {
   "cell_type": "code",
   "execution_count": 10,
   "metadata": {
    "ExecuteTime": {
     "end_time": "2020-06-02T03:25:53.117097Z",
     "start_time": "2020-06-02T03:25:53.103086Z"
    }
   },
   "outputs": [],
   "source": [
    "# Browse the data\n",
    "# uncomment the following lines to browse the data\n",
    "\n",
    "#d = dtale.show(LNS2020DF, ignore_duplicate=True)\n",
    "#d.open_browser()"
   ]
  },
  {
   "cell_type": "code",
   "execution_count": 11,
   "metadata": {
    "ExecuteTime": {
     "end_time": "2020-06-02T03:25:54.870668Z",
     "start_time": "2020-06-02T03:25:53.119084Z"
    }
   },
   "outputs": [],
   "source": [
    "LNS2020DF.to_pickle(\"resources/LNS2020.pkl\",compression='gzip')"
   ]
  },
  {
   "cell_type": "code",
   "execution_count": 12,
   "metadata": {
    "ExecuteTime": {
     "end_time": "2020-06-02T03:25:55.010667Z",
     "start_time": "2020-06-02T03:25:54.874670Z"
    }
   },
   "outputs": [],
   "source": [
    "# to load Picke file use the following once pickle has been generated\n",
    "LNS2020DF_2=pd.read_pickle('resources/LNS2020.pkl',compression='gzip')"
   ]
  },
  {
   "cell_type": "code",
   "execution_count": null,
   "metadata": {},
   "outputs": [],
   "source": []
  }
 ],
 "metadata": {
  "kernelspec": {
   "display_name": "Python 3.6.10 64-bit ('PythonData': conda)",
   "language": "python",
   "name": "python361064bitpythondatacondaec7e8270480d4d8a925de6dc1659eacb"
  },
  "language_info": {
   "codemirror_mode": {
    "name": "ipython",
    "version": 3
   },
   "file_extension": ".py",
   "mimetype": "text/x-python",
   "name": "python",
   "nbconvert_exporter": "python",
   "pygments_lexer": "ipython3",
   "version": "3.6.10"
  }
 },
 "nbformat": 4,
 "nbformat_minor": 4
}
