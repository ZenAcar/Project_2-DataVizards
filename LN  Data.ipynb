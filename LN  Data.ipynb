{
 "cells": [
  {
   "cell_type": "code",
   "execution_count": 1,
   "metadata": {
    "ExecuteTime": {
     "end_time": "2020-06-03T14:06:17.559785Z",
     "start_time": "2020-06-03T14:06:17.547785Z"
    }
   },
   "outputs": [],
   "source": [
    "# May need to install these....\n",
    "# uncomment if unsure\n",
    "# !pip install wget\n",
    "# !pip install dtale"
   ]
  },
  {
   "cell_type": "code",
   "execution_count": 2,
   "metadata": {
    "ExecuteTime": {
     "end_time": "2020-06-03T14:06:20.256803Z",
     "start_time": "2020-06-03T14:06:17.563785Z"
    }
   },
   "outputs": [],
   "source": [
    "import pandas as pd\n",
    "import numpy as np\n",
    "import os as os\n",
    "\n",
    "import dtale # data Frame visualization\n",
    "import wget as wget"
   ]
  },
  {
   "cell_type": "markdown",
   "metadata": {},
   "source": [
    "# Download the data\n",
    "\n",
    "Download Current employment statistics from [US Bureau of Labor Statics website](https://www.bls.gov/)\n",
    "\n",
    "\n",
    "Data Dictionary\n",
    "???\n",
    "\n"
   ]
  },
  {
   "cell_type": "code",
   "execution_count": 3,
   "metadata": {
    "ExecuteTime": {
     "end_time": "2020-06-03T14:06:26.752782Z",
     "start_time": "2020-06-03T14:06:20.259783Z"
    }
   },
   "outputs": [
    {
     "name": "stderr",
     "output_type": "stream",
     "text": [
      "/Users/harinirao/opt/anaconda3/lib/python3.7/site-packages/IPython/core/interactiveshell.py:3058: DtypeWarning:\n",
      "\n",
      "Columns (3) have mixed types. Specify dtype option on import or set low_memory=False.\n",
      "\n"
     ]
    }
   ],
   "source": [
    "# Check if file has ben downloaded if not download the file\n",
    "# This could take a while first time downloading the files (over 5 mins)\n",
    "# Does this qualify as web scraping? :-)\n",
    "lnFileName = 'resources/ALLlnSeries.txt'\n",
    "lnSeriesFileName = 'resources/lnSeries.txt'\n",
    "lnIndustryFileName = 'resources/lnIndustries.txt'\n",
    "if not os.path.exists(lnFileName) :\n",
    "    url = \"https://download.bls.gov/pub/time.series/ln/ln.data.1.AllData\"\n",
    "    wget.download(url,lnFileName)\n",
    "    \n",
    "    url = \"https://download.bls.gov/pub/time.series/ln/ln.series\"    \n",
    "    wget.download(url,lnSeriesFileName)\n",
    "    \n",
    "    url = \"https://download.bls.gov/pub/time.series/ln/ln.indy\"    \n",
    "    wget.download(url,lnIndustryFileName)  \n",
    "\n",
    "allLN =  pd.read_table(lnFileName, sep='\\t', header=0,names=['series_id', 'year', 'period', 'value', 'footnote_codes'])\n",
    "\n",
    "LNSeriesDF =  pd.read_table(lnSeriesFileName, sep='\\t', header=0,\n",
    "                            names=['series_id', 'lfst_code', 'periodicity_code', 'series_title','absn_code', 'activity_code', 'ages_code', 'cert_code', 'class_code',\n",
    "                                   'duration_code', 'education_code', 'entr_code', 'expr_code',\n",
    "                                   'hheader_code', 'hour_code', 'indy_code', 'jdes_code', 'look_code',\n",
    "                                   'mari_code', 'mjhs_code', 'occupation_code', 'orig_code', 'pcts_code',\n",
    "                                   'race_code', 'rjnw_code', 'rnlf_code', 'rwns_code', 'seek_code',\n",
    "                                   'sexs_code', 'tdat_code', 'vets_code', 'wkst_code', 'born_code',\n",
    "                                   'chld_code', 'disa_code', 'seasonal', 'footnote_codes', 'begin_year',\n",
    "                                   'begin_period', 'end_year', 'end_period'],\n",
    "                            dtype = { 'value':float,'indy_code':np.str_,  'ages_code':np.str_,'education_code':np.str_,'race_code':np.str_}) \n",
    "\n",
    "\n",
    "industriesDF =  pd.read_table(lnIndustryFileName, sep='\\t', header=0,dtype={'indy_code':np.str_})    \n",
    "\n",
    "#Clean up spaces on the series_id\n",
    "allLN['series_id'] = allLN['series_id'].str.strip()\n",
    "LNSeriesDF['series_id'] = LNSeriesDF['series_id'].str.strip()\n",
    "#LNSeriesDF.head()"
   ]
  },
  {
   "cell_type": "code",
   "execution_count": 4,
   "metadata": {
    "ExecuteTime": {
     "end_time": "2020-06-03T14:06:29.730783Z",
     "start_time": "2020-06-03T14:06:26.754782Z"
    }
   },
   "outputs": [
    {
     "data": {
      "text/plain": [
       "(1033192, 5)"
      ]
     },
     "execution_count": 4,
     "metadata": {},
     "output_type": "execute_result"
    }
   ],
   "source": [
    "# Only interested in 2015-2020\n",
    "# Monthly data (not quarterly)\n",
    "# CES Seasonally Adjusted\n",
    "condition = allLN['year'].isin([2015,2016,2017,2018,2019,2020])  & allLN['period'].str.startswith('M')\n",
    "LNS2020DF = allLN[condition]\n",
    "LNS2020DF.shape\n",
    "\n"
   ]
  },
  {
   "cell_type": "code",
   "execution_count": 5,
   "metadata": {
    "ExecuteTime": {
     "end_time": "2020-06-03T14:06:30.416794Z",
     "start_time": "2020-06-03T14:06:29.734785Z"
    }
   },
   "outputs": [
    {
     "name": "stderr",
     "output_type": "stream",
     "text": [
      "/Users/harinirao/opt/anaconda3/lib/python3.7/site-packages/ipykernel_launcher.py:4: SettingWithCopyWarning:\n",
      "\n",
      "\n",
      "A value is trying to be set on a copy of a slice from a DataFrame.\n",
      "Try using .loc[row_indexer,col_indexer] = value instead\n",
      "\n",
      "See the caveats in the documentation: http://pandas.pydata.org/pandas-docs/stable/user_guide/indexing.html#returning-a-view-versus-a-copy\n",
      "\n",
      "/Users/harinirao/opt/anaconda3/lib/python3.7/site-packages/pandas/core/frame.py:4102: SettingWithCopyWarning:\n",
      "\n",
      "\n",
      "A value is trying to be set on a copy of a slice from a DataFrame\n",
      "\n",
      "See the caveats in the documentation: http://pandas.pydata.org/pandas-docs/stable/user_guide/indexing.html#returning-a-view-versus-a-copy\n",
      "\n"
     ]
    },
    {
     "data": {
      "text/plain": [
       "(1033192, 5)"
      ]
     },
     "execution_count": 5,
     "metadata": {},
     "output_type": "execute_result"
    }
   ],
   "source": [
    "# Get month from period and dop period\n",
    "# month 13 Annual Average      \n",
    "# https://download.bls.gov/pub/time.series/ce/ce.period\n",
    "LNS2020DF['Month'] = LNS2020DF['period'].str.replace('M','').astype(int)\n",
    "LNS2020DF.drop('period',1,inplace=True)\n",
    "LNS2020DF.shape"
   ]
  },
  {
   "cell_type": "code",
   "execution_count": 6,
   "metadata": {
    "ExecuteTime": {
     "end_time": "2020-06-03T14:06:32.924785Z",
     "start_time": "2020-06-03T14:06:30.420786Z"
    }
   },
   "outputs": [
    {
     "data": {
      "text/plain": [
       "(1033192, 45)"
      ]
     },
     "execution_count": 6,
     "metadata": {},
     "output_type": "execute_result"
    }
   ],
   "source": [
    "# Merge with Series DF\n",
    "LNS2020DF = pd.merge(LNS2020DF,LNSeriesDF,on='series_id',how='left')\n",
    "LNS2020DF.shape\n"
   ]
  },
  {
   "cell_type": "code",
   "execution_count": 7,
   "metadata": {
    "ExecuteTime": {
     "end_time": "2020-06-03T14:06:33.576783Z",
     "start_time": "2020-06-03T14:06:32.927785Z"
    }
   },
   "outputs": [
    {
     "data": {
      "text/plain": [
       "(1033192, 46)"
      ]
     },
     "execution_count": 7,
     "metadata": {},
     "output_type": "execute_result"
    }
   ],
   "source": [
    "LNS2020DF = pd.merge(LNS2020DF,industriesDF,on='indy_code',how='left')\n",
    "LNS2020DF.shape"
   ]
  },
  {
   "cell_type": "code",
   "execution_count": 8,
   "metadata": {
    "ExecuteTime": {
     "end_time": "2020-06-03T14:06:34.155782Z",
     "start_time": "2020-06-03T14:06:33.580786Z"
    }
   },
   "outputs": [
    {
     "data": {
      "text/plain": [
       "(1033192, 15)"
      ]
     },
     "execution_count": 8,
     "metadata": {},
     "output_type": "execute_result"
    }
   ],
   "source": [
    "LNS2020DF.drop(['jdes_code','absn_code','cert_code','rjnw_code', 'begin_year',\n",
    "                'begin_period', 'end_year', 'end_period', 'hheader_code', 'hour_code', 'indy_code', 'look_code',\n",
    "       'mari_code', 'mjhs_code', 'occupation_code', 'orig_code', 'pcts_code',\n",
    "       'race_code', 'rnlf_code', 'rwns_code', 'seek_code', 'sexs_code',\n",
    "       'tdat_code', 'vets_code', 'wkst_code', 'born_code', 'chld_code',\n",
    "       'disa_code', 'seasonal', 'footnote_codes_x','footnote_codes_y'],1,inplace=True)\n",
    "\n",
    "LNS2020DF.shape"
   ]
  },
  {
   "cell_type": "code",
   "execution_count": 9,
   "metadata": {
    "ExecuteTime": {
     "end_time": "2020-06-03T14:06:34.280783Z",
     "start_time": "2020-06-03T14:06:34.159784Z"
    }
   },
   "outputs": [
    {
     "data": {
      "text/plain": [
       "(2080, 15)"
      ]
     },
     "execution_count": 9,
     "metadata": {},
     "output_type": "execute_result"
    }
   ],
   "source": [
    "\n",
    "Series_of_interest = [\n",
    "    'LNS11000000', # Labor Force \n",
    "    'LNS11000001', # Labor Force Level Men\n",
    "    'LNS11000002', # Labor Force Level Women\n",
    "#     'LNS11000003', # Race White\n",
    "#     'LNS11000006', # Black or African American\n",
    "#     'LNS11032183', # Asian\n",
    "#     'LNS11000009', # Hispanic or Latino\n",
    "#     'LNS11000012', # 16-19\n",
    "#     'LNS11000024', # 20 years & older\n",
    "#     'LNS11300036', # 20-24\n",
    "#     'LNS11300089', # 25-34\n",
    "#     'LNS11300091', # 35-44\n",
    "#     'LNS11300093', # 45-54\n",
    "#     'LNS11324230', # 55 and over\n",
    "    \n",
    "#     'LNS11327659', # Less than HS\n",
    "#     'LNS11327660', # HS No college\n",
    "#     'LNS11327662', # Bachelor's degree and higher\n",
    "#     'LNS11327689', #Some College or Associate Degree\n",
    "#     'LNS12000000', # Employment Level\n",
    "    \n",
    "    'LNS13000000', # Unemployment Level\n",
    "    'LNS13000001', # Unemployment Level Men\n",
    "    'LNS13000002', # Unemployment Level Women\n",
    "    'LNS13000003', # Unemployment Level White\n",
    "    'LNS13000006', # Unemployment Level Black or African American\n",
    "    'LNS13000009', # Unemployment Level Hispanic or Latino\n",
    "    'LNS13032183', # Unemployment Level Asian\n",
    "    'LNS13000012', # Unemployment Level 16-19\n",
    "    'LNS13000036', # Unemployment Level 20-24\n",
    "    'LNS13000089', # Unemployment Level 25-34\n",
    "    'LNS13000091', # Unemployment Level 35-44\n",
    "    'LNS13000093', # Unemployment Level 45-54\n",
    "    'LNS13024230', # Unemployment Level 55 and over\n",
    "    'LNS13027659', # Unemployment Level Less than HS\n",
    "    'LNS13027660', # Unemployment Level HS No college\n",
    "    'LNS13027662', # Unemployment Level Bachelor's degree and higher\n",
    "    'LNS13027689', # Unemployment Level Some College or Associate Degree \n",
    "     \n",
    "    'LNS13008396', # Number Unemployed for Less than 5 Weeks\n",
    "    'LNS13008756', # Number Unemployed for 5-14 Weeks\n",
    "    'LNS13008516', # Number Unemployed for 15 Weeks & over\n",
    "    'LNS13008876', # Number Unemployed for 15-26 Weeks\n",
    "    'LNS13008636', # Number Unemployed for 27 Weeks & over\n",
    "#    'LNS13008275', # Average Weeks Unemployed\n",
    "#    'LNS13008276', # Median Weeks Unemployed\n",
    "    \n",
    "    'LNS13023569', # Unemployment Level - New Entrants\n",
    "    'LNS13023621', # Unemployment Level - Job Losers\n",
    "    'LNS13023653', # Unemployment Level - Job Losers on Layoff\n",
    "    'LNS13023705', # Unemployment Level - Job Leavers\n",
    "    'LNS13025699', # Unemployment Level - Job Losers Not on Layoff\n",
    "    'LNS13026637', # Unemployment Level - Persons who Completed Temporary Jobs\n",
    "    'LNS13026638', # Unemployment Level - Permanent Job Losers\n",
    "\n",
    "]    \n",
    "\n",
    "condition =LNS2020DF['series_id'].isin(Series_of_interest) \n",
    "LNS2020DF = LNS2020DF[condition]\n",
    "LNS2020DF.shape"
   ]
  },
  {
   "cell_type": "code",
   "execution_count": 10,
   "metadata": {
    "ExecuteTime": {
     "end_time": "2020-06-03T14:06:34.310803Z",
     "start_time": "2020-06-03T14:06:34.282785Z"
    }
   },
   "outputs": [],
   "source": [
    "# d = dtale.show(LNS2020DF, ignore_duplicate=True)\n",
    "# d.open_browser()"
   ]
  },
  {
   "cell_type": "code",
   "execution_count": 11,
   "metadata": {
    "ExecuteTime": {
     "end_time": "2020-06-03T14:06:34.326798Z",
     "start_time": "2020-06-03T14:06:34.312783Z"
    }
   },
   "outputs": [],
   "source": [
    "LNS2020DF['value'] = pd.to_numeric(LNS2020DF['value'])"
   ]
  },
  {
   "cell_type": "code",
   "execution_count": 12,
   "metadata": {
    "ExecuteTime": {
     "end_time": "2020-06-03T14:06:34.372804Z",
     "start_time": "2020-06-03T14:06:34.328783Z"
    }
   },
   "outputs": [],
   "source": [
    "LNS2020DF.to_pickle(\"resources/LNS2020.pkl\",compression='gzip')"
   ]
  },
  {
   "cell_type": "code",
   "execution_count": 13,
   "metadata": {
    "ExecuteTime": {
     "end_time": "2020-06-03T14:06:34.387783Z",
     "start_time": "2020-06-03T14:06:34.374783Z"
    }
   },
   "outputs": [],
   "source": [
    "# to load Picke file use the following once pickle has been generated\n",
    "LNS2020DF_2=pd.read_pickle('resources/LNS2020.pkl',compression='gzip')"
   ]
  },
  {
   "cell_type": "code",
   "execution_count": null,
   "metadata": {},
   "outputs": [],
   "source": []
  }
 ],
 "metadata": {
  "kernelspec": {
   "display_name": "Python 3",
   "language": "python",
   "name": "python3"
  },
  "language_info": {
   "codemirror_mode": {
    "name": "ipython",
    "version": 3
   },
   "file_extension": ".py",
   "mimetype": "text/x-python",
   "name": "python",
   "nbconvert_exporter": "python",
   "pygments_lexer": "ipython3",
   "version": "3.7.4"
  }
 },
 "nbformat": 4,
 "nbformat_minor": 4
}
