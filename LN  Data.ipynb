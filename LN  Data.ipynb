{
 "cells": [
  {
   "cell_type": "code",
   "execution_count": 13,
   "metadata": {
    "ExecuteTime": {
     "end_time": "2020-06-01T02:18:18.935454Z",
     "start_time": "2020-06-01T02:18:18.927451Z"
    }
   },
   "outputs": [],
   "source": [
    "# May need to install these....\n",
    "# uncomment if unsure\n",
    "#!pip install wget\n",
    "#!pip install dtale"
   ]
  },
  {
   "cell_type": "code",
   "execution_count": 1,
   "metadata": {
    "ExecuteTime": {
     "end_time": "2020-06-01T03:31:27.329865Z",
     "start_time": "2020-06-01T03:30:47.903232Z"
    }
   },
   "outputs": [],
   "source": [
    "import pandas as pd\n",
    "import numpy as np\n",
    "import os\n",
    "\n",
    "import dtale # data Frame visualization\n",
    "import wget"
   ]
  },
  {
   "cell_type": "markdown",
   "metadata": {},
   "source": [
    "# Download the data\n",
    "\n",
    "Download Current employment statistics from [US Bureau of Labor Statics website](https://www.bls.gov/)\n",
    "\n",
    "\n",
    "Data Dictionary\n",
    "???\n",
    "\n"
   ]
  },
  {
   "cell_type": "code",
   "execution_count": 12,
   "metadata": {
    "ExecuteTime": {
     "end_time": "2020-06-01T04:03:33.145124Z",
     "start_time": "2020-06-01T03:59:23.585219Z"
    }
   },
   "outputs": [
    {
     "name": "stdout",
     "output_type": "stream",
     "text": [
      "100% [..............................................................................] 14347 / 14347"
     ]
    }
   ],
   "source": [
    "# Check if file has ben downloaded if not download the file\n",
    "# This could take a while first time downloading the files (over 5 mins)\n",
    "# Does this qualify as web scraping? :-)\n",
    "lnFileName = 'resources/ALLlnSeries.txt'\n",
    "lnSeriesFileName = 'resources/lnSeries.txt'\n",
    "lnIndustryFileName = 'resources/lnIndustries.txt'\n",
    "if not os.path.exists(lnFileName) :\n",
    "    url = \"https://download.bls.gov/pub/time.series/ln/ln.data.1.AllData\"\n",
    "    wget.download(url,lnFileName)\n",
    "    \n",
    "    url = \"https://download.bls.gov/pub/time.series/ln/ln.series\"    \n",
    "    wget.download(url,lnSeriesFileName)\n",
    "    \n",
    "    url = \"https://download.bls.gov/pub/time.series/ln/ln.indy\"    \n",
    "    wget.download(url,lnIndustryFileName)  \n",
    "\n",
    "allLN =  pd.read_table(lnFileName, sep='\\t', header=0,names=['series_id', 'year', 'period', 'value', 'footnote_codes'])\n",
    "\n",
    "LNSeriesDF =  pd.read_table(lnSeriesFileName, sep='\\t', header=0,\n",
    "                            names=['series_id', 'lfst_code', 'periodicity_code', 'series_title','absn_code', 'activity_code', 'ages_code', 'cert_code', 'class_code',\n",
    "                                   'duration_code', 'education_code', 'entr_code', 'expr_code',\n",
    "                                   'hheader_code', 'hour_code', 'indy_code', 'jdes_code', 'look_code',\n",
    "                                   'mari_code', 'mjhs_code', 'occupation_code', 'orig_code', 'pcts_code',\n",
    "                                   'race_code', 'rjnw_code', 'rnlf_code', 'rwns_code', 'seek_code',\n",
    "                                   'sexs_code', 'tdat_code', 'vets_code', 'wkst_code', 'born_code',\n",
    "                                   'chld_code', 'disa_code', 'seasonal', 'footnote_codes', 'begin_year',\n",
    "                                   'begin_period', 'end_year', 'end_period'],\n",
    "                            dtype = {'indy_code':np.str_,  'ages_code':np.str_,'education_code':np.str_,'race_code':np.str_}) \n",
    "\n",
    "\n",
    "\n"
   ]
  },
  {
   "cell_type": "code",
   "execution_count": 33,
   "metadata": {
    "ExecuteTime": {
     "end_time": "2020-06-01T04:22:29.950071Z",
     "start_time": "2020-06-01T04:22:29.934081Z"
    }
   },
   "outputs": [],
   "source": [
    "industriesDF =  pd.read_table(lnIndustryFileName, sep='\\t', header=0,dtype={'indy_code':np.str_})    "
   ]
  },
  {
   "cell_type": "code",
   "execution_count": 34,
   "metadata": {
    "ExecuteTime": {
     "end_time": "2020-06-01T04:22:41.596324Z",
     "start_time": "2020-06-01T04:22:41.573318Z"
    }
   },
   "outputs": [
    {
     "data": {
      "text/html": [
       "<div>\n",
       "<style scoped>\n",
       "    .dataframe tbody tr th:only-of-type {\n",
       "        vertical-align: middle;\n",
       "    }\n",
       "\n",
       "    .dataframe tbody tr th {\n",
       "        vertical-align: top;\n",
       "    }\n",
       "\n",
       "    .dataframe thead th {\n",
       "        text-align: right;\n",
       "    }\n",
       "</style>\n",
       "<table border=\"1\" class=\"dataframe\">\n",
       "  <thead>\n",
       "    <tr style=\"text-align: right;\">\n",
       "      <th></th>\n",
       "      <th>indy_code</th>\n",
       "      <th>indy_text</th>\n",
       "    </tr>\n",
       "  </thead>\n",
       "  <tbody>\n",
       "    <tr>\n",
       "      <th>0</th>\n",
       "      <td>0000</td>\n",
       "      <td>All Industries</td>\n",
       "    </tr>\n",
       "    <tr>\n",
       "      <th>1</th>\n",
       "      <td>0169</td>\n",
       "      <td>Agriculture, forestry, fishing, and hunting</td>\n",
       "    </tr>\n",
       "    <tr>\n",
       "      <th>2</th>\n",
       "      <td>0170</td>\n",
       "      <td>Crop production</td>\n",
       "    </tr>\n",
       "    <tr>\n",
       "      <th>3</th>\n",
       "      <td>0180</td>\n",
       "      <td>Animal production and aquaculture</td>\n",
       "    </tr>\n",
       "    <tr>\n",
       "      <th>4</th>\n",
       "      <td>0190</td>\n",
       "      <td>Forestry, except logging</td>\n",
       "    </tr>\n",
       "  </tbody>\n",
       "</table>\n",
       "</div>"
      ],
      "text/plain": [
       "  indy_code                                    indy_text\n",
       "0      0000                               All Industries\n",
       "1      0169  Agriculture, forestry, fishing, and hunting\n",
       "2      0170                              Crop production\n",
       "3      0180            Animal production and aquaculture\n",
       "4      0190                     Forestry, except logging"
      ]
     },
     "execution_count": 34,
     "metadata": {},
     "output_type": "execute_result"
    }
   ],
   "source": []
  },
  {
   "cell_type": "code",
   "execution_count": 25,
   "metadata": {
    "ExecuteTime": {
     "end_time": "2020-06-01T04:18:34.687580Z",
     "start_time": "2020-06-01T04:18:34.677581Z"
    }
   },
   "outputs": [
    {
     "data": {
      "text/plain": [
       "0    0000\n",
       "1    0000\n",
       "2    0000\n",
       "3    0000\n",
       "4    0000\n",
       "Name: indy_code, dtype: object"
      ]
     },
     "execution_count": 25,
     "metadata": {},
     "output_type": "execute_result"
    }
   ],
   "source": []
  },
  {
   "cell_type": "code",
   "execution_count": 26,
   "metadata": {
    "ExecuteTime": {
     "end_time": "2020-06-01T04:19:24.081590Z",
     "start_time": "2020-06-01T04:19:21.470580Z"
    }
   },
   "outputs": [
    {
     "data": {
      "text/plain": [
       "(59611, 5)"
      ]
     },
     "execution_count": 26,
     "metadata": {},
     "output_type": "execute_result"
    }
   ],
   "source": [
    "# Only interested in 2020\n",
    "# CES Seasonally Adjusted\n",
    "condition = allLN['year'].isin([2020])  & allLN['period'].str.startswith('M')\n",
    "LNS2020DF = allLN[condition]\n",
    "LNS2020DF.shape"
   ]
  },
  {
   "cell_type": "code",
   "execution_count": 27,
   "metadata": {
    "ExecuteTime": {
     "end_time": "2020-06-01T04:19:24.159581Z",
     "start_time": "2020-06-01T04:19:24.085587Z"
    }
   },
   "outputs": [
    {
     "name": "stderr",
     "output_type": "stream",
     "text": [
      "e:\\Anaconda3\\envs\\PythonData\\lib\\site-packages\\ipykernel_launcher.py:4: SettingWithCopyWarning:\n",
      "\n",
      "\n",
      "A value is trying to be set on a copy of a slice from a DataFrame.\n",
      "Try using .loc[row_indexer,col_indexer] = value instead\n",
      "\n",
      "See the caveats in the documentation: https://pandas.pydata.org/pandas-docs/stable/user_guide/indexing.html#returning-a-view-versus-a-copy\n",
      "\n",
      "e:\\Anaconda3\\envs\\PythonData\\lib\\site-packages\\pandas\\core\\frame.py:3997: SettingWithCopyWarning:\n",
      "\n",
      "\n",
      "A value is trying to be set on a copy of a slice from a DataFrame\n",
      "\n",
      "See the caveats in the documentation: https://pandas.pydata.org/pandas-docs/stable/user_guide/indexing.html#returning-a-view-versus-a-copy\n",
      "\n"
     ]
    },
    {
     "data": {
      "text/plain": [
       "(59611, 5)"
      ]
     },
     "execution_count": 27,
     "metadata": {},
     "output_type": "execute_result"
    }
   ],
   "source": [
    "# Get month from period and dop period\n",
    "# month 13 Annual Average      \n",
    "# https://download.bls.gov/pub/time.series/ce/ce.period\n",
    "LNS2020DF['Month'] = LNS2020DF['period'].str.replace('M','').astype(int)\n",
    "LNS2020DF.drop('period',1,inplace=True)\n",
    "LNS2020DF.shape"
   ]
  },
  {
   "cell_type": "code",
   "execution_count": 28,
   "metadata": {
    "ExecuteTime": {
     "end_time": "2020-06-01T04:19:25.437583Z",
     "start_time": "2020-06-01T04:19:25.069582Z"
    }
   },
   "outputs": [
    {
     "data": {
      "text/plain": [
       "(59611, 45)"
      ]
     },
     "execution_count": 28,
     "metadata": {},
     "output_type": "execute_result"
    }
   ],
   "source": [
    "# Merge with Series DF\n",
    "LNS2020DF = pd.merge(LNS2020DF,LNSeriesDF,on='series_id',how='left')\n",
    "LNS2020DF.shape\n"
   ]
  },
  {
   "cell_type": "code",
   "execution_count": 35,
   "metadata": {
    "ExecuteTime": {
     "end_time": "2020-06-01T04:23:43.178193Z",
     "start_time": "2020-06-01T04:23:42.943200Z"
    }
   },
   "outputs": [
    {
     "data": {
      "text/plain": [
       "(59611, 46)"
      ]
     },
     "execution_count": 35,
     "metadata": {},
     "output_type": "execute_result"
    },
    {
     "name": "stdout",
     "output_type": "stream",
     "text": [
      "Exception occurred while processing request: cannot assign without a target object\n",
      "Traceback (most recent call last):\n",
      "  File \"e:\\Anaconda3\\envs\\PythonData\\lib\\site-packages\\dtale\\views.py\", line 901, in test_filter\n",
      "    global_state.get_context_variables(data_id)\n",
      "  File \"e:\\Anaconda3\\envs\\PythonData\\lib\\site-packages\\dtale\\utils.py\", line 772, in run_query\n",
      "    df = df.query(final_query, local_dict=context_vars or {})\n",
      "  File \"e:\\Anaconda3\\envs\\PythonData\\lib\\site-packages\\pandas\\core\\frame.py\", line 3231, in query\n",
      "    res = self.eval(expr, **kwargs)\n",
      "  File \"e:\\Anaconda3\\envs\\PythonData\\lib\\site-packages\\pandas\\core\\frame.py\", line 3346, in eval\n",
      "    return _eval(expr, inplace=inplace, **kwargs)\n",
      "  File \"e:\\Anaconda3\\envs\\PythonData\\lib\\site-packages\\pandas\\core\\computation\\eval.py\", line 332, in eval\n",
      "    parsed_expr = Expr(expr, engine=engine, parser=parser, env=env)\n",
      "  File \"e:\\Anaconda3\\envs\\PythonData\\lib\\site-packages\\pandas\\core\\computation\\expr.py\", line 764, in __init__\n",
      "    self.terms = self.parse()\n",
      "  File \"e:\\Anaconda3\\envs\\PythonData\\lib\\site-packages\\pandas\\core\\computation\\expr.py\", line 781, in parse\n",
      "    return self._visitor.visit(self.expr)\n",
      "  File \"e:\\Anaconda3\\envs\\PythonData\\lib\\site-packages\\pandas\\core\\computation\\expr.py\", line 375, in visit\n",
      "    return visitor(node, **kwargs)\n",
      "  File \"e:\\Anaconda3\\envs\\PythonData\\lib\\site-packages\\pandas\\core\\computation\\expr.py\", line 381, in visit_Module\n",
      "    return self.visit(expr, **kwargs)\n",
      "  File \"e:\\Anaconda3\\envs\\PythonData\\lib\\site-packages\\pandas\\core\\computation\\expr.py\", line 375, in visit\n",
      "    return visitor(node, **kwargs)\n",
      "  File \"e:\\Anaconda3\\envs\\PythonData\\lib\\site-packages\\pandas\\core\\computation\\expr.py\", line 585, in visit_Assign\n",
      "    raise ValueError(\"cannot assign without a target object\")\n",
      "ValueError: cannot assign without a target object\n"
     ]
    },
    {
     "name": "stderr",
     "output_type": "stream",
     "text": [
      "2020-05-31 23:24:36,697 - ERROR    - Exception occurred while processing request: cannot assign without a target object\n",
      "Traceback (most recent call last):\n",
      "  File \"e:\\Anaconda3\\envs\\PythonData\\lib\\site-packages\\dtale\\views.py\", line 901, in test_filter\n",
      "    global_state.get_context_variables(data_id)\n",
      "  File \"e:\\Anaconda3\\envs\\PythonData\\lib\\site-packages\\dtale\\utils.py\", line 772, in run_query\n",
      "    df = df.query(final_query, local_dict=context_vars or {})\n",
      "  File \"e:\\Anaconda3\\envs\\PythonData\\lib\\site-packages\\pandas\\core\\frame.py\", line 3231, in query\n",
      "    res = self.eval(expr, **kwargs)\n",
      "  File \"e:\\Anaconda3\\envs\\PythonData\\lib\\site-packages\\pandas\\core\\frame.py\", line 3346, in eval\n",
      "    return _eval(expr, inplace=inplace, **kwargs)\n",
      "  File \"e:\\Anaconda3\\envs\\PythonData\\lib\\site-packages\\pandas\\core\\computation\\eval.py\", line 332, in eval\n",
      "    parsed_expr = Expr(expr, engine=engine, parser=parser, env=env)\n",
      "  File \"e:\\Anaconda3\\envs\\PythonData\\lib\\site-packages\\pandas\\core\\computation\\expr.py\", line 764, in __init__\n",
      "    self.terms = self.parse()\n",
      "  File \"e:\\Anaconda3\\envs\\PythonData\\lib\\site-packages\\pandas\\core\\computation\\expr.py\", line 781, in parse\n",
      "    return self._visitor.visit(self.expr)\n",
      "  File \"e:\\Anaconda3\\envs\\PythonData\\lib\\site-packages\\pandas\\core\\computation\\expr.py\", line 375, in visit\n",
      "    return visitor(node, **kwargs)\n",
      "  File \"e:\\Anaconda3\\envs\\PythonData\\lib\\site-packages\\pandas\\core\\computation\\expr.py\", line 381, in visit_Module\n",
      "    return self.visit(expr, **kwargs)\n",
      "  File \"e:\\Anaconda3\\envs\\PythonData\\lib\\site-packages\\pandas\\core\\computation\\expr.py\", line 375, in visit\n",
      "    return visitor(node, **kwargs)\n",
      "  File \"e:\\Anaconda3\\envs\\PythonData\\lib\\site-packages\\pandas\\core\\computation\\expr.py\", line 585, in visit_Assign\n",
      "    raise ValueError(\"cannot assign without a target object\")\n",
      "ValueError: cannot assign without a target object\n"
     ]
    }
   ],
   "source": [
    "LNS2020DF = pd.merge(LNS2020DF,industriesDF,on='indy_code',how='left')\n",
    "LNS2020DF.shape"
   ]
  },
  {
   "cell_type": "code",
   "execution_count": 37,
   "metadata": {
    "ExecuteTime": {
     "end_time": "2020-06-01T04:33:26.728560Z",
     "start_time": "2020-06-01T04:33:26.670559Z"
    }
   },
   "outputs": [],
   "source": [
    "LNS2020DF.drop(['jdes_code','absn_code','cert_code','rjnw_code', 'begin_year',\n",
    "                'begin_period', 'end_year', 'end_period'],1,inplace=True)\n",
    "\n"
   ]
  },
  {
   "cell_type": "code",
   "execution_count": 30,
   "metadata": {
    "ExecuteTime": {
     "end_time": "2020-06-01T04:19:56.528841Z",
     "start_time": "2020-06-01T04:19:48.061909Z"
    }
   },
   "outputs": [],
   "source": [
    "# Browse the data\n",
    "# uncomment the following lines to browse the data\n",
    "\n",
    "#d = dtale.show(LNS2020DF, ignore_duplicate=True)\n",
    "#d.open_browser()"
   ]
  },
  {
   "cell_type": "code",
   "execution_count": 23,
   "metadata": {
    "ExecuteTime": {
     "end_time": "2020-06-01T02:18:28.892009Z",
     "start_time": "2020-06-01T02:18:28.709015Z"
    }
   },
   "outputs": [],
   "source": [
    "LNS2020DF.to_pickle(\"resources/LNS2020.pkl\",compression='gzip')"
   ]
  },
  {
   "cell_type": "code",
   "execution_count": 24,
   "metadata": {
    "ExecuteTime": {
     "end_time": "2020-06-01T02:18:28.924007Z",
     "start_time": "2020-06-01T02:18:28.894011Z"
    }
   },
   "outputs": [],
   "source": [
    "# to load Picke file use the following once pickle has been generated\n",
    "LNS2020DF_2=pd.read_pickle('resources/LNS2020.pkl',compression='gzip')"
   ]
  },
  {
   "cell_type": "code",
   "execution_count": null,
   "metadata": {},
   "outputs": [],
   "source": []
  }
 ],
 "metadata": {
  "kernelspec": {
   "display_name": "Python 3.6.10 64-bit ('PythonData': conda)",
   "language": "python",
   "name": "python361064bitpythondatacondaec7e8270480d4d8a925de6dc1659eacb"
  },
  "language_info": {
   "codemirror_mode": {
    "name": "ipython",
    "version": 3
   },
   "file_extension": ".py",
   "mimetype": "text/x-python",
   "name": "python",
   "nbconvert_exporter": "python",
   "pygments_lexer": "ipython3",
   "version": "3.6.10"
  }
 },
 "nbformat": 4,
 "nbformat_minor": 4
}
