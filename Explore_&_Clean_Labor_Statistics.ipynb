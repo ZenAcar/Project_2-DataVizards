{
 "cells": [
  {
   "cell_type": "code",
   "execution_count": 1,
   "metadata": {
    "ExecuteTime": {
     "end_time": "2020-06-03T17:09:29.356735Z",
     "start_time": "2020-06-03T17:09:28.158735Z"
    }
   },
   "outputs": [
    {
     "data": {
      "text/html": [
       "<div>\n",
       "<style scoped>\n",
       "    .dataframe tbody tr th:only-of-type {\n",
       "        vertical-align: middle;\n",
       "    }\n",
       "\n",
       "    .dataframe tbody tr th {\n",
       "        vertical-align: top;\n",
       "    }\n",
       "\n",
       "    .dataframe thead th {\n",
       "        text-align: right;\n",
       "    }\n",
       "</style>\n",
       "<table border=\"1\" class=\"dataframe\">\n",
       "  <thead>\n",
       "    <tr style=\"text-align: right;\">\n",
       "      <th></th>\n",
       "      <th>series_id</th>\n",
       "      <th>year</th>\n",
       "      <th>value</th>\n",
       "      <th>Month</th>\n",
       "      <th>lfst_code</th>\n",
       "      <th>periodicity_code</th>\n",
       "      <th>series_title</th>\n",
       "      <th>activity_code</th>\n",
       "      <th>ages_code</th>\n",
       "      <th>class_code</th>\n",
       "      <th>duration_code</th>\n",
       "      <th>education_code</th>\n",
       "      <th>entr_code</th>\n",
       "      <th>expr_code</th>\n",
       "      <th>indy_text</th>\n",
       "    </tr>\n",
       "  </thead>\n",
       "  <tbody>\n",
       "    <tr>\n",
       "      <td>0</td>\n",
       "      <td>LNS11000000</td>\n",
       "      <td>2015</td>\n",
       "      <td>157030.0</td>\n",
       "      <td>1</td>\n",
       "      <td>10</td>\n",
       "      <td>M</td>\n",
       "      <td>(Seas) Civilian Labor Force Level</td>\n",
       "      <td>0</td>\n",
       "      <td>00</td>\n",
       "      <td>0</td>\n",
       "      <td>0</td>\n",
       "      <td>00</td>\n",
       "      <td>0</td>\n",
       "      <td>0</td>\n",
       "      <td>All Industries</td>\n",
       "    </tr>\n",
       "    <tr>\n",
       "      <td>1</td>\n",
       "      <td>LNS11000000</td>\n",
       "      <td>2015</td>\n",
       "      <td>156644.0</td>\n",
       "      <td>2</td>\n",
       "      <td>10</td>\n",
       "      <td>M</td>\n",
       "      <td>(Seas) Civilian Labor Force Level</td>\n",
       "      <td>0</td>\n",
       "      <td>00</td>\n",
       "      <td>0</td>\n",
       "      <td>0</td>\n",
       "      <td>00</td>\n",
       "      <td>0</td>\n",
       "      <td>0</td>\n",
       "      <td>All Industries</td>\n",
       "    </tr>\n",
       "    <tr>\n",
       "      <td>2</td>\n",
       "      <td>LNS11000000</td>\n",
       "      <td>2015</td>\n",
       "      <td>156643.0</td>\n",
       "      <td>3</td>\n",
       "      <td>10</td>\n",
       "      <td>M</td>\n",
       "      <td>(Seas) Civilian Labor Force Level</td>\n",
       "      <td>0</td>\n",
       "      <td>00</td>\n",
       "      <td>0</td>\n",
       "      <td>0</td>\n",
       "      <td>00</td>\n",
       "      <td>0</td>\n",
       "      <td>0</td>\n",
       "      <td>All Industries</td>\n",
       "    </tr>\n",
       "    <tr>\n",
       "      <td>3</td>\n",
       "      <td>LNS11000000</td>\n",
       "      <td>2015</td>\n",
       "      <td>157060.0</td>\n",
       "      <td>4</td>\n",
       "      <td>10</td>\n",
       "      <td>M</td>\n",
       "      <td>(Seas) Civilian Labor Force Level</td>\n",
       "      <td>0</td>\n",
       "      <td>00</td>\n",
       "      <td>0</td>\n",
       "      <td>0</td>\n",
       "      <td>00</td>\n",
       "      <td>0</td>\n",
       "      <td>0</td>\n",
       "      <td>All Industries</td>\n",
       "    </tr>\n",
       "    <tr>\n",
       "      <td>4</td>\n",
       "      <td>LNS11000000</td>\n",
       "      <td>2015</td>\n",
       "      <td>157651.0</td>\n",
       "      <td>5</td>\n",
       "      <td>10</td>\n",
       "      <td>M</td>\n",
       "      <td>(Seas) Civilian Labor Force Level</td>\n",
       "      <td>0</td>\n",
       "      <td>00</td>\n",
       "      <td>0</td>\n",
       "      <td>0</td>\n",
       "      <td>00</td>\n",
       "      <td>0</td>\n",
       "      <td>0</td>\n",
       "      <td>All Industries</td>\n",
       "    </tr>\n",
       "  </tbody>\n",
       "</table>\n",
       "</div>"
      ],
      "text/plain": [
       "     series_id  year     value  Month  lfst_code periodicity_code  \\\n",
       "0  LNS11000000  2015  157030.0      1         10                M   \n",
       "1  LNS11000000  2015  156644.0      2         10                M   \n",
       "2  LNS11000000  2015  156643.0      3         10                M   \n",
       "3  LNS11000000  2015  157060.0      4         10                M   \n",
       "4  LNS11000000  2015  157651.0      5         10                M   \n",
       "\n",
       "                        series_title  activity_code ages_code  class_code  \\\n",
       "0  (Seas) Civilian Labor Force Level              0        00           0   \n",
       "1  (Seas) Civilian Labor Force Level              0        00           0   \n",
       "2  (Seas) Civilian Labor Force Level              0        00           0   \n",
       "3  (Seas) Civilian Labor Force Level              0        00           0   \n",
       "4  (Seas) Civilian Labor Force Level              0        00           0   \n",
       "\n",
       "   duration_code education_code  entr_code  expr_code       indy_text  \n",
       "0              0             00          0          0  All Industries  \n",
       "1              0             00          0          0  All Industries  \n",
       "2              0             00          0          0  All Industries  \n",
       "3              0             00          0          0  All Industries  \n",
       "4              0             00          0          0  All Industries  "
      ]
     },
     "execution_count": 1,
     "metadata": {},
     "output_type": "execute_result"
    }
   ],
   "source": [
    "# Dependencies and Setup\n",
    "import pandas as pd\n",
    "import seaborn as sns\n",
    "import numpy as np\n",
    "from datetime import datetime,date\n",
    "\n",
    "# File to Load\n",
    "LNSDF=pd.read_pickle('resources/LNS2020.pkl',compression='gzip')\n",
    "# Preview of the DataFrame\n",
    "LNSDF.head()"
   ]
  },
  {
   "cell_type": "code",
   "execution_count": 2,
   "metadata": {
    "ExecuteTime": {
     "end_time": "2020-06-03T17:09:29.372736Z",
     "start_time": "2020-06-03T17:09:29.360736Z"
    }
   },
   "outputs": [
    {
     "data": {
      "text/plain": [
       "series_id            object\n",
       "year                  int64\n",
       "value               float64\n",
       "Month                 int64\n",
       "lfst_code             int64\n",
       "periodicity_code     object\n",
       "series_title         object\n",
       "activity_code         int64\n",
       "ages_code            object\n",
       "class_code            int64\n",
       "duration_code         int64\n",
       "education_code       object\n",
       "entr_code             int64\n",
       "expr_code             int64\n",
       "indy_text            object\n",
       "dtype: object"
      ]
     },
     "execution_count": 2,
     "metadata": {},
     "output_type": "execute_result"
    }
   ],
   "source": [
    "# Check for correct data types - need to convert\n",
    "LNSDF.dtypes"
   ]
  },
  {
   "cell_type": "code",
   "execution_count": 3,
   "metadata": {
    "ExecuteTime": {
     "end_time": "2020-06-03T17:09:29.387734Z",
     "start_time": "2020-06-03T17:09:29.376736Z"
    }
   },
   "outputs": [
    {
     "data": {
      "text/plain": [
       "Index(['series_id', 'year', 'value', 'Month', 'lfst_code', 'periodicity_code',\n",
       "       'series_title', 'activity_code', 'ages_code', 'class_code',\n",
       "       'duration_code', 'education_code', 'entr_code', 'expr_code',\n",
       "       'indy_text'],\n",
       "      dtype='object')"
      ]
     },
     "execution_count": 3,
     "metadata": {},
     "output_type": "execute_result"
    }
   ],
   "source": [
    "# Check column names for spaces - looks good\n",
    "LNSDF.columns"
   ]
  },
  {
   "cell_type": "code",
   "execution_count": 4,
   "metadata": {
    "ExecuteTime": {
     "end_time": "2020-06-03T17:09:29.403737Z",
     "start_time": "2020-06-03T17:09:29.391740Z"
    }
   },
   "outputs": [
    {
     "data": {
      "text/plain": [
       "series_id           1300\n",
       "year                1300\n",
       "value               1300\n",
       "Month               1300\n",
       "lfst_code           1300\n",
       "periodicity_code    1300\n",
       "series_title        1300\n",
       "activity_code       1300\n",
       "ages_code           1300\n",
       "class_code          1300\n",
       "duration_code       1300\n",
       "education_code      1300\n",
       "entr_code           1300\n",
       "expr_code           1300\n",
       "indy_text           1300\n",
       "dtype: int64"
      ]
     },
     "execution_count": 4,
     "metadata": {},
     "output_type": "execute_result"
    }
   ],
   "source": [
    "# Identify incomplete rows\n",
    "LNSDF.count()"
   ]
  },
  {
   "cell_type": "code",
   "execution_count": 5,
   "metadata": {
    "ExecuteTime": {
     "end_time": "2020-06-03T17:09:29.419738Z",
     "start_time": "2020-06-03T17:09:29.406740Z"
    }
   },
   "outputs": [],
   "source": [
    "# Drop all rows with missing information\n",
    "# df = unemployment_df.dropna(how='any')"
   ]
  },
  {
   "cell_type": "code",
   "execution_count": 6,
   "metadata": {
    "ExecuteTime": {
     "end_time": "2020-06-03T17:09:29.435735Z",
     "start_time": "2020-06-03T17:09:29.421738Z"
    }
   },
   "outputs": [
    {
     "data": {
      "text/plain": [
       "series_id           1300\n",
       "year                1300\n",
       "value               1300\n",
       "Month               1300\n",
       "lfst_code           1300\n",
       "periodicity_code    1300\n",
       "series_title        1300\n",
       "activity_code       1300\n",
       "ages_code           1300\n",
       "class_code          1300\n",
       "duration_code       1300\n",
       "education_code      1300\n",
       "entr_code           1300\n",
       "expr_code           1300\n",
       "indy_text           1300\n",
       "dtype: int64"
      ]
     },
     "execution_count": 6,
     "metadata": {},
     "output_type": "execute_result"
    }
   ],
   "source": [
    "# Verify dropped rows\n",
    "LNSDF.count()"
   ]
  },
  {
   "cell_type": "code",
   "execution_count": 7,
   "metadata": {
    "ExecuteTime": {
     "end_time": "2020-06-03T17:09:29.466734Z",
     "start_time": "2020-06-03T17:09:29.437735Z"
    }
   },
   "outputs": [
    {
     "data": {
      "text/plain": [
       "LNS13032183    65\n",
       "LNS13024230    65\n",
       "LNS13000000    65\n",
       "LNS11000002    65\n",
       "LNS11000001    65\n",
       "LNS13027662    65\n",
       "LNS13000012    65\n",
       "LNS13027689    65\n",
       "LNS13000091    65\n",
       "LNS13000002    65\n",
       "LNS13027659    65\n",
       "LNS13000001    65\n",
       "LNS13000093    65\n",
       "LNS13000006    65\n",
       "LNS11000000    65\n",
       "LNS13027660    65\n",
       "LNS13000089    65\n",
       "LNS13000003    65\n",
       "LNS13000009    65\n",
       "LNS13000036    65\n",
       "Name: series_id, dtype: int64"
      ]
     },
     "execution_count": 7,
     "metadata": {},
     "output_type": "execute_result"
    }
   ],
   "source": [
    "# Check states values\n",
    "LNSDF['series_id'].value_counts()"
   ]
  },
  {
   "cell_type": "code",
   "execution_count": 8,
   "metadata": {
    "ExecuteTime": {
     "end_time": "2020-06-03T17:09:29.512735Z",
     "start_time": "2020-06-03T17:09:29.469739Z"
    },
    "scrolled": true
   },
   "outputs": [
    {
     "data": {
      "text/html": [
       "<div>\n",
       "<style scoped>\n",
       "    .dataframe tbody tr th:only-of-type {\n",
       "        vertical-align: middle;\n",
       "    }\n",
       "\n",
       "    .dataframe tbody tr th {\n",
       "        vertical-align: top;\n",
       "    }\n",
       "\n",
       "    .dataframe thead th {\n",
       "        text-align: right;\n",
       "    }\n",
       "</style>\n",
       "<table border=\"1\" class=\"dataframe\">\n",
       "  <thead>\n",
       "    <tr style=\"text-align: right;\">\n",
       "      <th></th>\n",
       "      <th>year</th>\n",
       "      <th>value</th>\n",
       "      <th>Month</th>\n",
       "      <th>lfst_code</th>\n",
       "      <th>activity_code</th>\n",
       "      <th>class_code</th>\n",
       "      <th>duration_code</th>\n",
       "      <th>entr_code</th>\n",
       "      <th>expr_code</th>\n",
       "    </tr>\n",
       "  </thead>\n",
       "  <tbody>\n",
       "    <tr>\n",
       "      <td>count</td>\n",
       "      <td>1300.000000</td>\n",
       "      <td>1300.000000</td>\n",
       "      <td>1300.000000</td>\n",
       "      <td>1300.000000</td>\n",
       "      <td>1300.0</td>\n",
       "      <td>1300.0</td>\n",
       "      <td>1300.0</td>\n",
       "      <td>1300.0</td>\n",
       "      <td>1300.0</td>\n",
       "    </tr>\n",
       "    <tr>\n",
       "      <td>mean</td>\n",
       "      <td>2017.230769</td>\n",
       "      <td>17875.998462</td>\n",
       "      <td>6.230769</td>\n",
       "      <td>27.000000</td>\n",
       "      <td>0.0</td>\n",
       "      <td>0.0</td>\n",
       "      <td>0.0</td>\n",
       "      <td>0.0</td>\n",
       "      <td>0.0</td>\n",
       "    </tr>\n",
       "    <tr>\n",
       "      <td>std</td>\n",
       "      <td>1.577061</td>\n",
       "      <td>40307.361619</td>\n",
       "      <td>3.468851</td>\n",
       "      <td>7.144177</td>\n",
       "      <td>0.0</td>\n",
       "      <td>0.0</td>\n",
       "      <td>0.0</td>\n",
       "      <td>0.0</td>\n",
       "      <td>0.0</td>\n",
       "    </tr>\n",
       "    <tr>\n",
       "      <td>min</td>\n",
       "      <td>2015.000000</td>\n",
       "      <td>217.000000</td>\n",
       "      <td>1.000000</td>\n",
       "      <td>10.000000</td>\n",
       "      <td>0.0</td>\n",
       "      <td>0.0</td>\n",
       "      <td>0.0</td>\n",
       "      <td>0.0</td>\n",
       "      <td>0.0</td>\n",
       "    </tr>\n",
       "    <tr>\n",
       "      <td>25%</td>\n",
       "      <td>2016.000000</td>\n",
       "      <td>1137.000000</td>\n",
       "      <td>3.000000</td>\n",
       "      <td>30.000000</td>\n",
       "      <td>0.0</td>\n",
       "      <td>0.0</td>\n",
       "      <td>0.0</td>\n",
       "      <td>0.0</td>\n",
       "      <td>0.0</td>\n",
       "    </tr>\n",
       "    <tr>\n",
       "      <td>50%</td>\n",
       "      <td>2017.000000</td>\n",
       "      <td>1489.500000</td>\n",
       "      <td>6.000000</td>\n",
       "      <td>30.000000</td>\n",
       "      <td>0.0</td>\n",
       "      <td>0.0</td>\n",
       "      <td>0.0</td>\n",
       "      <td>0.0</td>\n",
       "      <td>0.0</td>\n",
       "    </tr>\n",
       "    <tr>\n",
       "      <td>75%</td>\n",
       "      <td>2019.000000</td>\n",
       "      <td>4413.250000</td>\n",
       "      <td>9.000000</td>\n",
       "      <td>30.000000</td>\n",
       "      <td>0.0</td>\n",
       "      <td>0.0</td>\n",
       "      <td>0.0</td>\n",
       "      <td>0.0</td>\n",
       "      <td>0.0</td>\n",
       "    </tr>\n",
       "    <tr>\n",
       "      <td>max</td>\n",
       "      <td>2020.000000</td>\n",
       "      <td>164606.000000</td>\n",
       "      <td>12.000000</td>\n",
       "      <td>30.000000</td>\n",
       "      <td>0.0</td>\n",
       "      <td>0.0</td>\n",
       "      <td>0.0</td>\n",
       "      <td>0.0</td>\n",
       "      <td>0.0</td>\n",
       "    </tr>\n",
       "  </tbody>\n",
       "</table>\n",
       "</div>"
      ],
      "text/plain": [
       "              year          value        Month    lfst_code  activity_code  \\\n",
       "count  1300.000000    1300.000000  1300.000000  1300.000000         1300.0   \n",
       "mean   2017.230769   17875.998462     6.230769    27.000000            0.0   \n",
       "std       1.577061   40307.361619     3.468851     7.144177            0.0   \n",
       "min    2015.000000     217.000000     1.000000    10.000000            0.0   \n",
       "25%    2016.000000    1137.000000     3.000000    30.000000            0.0   \n",
       "50%    2017.000000    1489.500000     6.000000    30.000000            0.0   \n",
       "75%    2019.000000    4413.250000     9.000000    30.000000            0.0   \n",
       "max    2020.000000  164606.000000    12.000000    30.000000            0.0   \n",
       "\n",
       "       class_code  duration_code  entr_code  expr_code  \n",
       "count      1300.0         1300.0     1300.0     1300.0  \n",
       "mean          0.0            0.0        0.0        0.0  \n",
       "std           0.0            0.0        0.0        0.0  \n",
       "min           0.0            0.0        0.0        0.0  \n",
       "25%           0.0            0.0        0.0        0.0  \n",
       "50%           0.0            0.0        0.0        0.0  \n",
       "75%           0.0            0.0        0.0        0.0  \n",
       "max           0.0            0.0        0.0        0.0  "
      ]
     },
     "execution_count": 8,
     "metadata": {},
     "output_type": "execute_result"
    }
   ],
   "source": [
    "# Display a statistical overview for a high level insight into the data\n",
    "LNSDF.describe()"
   ]
  },
  {
   "cell_type": "code",
   "execution_count": 9,
   "metadata": {},
   "outputs": [
    {
     "name": "stdout",
     "output_type": "stream",
     "text": [
      "         series_id  year     value  Month  lfst_code periodicity_code  \\\n",
      "0      LNS11000000  2015  157030.0      1         10                M   \n",
      "1      LNS11000000  2015  156644.0      2         10                M   \n",
      "2      LNS11000000  2015  156643.0      3         10                M   \n",
      "3      LNS11000000  2015  157060.0      4         10                M   \n",
      "4      LNS11000000  2015  157651.0      5         10                M   \n",
      "...            ...   ...       ...    ...        ...              ...   \n",
      "29375  LNS13032183  2020     315.0      1         30                M   \n",
      "29376  LNS13032183  2020     262.0      2         30                M   \n",
      "29377  LNS13032183  2020     433.0      3         30                M   \n",
      "29378  LNS13032183  2020    1438.0      4         30                M   \n",
      "29379  LNS13032183  2020    1493.0      5         30                M   \n",
      "\n",
      "                            series_title  activity_code ages_code  class_code  \\\n",
      "0      (Seas) Civilian Labor Force Level              0        00           0   \n",
      "1      (Seas) Civilian Labor Force Level              0        00           0   \n",
      "2      (Seas) Civilian Labor Force Level              0        00           0   \n",
      "3      (Seas) Civilian Labor Force Level              0        00           0   \n",
      "4      (Seas) Civilian Labor Force Level              0        00           0   \n",
      "...                                  ...            ...       ...         ...   \n",
      "29375  (Seas) Unemployment Level - Asian              0        00           0   \n",
      "29376  (Seas) Unemployment Level - Asian              0        00           0   \n",
      "29377  (Seas) Unemployment Level - Asian              0        00           0   \n",
      "29378  (Seas) Unemployment Level - Asian              0        00           0   \n",
      "29379  (Seas) Unemployment Level - Asian              0        00           0   \n",
      "\n",
      "       duration_code education_code  entr_code  expr_code       indy_text  \n",
      "0                  0             00          0          0  All Industries  \n",
      "1                  0             00          0          0  All Industries  \n",
      "2                  0             00          0          0  All Industries  \n",
      "3                  0             00          0          0  All Industries  \n",
      "4                  0             00          0          0  All Industries  \n",
      "...              ...            ...        ...        ...             ...  \n",
      "29375              0             00          0          0  All Industries  \n",
      "29376              0             00          0          0  All Industries  \n",
      "29377              0             00          0          0  All Industries  \n",
      "29378              0             00          0          0  All Industries  \n",
      "29379              0             00          0          0  All Industries  \n",
      "\n",
      "[1300 rows x 15 columns]\n"
     ]
    }
   ],
   "source": [
    "print(LNSDF)"
   ]
  },
  {
   "cell_type": "code",
   "execution_count": 10,
   "metadata": {},
   "outputs": [
    {
     "name": "stdout",
     "output_type": "stream",
     "text": [
      "['LNS11000000' 'LNS11000001' 'LNS11000002' 'LNS13000000' 'LNS13000001'\n",
      " 'LNS13000002' 'LNS13000003' 'LNS13000006' 'LNS13000009' 'LNS13000012'\n",
      " 'LNS13000036' 'LNS13000089' 'LNS13000091' 'LNS13000093' 'LNS13024230'\n",
      " 'LNS13027659' 'LNS13027660' 'LNS13027662' 'LNS13027689' 'LNS13032183']\n"
     ]
    }
   ],
   "source": [
    "series = LNSDF['series_id'].unique()\n",
    "print(series)"
   ]
  },
  {
   "cell_type": "code",
   "execution_count": 11,
   "metadata": {},
   "outputs": [
    {
     "data": {
      "text/html": [
       "<div>\n",
       "<style scoped>\n",
       "    .dataframe tbody tr th:only-of-type {\n",
       "        vertical-align: middle;\n",
       "    }\n",
       "\n",
       "    .dataframe tbody tr th {\n",
       "        vertical-align: top;\n",
       "    }\n",
       "\n",
       "    .dataframe thead th {\n",
       "        text-align: right;\n",
       "    }\n",
       "</style>\n",
       "<table border=\"1\" class=\"dataframe\">\n",
       "  <thead>\n",
       "    <tr style=\"text-align: right;\">\n",
       "      <th></th>\n",
       "      <th>series_id</th>\n",
       "      <th>year</th>\n",
       "      <th>value</th>\n",
       "      <th>Month</th>\n",
       "      <th>lfst_code</th>\n",
       "      <th>periodicity_code</th>\n",
       "      <th>series_title</th>\n",
       "      <th>activity_code</th>\n",
       "      <th>ages_code</th>\n",
       "      <th>class_code</th>\n",
       "      <th>duration_code</th>\n",
       "      <th>education_code</th>\n",
       "      <th>entr_code</th>\n",
       "      <th>expr_code</th>\n",
       "      <th>indy_text</th>\n",
       "    </tr>\n",
       "  </thead>\n",
       "  <tbody>\n",
       "    <tr>\n",
       "      <td>0</td>\n",
       "      <td>LNS11000000</td>\n",
       "      <td>2015</td>\n",
       "      <td>157030.0</td>\n",
       "      <td>1</td>\n",
       "      <td>10</td>\n",
       "      <td>M</td>\n",
       "      <td>(Seas) Civilian Labor Force Level</td>\n",
       "      <td>0</td>\n",
       "      <td>00</td>\n",
       "      <td>0</td>\n",
       "      <td>0</td>\n",
       "      <td>00</td>\n",
       "      <td>0</td>\n",
       "      <td>0</td>\n",
       "      <td>All Industries</td>\n",
       "    </tr>\n",
       "    <tr>\n",
       "      <td>1</td>\n",
       "      <td>LNS11000000</td>\n",
       "      <td>2015</td>\n",
       "      <td>156644.0</td>\n",
       "      <td>2</td>\n",
       "      <td>10</td>\n",
       "      <td>M</td>\n",
       "      <td>(Seas) Civilian Labor Force Level</td>\n",
       "      <td>0</td>\n",
       "      <td>00</td>\n",
       "      <td>0</td>\n",
       "      <td>0</td>\n",
       "      <td>00</td>\n",
       "      <td>0</td>\n",
       "      <td>0</td>\n",
       "      <td>All Industries</td>\n",
       "    </tr>\n",
       "    <tr>\n",
       "      <td>2</td>\n",
       "      <td>LNS11000000</td>\n",
       "      <td>2015</td>\n",
       "      <td>156643.0</td>\n",
       "      <td>3</td>\n",
       "      <td>10</td>\n",
       "      <td>M</td>\n",
       "      <td>(Seas) Civilian Labor Force Level</td>\n",
       "      <td>0</td>\n",
       "      <td>00</td>\n",
       "      <td>0</td>\n",
       "      <td>0</td>\n",
       "      <td>00</td>\n",
       "      <td>0</td>\n",
       "      <td>0</td>\n",
       "      <td>All Industries</td>\n",
       "    </tr>\n",
       "    <tr>\n",
       "      <td>3</td>\n",
       "      <td>LNS11000000</td>\n",
       "      <td>2015</td>\n",
       "      <td>157060.0</td>\n",
       "      <td>4</td>\n",
       "      <td>10</td>\n",
       "      <td>M</td>\n",
       "      <td>(Seas) Civilian Labor Force Level</td>\n",
       "      <td>0</td>\n",
       "      <td>00</td>\n",
       "      <td>0</td>\n",
       "      <td>0</td>\n",
       "      <td>00</td>\n",
       "      <td>0</td>\n",
       "      <td>0</td>\n",
       "      <td>All Industries</td>\n",
       "    </tr>\n",
       "    <tr>\n",
       "      <td>4</td>\n",
       "      <td>LNS11000000</td>\n",
       "      <td>2015</td>\n",
       "      <td>157651.0</td>\n",
       "      <td>5</td>\n",
       "      <td>10</td>\n",
       "      <td>M</td>\n",
       "      <td>(Seas) Civilian Labor Force Level</td>\n",
       "      <td>0</td>\n",
       "      <td>00</td>\n",
       "      <td>0</td>\n",
       "      <td>0</td>\n",
       "      <td>00</td>\n",
       "      <td>0</td>\n",
       "      <td>0</td>\n",
       "      <td>All Industries</td>\n",
       "    </tr>\n",
       "  </tbody>\n",
       "</table>\n",
       "</div>"
      ],
      "text/plain": [
       "     series_id  year     value  Month  lfst_code periodicity_code  \\\n",
       "0  LNS11000000  2015  157030.0      1         10                M   \n",
       "1  LNS11000000  2015  156644.0      2         10                M   \n",
       "2  LNS11000000  2015  156643.0      3         10                M   \n",
       "3  LNS11000000  2015  157060.0      4         10                M   \n",
       "4  LNS11000000  2015  157651.0      5         10                M   \n",
       "\n",
       "                        series_title  activity_code ages_code  class_code  \\\n",
       "0  (Seas) Civilian Labor Force Level              0        00           0   \n",
       "1  (Seas) Civilian Labor Force Level              0        00           0   \n",
       "2  (Seas) Civilian Labor Force Level              0        00           0   \n",
       "3  (Seas) Civilian Labor Force Level              0        00           0   \n",
       "4  (Seas) Civilian Labor Force Level              0        00           0   \n",
       "\n",
       "   duration_code education_code  entr_code  expr_code       indy_text  \n",
       "0              0             00          0          0  All Industries  \n",
       "1              0             00          0          0  All Industries  \n",
       "2              0             00          0          0  All Industries  \n",
       "3              0             00          0          0  All Industries  \n",
       "4              0             00          0          0  All Industries  "
      ]
     },
     "execution_count": 11,
     "metadata": {},
     "output_type": "execute_result"
    }
   ],
   "source": [
    "condition = LNSDF['series_id'].isin(series)\n",
    "LNSSeriesDF = LNSDF[condition]\n",
    "LNSSeriesDF.head()"
   ]
  },
  {
   "cell_type": "code",
   "execution_count": 12,
   "metadata": {},
   "outputs": [
    {
     "name": "stderr",
     "output_type": "stream",
     "text": [
      "/Users/harinirao/opt/anaconda3/lib/python3.7/site-packages/ipykernel_launcher.py:3: SettingWithCopyWarning: \n",
      "A value is trying to be set on a copy of a slice from a DataFrame.\n",
      "Try using .loc[row_indexer,col_indexer] = value instead\n",
      "\n",
      "See the caveats in the documentation: http://pandas.pydata.org/pandas-docs/stable/user_guide/indexing.html#returning-a-view-versus-a-copy\n",
      "  This is separate from the ipykernel package so we can avoid doing imports until\n"
     ]
    },
    {
     "data": {
      "text/html": [
       "<div>\n",
       "<style scoped>\n",
       "    .dataframe tbody tr th:only-of-type {\n",
       "        vertical-align: middle;\n",
       "    }\n",
       "\n",
       "    .dataframe tbody tr th {\n",
       "        vertical-align: top;\n",
       "    }\n",
       "\n",
       "    .dataframe thead th {\n",
       "        text-align: right;\n",
       "    }\n",
       "</style>\n",
       "<table border=\"1\" class=\"dataframe\">\n",
       "  <thead>\n",
       "    <tr style=\"text-align: right;\">\n",
       "      <th></th>\n",
       "      <th>year</th>\n",
       "      <th>Month</th>\n",
       "      <th>value</th>\n",
       "      <th>series_title</th>\n",
       "      <th>date</th>\n",
       "    </tr>\n",
       "  </thead>\n",
       "  <tbody>\n",
       "    <tr>\n",
       "      <td>0</td>\n",
       "      <td>2015</td>\n",
       "      <td>1</td>\n",
       "      <td>157030.0</td>\n",
       "      <td>(Seas) Civilian Labor Force Level</td>\n",
       "      <td>2015-1</td>\n",
       "    </tr>\n",
       "    <tr>\n",
       "      <td>1</td>\n",
       "      <td>2015</td>\n",
       "      <td>2</td>\n",
       "      <td>156644.0</td>\n",
       "      <td>(Seas) Civilian Labor Force Level</td>\n",
       "      <td>2015-2</td>\n",
       "    </tr>\n",
       "    <tr>\n",
       "      <td>2</td>\n",
       "      <td>2015</td>\n",
       "      <td>3</td>\n",
       "      <td>156643.0</td>\n",
       "      <td>(Seas) Civilian Labor Force Level</td>\n",
       "      <td>2015-3</td>\n",
       "    </tr>\n",
       "    <tr>\n",
       "      <td>3</td>\n",
       "      <td>2015</td>\n",
       "      <td>4</td>\n",
       "      <td>157060.0</td>\n",
       "      <td>(Seas) Civilian Labor Force Level</td>\n",
       "      <td>2015-4</td>\n",
       "    </tr>\n",
       "    <tr>\n",
       "      <td>4</td>\n",
       "      <td>2015</td>\n",
       "      <td>5</td>\n",
       "      <td>157651.0</td>\n",
       "      <td>(Seas) Civilian Labor Force Level</td>\n",
       "      <td>2015-5</td>\n",
       "    </tr>\n",
       "  </tbody>\n",
       "</table>\n",
       "</div>"
      ],
      "text/plain": [
       "   year  Month     value                       series_title    date\n",
       "0  2015      1  157030.0  (Seas) Civilian Labor Force Level  2015-1\n",
       "1  2015      2  156644.0  (Seas) Civilian Labor Force Level  2015-2\n",
       "2  2015      3  156643.0  (Seas) Civilian Labor Force Level  2015-3\n",
       "3  2015      4  157060.0  (Seas) Civilian Labor Force Level  2015-4\n",
       "4  2015      5  157651.0  (Seas) Civilian Labor Force Level  2015-5"
      ]
     },
     "execution_count": 12,
     "metadata": {},
     "output_type": "execute_result"
    }
   ],
   "source": [
    "unemp_df = LNSSeriesDF[['year','Month','value','series_title']]\n",
    "\n",
    "unemp_df['date']=unemp_df['year'].astype(str) + \"-\"+ unemp_df['Month'].astype(str) \n",
    "unemp_df.head()"
   ]
  },
  {
   "cell_type": "code",
   "execution_count": 13,
   "metadata": {},
   "outputs": [
    {
     "name": "stdout",
     "output_type": "stream",
     "text": [
      "       year  Month     value                       series_title    date\n",
      "0      2015      1  157030.0  (Seas) Civilian Labor Force Level  2015-1\n",
      "1      2015      2  156644.0  (Seas) Civilian Labor Force Level  2015-2\n",
      "2      2015      3  156643.0  (Seas) Civilian Labor Force Level  2015-3\n",
      "3      2015      4  157060.0  (Seas) Civilian Labor Force Level  2015-4\n",
      "4      2015      5  157651.0  (Seas) Civilian Labor Force Level  2015-5\n",
      "...     ...    ...       ...                                ...     ...\n",
      "29375  2020      1     315.0  (Seas) Unemployment Level - Asian  2020-1\n",
      "29376  2020      2     262.0  (Seas) Unemployment Level - Asian  2020-2\n",
      "29377  2020      3     433.0  (Seas) Unemployment Level - Asian  2020-3\n",
      "29378  2020      4    1438.0  (Seas) Unemployment Level - Asian  2020-4\n",
      "29379  2020      5    1493.0  (Seas) Unemployment Level - Asian  2020-5\n",
      "\n",
      "[1300 rows x 5 columns]\n"
     ]
    }
   ],
   "source": [
    "print(unemp_df)"
   ]
  },
  {
   "cell_type": "markdown",
   "metadata": {},
   "source": [
    "unemp_df = pd.pivot_table(unemp_df,index=[\"date\"],values=[\"value\"],columns=[\"series_title\"])\n",
    "unemp_df.head()"
   ]
  },
  {
   "cell_type": "markdown",
   "metadata": {},
   "source": [
    "unemp_df.reset_index(inplace=True)"
   ]
  },
  {
   "cell_type": "code",
   "execution_count": 14,
   "metadata": {},
   "outputs": [
    {
     "name": "stdout",
     "output_type": "stream",
     "text": [
      "       year  month    claims                           category    date\n",
      "0      2015      1  157030.0  (Seas) Civilian Labor Force Level  2015-1\n",
      "1      2015      2  156644.0  (Seas) Civilian Labor Force Level  2015-2\n",
      "2      2015      3  156643.0  (Seas) Civilian Labor Force Level  2015-3\n",
      "3      2015      4  157060.0  (Seas) Civilian Labor Force Level  2015-4\n",
      "4      2015      5  157651.0  (Seas) Civilian Labor Force Level  2015-5\n",
      "...     ...    ...       ...                                ...     ...\n",
      "29375  2020      1     315.0  (Seas) Unemployment Level - Asian  2020-1\n",
      "29376  2020      2     262.0  (Seas) Unemployment Level - Asian  2020-2\n",
      "29377  2020      3     433.0  (Seas) Unemployment Level - Asian  2020-3\n",
      "29378  2020      4    1438.0  (Seas) Unemployment Level - Asian  2020-4\n",
      "29379  2020      5    1493.0  (Seas) Unemployment Level - Asian  2020-5\n",
      "\n",
      "[1300 rows x 5 columns]\n"
     ]
    },
    {
     "name": "stderr",
     "output_type": "stream",
     "text": [
      "/Users/harinirao/opt/anaconda3/lib/python3.7/site-packages/pandas/core/frame.py:4223: SettingWithCopyWarning: \n",
      "A value is trying to be set on a copy of a slice from a DataFrame\n",
      "\n",
      "See the caveats in the documentation: http://pandas.pydata.org/pandas-docs/stable/user_guide/indexing.html#returning-a-view-versus-a-copy\n",
      "  return super().rename(**kwargs)\n"
     ]
    }
   ],
   "source": [
    "unemp_df.rename(columns={'Month':'month','value':'claims','series_title':'category'}, inplace=True)\n",
    "print(unemp_df)"
   ]
  },
  {
   "cell_type": "code",
   "execution_count": 15,
   "metadata": {},
   "outputs": [
    {
     "name": "stdout",
     "output_type": "stream",
     "text": [
      "['(Seas) Civilian Labor Force Level'\n",
      " '(Seas) Civilian Labor Force Level - Men'\n",
      " '(Seas) Civilian Labor Force Level - Women' '(Seas) Unemployment Level'\n",
      " '(Seas) Unemployment Level - Men' '(Seas) Unemployment Level - Women'\n",
      " '(Seas) Unemployment Level - White'\n",
      " '(Seas) Unemployment Level - Black or African American'\n",
      " '(Seas) Unemployment Level - Hispanic or Latino'\n",
      " '(Seas) Unemployment Level - 16-19 yrs.'\n",
      " '(Seas) Unemployment Level - 20-24 yrs.'\n",
      " '(Seas) Unemployment Level - 25-34 yrs.'\n",
      " '(Seas) Unemployment Level - 35-44 yrs.'\n",
      " '(Seas) Unemployment Level - 45-54 yrs.'\n",
      " '(Seas) Unemployment Level - 55 yrs. & over'\n",
      " '(Seas) Unemployment Level - Less than a High School Diploma, 25 yrs. & over'\n",
      " '(Seas) Unemployment Level - High School Graduates, No College, 25 yrs. & over'\n",
      " \"(Seas) Unemployment Level - Bachelor's degree and higher, 25 yrs. & over\"\n",
      " '(Seas) Unemployment Level - Some College or Associate Degree, 25 yrs. & over'\n",
      " '(Seas) Unemployment Level - Asian']\n"
     ]
    }
   ],
   "source": [
    "print(unemp_df['category'].unique())"
   ]
  },
  {
   "cell_type": "code",
   "execution_count": 16,
   "metadata": {},
   "outputs": [
    {
     "name": "stderr",
     "output_type": "stream",
     "text": [
      "/Users/harinirao/opt/anaconda3/lib/python3.7/site-packages/pandas/core/generic.py:6786: SettingWithCopyWarning: \n",
      "A value is trying to be set on a copy of a slice from a DataFrame\n",
      "\n",
      "See the caveats in the documentation: http://pandas.pydata.org/pandas-docs/stable/user_guide/indexing.html#returning-a-view-versus-a-copy\n",
      "  self._update_inplace(new_data)\n"
     ]
    }
   ],
   "source": [
    "unemp_df['category'].replace({\"(Seas) Civilian Labor Force Level\":\"labor_force_total\",\n",
    "                                  \"(Seas) Civilian Labor Force Level - Men\":\"labor_force_men\",\n",
    "                                  \"(Seas) Civilian Labor Force Level - Women\":\"labor_force_women\",\n",
    "                                  \"(Seas) Unemployment Level\":\"unemployment_total\",\n",
    "                                  \"(Seas) Unemployment Level - Men\":\"gender_men\",\n",
    "                                  \"(Seas) Unemployment Level - Women\":\"gender_women\",\n",
    "                                  \"(Seas) Unemployment Level - White\":\"ethnicity_caucasian\",\n",
    "                                  \"(Seas) Unemployment Level - Black or African American\":\"ethnicity_african_american\",\n",
    "                                  \"(Seas) Unemployment Level - Hispanic or Latino\":\"ethnicity_hispanic\",\n",
    "                                  \"(Seas) Unemployment Level - Asian\":\"ethnicity_asian\",\n",
    "                                  \"(Seas) Unemployment Level - 16-19 yrs.\":\"age_range_16-19\",\n",
    "                                  \"(Seas) Unemployment Level - 20-24 yrs.\":\"age_range_20-24\",\n",
    "                                  \"(Seas) Unemployment Level - 25-34 yrs.\":\"age_range_25-34\",\n",
    "                                  \"(Seas) Unemployment Level - 35-44 yrs.\":\"age_range_35-44\",\n",
    "                                  \"(Seas) Unemployment Level - 45-54 yrs.\":\"age_range_45-54\",\n",
    "                                  \"(Seas) Unemployment Level - 55 yrs. & over\":\"age_range_55_and_over\",\n",
    "                                  \"(Seas) Unemployment Level - Less than a High School Diploma, 25 yrs. & over\":\"education_less_than_highschool_diploma\",\n",
    "                                  \"(Seas) Unemployment Level - High School Graduates, No College, 25 yrs. & over\":\"education_highschool_no_college\",\n",
    "                                  \"(Seas) Unemployment Level - Some College or Associate Degree, 25 yrs. & over\":\"education_some_college_or_associate_degree\",\n",
    "                                  \"(Seas) Unemployment Level - Bachelor's degree and higher, 25 yrs. & over\":\"education_bachelors_degree_and_higher\"\n",
    "                                 },inplace=True)"
   ]
  },
  {
   "cell_type": "code",
   "execution_count": 17,
   "metadata": {},
   "outputs": [
    {
     "name": "stdout",
     "output_type": "stream",
     "text": [
      "       year  month    claims           category    date\n",
      "0      2015      1  157030.0  labor_force_total  2015-1\n",
      "1      2015      2  156644.0  labor_force_total  2015-2\n",
      "2      2015      3  156643.0  labor_force_total  2015-3\n",
      "3      2015      4  157060.0  labor_force_total  2015-4\n",
      "4      2015      5  157651.0  labor_force_total  2015-5\n",
      "...     ...    ...       ...                ...     ...\n",
      "29375  2020      1     315.0    ethnicity_asian  2020-1\n",
      "29376  2020      2     262.0    ethnicity_asian  2020-2\n",
      "29377  2020      3     433.0    ethnicity_asian  2020-3\n",
      "29378  2020      4    1438.0    ethnicity_asian  2020-4\n",
      "29379  2020      5    1493.0    ethnicity_asian  2020-5\n",
      "\n",
      "[1300 rows x 5 columns]\n"
     ]
    }
   ],
   "source": [
    "print(unemp_df)"
   ]
  },
  {
   "cell_type": "code",
   "execution_count": 18,
   "metadata": {},
   "outputs": [],
   "source": [
    "# Export clean data to CSV for analysis\n",
    "\n",
    "output_file = \"Resources/Demographics_Data.csv\"\n",
    "unemp_df.to_csv(output_file,index=False, mode='a')"
   ]
  },
  {
   "cell_type": "code",
   "execution_count": 19,
   "metadata": {
    "ExecuteTime": {
     "end_time": "2020-06-03T17:09:29.544751Z",
     "start_time": "2020-06-03T17:09:29.514756Z"
    }
   },
   "outputs": [
    {
     "data": {
      "text/html": [
       "<div>\n",
       "<style scoped>\n",
       "    .dataframe tbody tr th:only-of-type {\n",
       "        vertical-align: middle;\n",
       "    }\n",
       "\n",
       "    .dataframe tbody tr th {\n",
       "        vertical-align: top;\n",
       "    }\n",
       "\n",
       "    .dataframe thead th {\n",
       "        text-align: right;\n",
       "    }\n",
       "</style>\n",
       "<table border=\"1\" class=\"dataframe\">\n",
       "  <thead>\n",
       "    <tr style=\"text-align: right;\">\n",
       "      <th></th>\n",
       "      <th>series_id</th>\n",
       "      <th>year</th>\n",
       "      <th>value</th>\n",
       "      <th>Month</th>\n",
       "      <th>lfst_code</th>\n",
       "      <th>periodicity_code</th>\n",
       "      <th>series_title</th>\n",
       "      <th>activity_code</th>\n",
       "      <th>ages_code</th>\n",
       "      <th>class_code</th>\n",
       "      <th>duration_code</th>\n",
       "      <th>education_code</th>\n",
       "      <th>entr_code</th>\n",
       "      <th>expr_code</th>\n",
       "      <th>indy_text</th>\n",
       "    </tr>\n",
       "  </thead>\n",
       "  <tbody>\n",
       "    <tr>\n",
       "      <td>23010</td>\n",
       "      <td>LNS13000000</td>\n",
       "      <td>2015</td>\n",
       "      <td>8885.0</td>\n",
       "      <td>1</td>\n",
       "      <td>30</td>\n",
       "      <td>M</td>\n",
       "      <td>(Seas) Unemployment Level</td>\n",
       "      <td>0</td>\n",
       "      <td>00</td>\n",
       "      <td>0</td>\n",
       "      <td>0</td>\n",
       "      <td>00</td>\n",
       "      <td>0</td>\n",
       "      <td>0</td>\n",
       "      <td>All Industries</td>\n",
       "    </tr>\n",
       "    <tr>\n",
       "      <td>23011</td>\n",
       "      <td>LNS13000000</td>\n",
       "      <td>2015</td>\n",
       "      <td>8599.0</td>\n",
       "      <td>2</td>\n",
       "      <td>30</td>\n",
       "      <td>M</td>\n",
       "      <td>(Seas) Unemployment Level</td>\n",
       "      <td>0</td>\n",
       "      <td>00</td>\n",
       "      <td>0</td>\n",
       "      <td>0</td>\n",
       "      <td>00</td>\n",
       "      <td>0</td>\n",
       "      <td>0</td>\n",
       "      <td>All Industries</td>\n",
       "    </tr>\n",
       "    <tr>\n",
       "      <td>23012</td>\n",
       "      <td>LNS13000000</td>\n",
       "      <td>2015</td>\n",
       "      <td>8515.0</td>\n",
       "      <td>3</td>\n",
       "      <td>30</td>\n",
       "      <td>M</td>\n",
       "      <td>(Seas) Unemployment Level</td>\n",
       "      <td>0</td>\n",
       "      <td>00</td>\n",
       "      <td>0</td>\n",
       "      <td>0</td>\n",
       "      <td>00</td>\n",
       "      <td>0</td>\n",
       "      <td>0</td>\n",
       "      <td>All Industries</td>\n",
       "    </tr>\n",
       "    <tr>\n",
       "      <td>23013</td>\n",
       "      <td>LNS13000000</td>\n",
       "      <td>2015</td>\n",
       "      <td>8550.0</td>\n",
       "      <td>4</td>\n",
       "      <td>30</td>\n",
       "      <td>M</td>\n",
       "      <td>(Seas) Unemployment Level</td>\n",
       "      <td>0</td>\n",
       "      <td>00</td>\n",
       "      <td>0</td>\n",
       "      <td>0</td>\n",
       "      <td>00</td>\n",
       "      <td>0</td>\n",
       "      <td>0</td>\n",
       "      <td>All Industries</td>\n",
       "    </tr>\n",
       "    <tr>\n",
       "      <td>23014</td>\n",
       "      <td>LNS13000000</td>\n",
       "      <td>2015</td>\n",
       "      <td>8834.0</td>\n",
       "      <td>5</td>\n",
       "      <td>30</td>\n",
       "      <td>M</td>\n",
       "      <td>(Seas) Unemployment Level</td>\n",
       "      <td>0</td>\n",
       "      <td>00</td>\n",
       "      <td>0</td>\n",
       "      <td>0</td>\n",
       "      <td>00</td>\n",
       "      <td>0</td>\n",
       "      <td>0</td>\n",
       "      <td>All Industries</td>\n",
       "    </tr>\n",
       "  </tbody>\n",
       "</table>\n",
       "</div>"
      ],
      "text/plain": [
       "         series_id  year   value  Month  lfst_code periodicity_code  \\\n",
       "23010  LNS13000000  2015  8885.0      1         30                M   \n",
       "23011  LNS13000000  2015  8599.0      2         30                M   \n",
       "23012  LNS13000000  2015  8515.0      3         30                M   \n",
       "23013  LNS13000000  2015  8550.0      4         30                M   \n",
       "23014  LNS13000000  2015  8834.0      5         30                M   \n",
       "\n",
       "                    series_title  activity_code ages_code  class_code  \\\n",
       "23010  (Seas) Unemployment Level              0        00           0   \n",
       "23011  (Seas) Unemployment Level              0        00           0   \n",
       "23012  (Seas) Unemployment Level              0        00           0   \n",
       "23013  (Seas) Unemployment Level              0        00           0   \n",
       "23014  (Seas) Unemployment Level              0        00           0   \n",
       "\n",
       "       duration_code education_code  entr_code  expr_code       indy_text  \n",
       "23010              0             00          0          0  All Industries  \n",
       "23011              0             00          0          0  All Industries  \n",
       "23012              0             00          0          0  All Industries  \n",
       "23013              0             00          0          0  All Industries  \n",
       "23014              0             00          0          0  All Industries  "
      ]
     },
     "execution_count": 19,
     "metadata": {},
     "output_type": "execute_result"
    }
   ],
   "source": [
    "# get Unemployment level\n",
    "# LNS13000000 all\n",
    "# LNS13000001 Men\n",
    "# LNS13000002  Women\n",
    "condition = LNSDF['series_id'].isin(['LNS13000000','LNS13000001','LNS13000002'])\n",
    "allUnemploymentDF = LNSDF[condition]\n",
    "allUnemploymentDF.head()"
   ]
  },
  {
   "cell_type": "code",
   "execution_count": 20,
   "metadata": {
    "ExecuteTime": {
     "end_time": "2020-06-03T17:09:29.591749Z",
     "start_time": "2020-06-03T17:09:29.546739Z"
    }
   },
   "outputs": [
    {
     "name": "stderr",
     "output_type": "stream",
     "text": [
      "/Users/harinirao/opt/anaconda3/lib/python3.7/site-packages/ipykernel_launcher.py:2: SettingWithCopyWarning: \n",
      "A value is trying to be set on a copy of a slice from a DataFrame.\n",
      "Try using .loc[row_indexer,col_indexer] = value instead\n",
      "\n",
      "See the caveats in the documentation: http://pandas.pydata.org/pandas-docs/stable/user_guide/indexing.html#returning-a-view-versus-a-copy\n",
      "  \n"
     ]
    },
    {
     "data": {
      "text/html": [
       "<div>\n",
       "<style scoped>\n",
       "    .dataframe tbody tr th:only-of-type {\n",
       "        vertical-align: middle;\n",
       "    }\n",
       "\n",
       "    .dataframe tbody tr th {\n",
       "        vertical-align: top;\n",
       "    }\n",
       "\n",
       "    .dataframe thead th {\n",
       "        text-align: right;\n",
       "    }\n",
       "</style>\n",
       "<table border=\"1\" class=\"dataframe\">\n",
       "  <thead>\n",
       "    <tr style=\"text-align: right;\">\n",
       "      <th></th>\n",
       "      <th>series_id</th>\n",
       "      <th>year</th>\n",
       "      <th>Month</th>\n",
       "      <th>value</th>\n",
       "      <th>date</th>\n",
       "    </tr>\n",
       "  </thead>\n",
       "  <tbody>\n",
       "    <tr>\n",
       "      <td>23010</td>\n",
       "      <td>LNS13000000</td>\n",
       "      <td>2015</td>\n",
       "      <td>1</td>\n",
       "      <td>8885.0</td>\n",
       "      <td>2015-1</td>\n",
       "    </tr>\n",
       "    <tr>\n",
       "      <td>23011</td>\n",
       "      <td>LNS13000000</td>\n",
       "      <td>2015</td>\n",
       "      <td>2</td>\n",
       "      <td>8599.0</td>\n",
       "      <td>2015-2</td>\n",
       "    </tr>\n",
       "    <tr>\n",
       "      <td>23012</td>\n",
       "      <td>LNS13000000</td>\n",
       "      <td>2015</td>\n",
       "      <td>3</td>\n",
       "      <td>8515.0</td>\n",
       "      <td>2015-3</td>\n",
       "    </tr>\n",
       "    <tr>\n",
       "      <td>23013</td>\n",
       "      <td>LNS13000000</td>\n",
       "      <td>2015</td>\n",
       "      <td>4</td>\n",
       "      <td>8550.0</td>\n",
       "      <td>2015-4</td>\n",
       "    </tr>\n",
       "    <tr>\n",
       "      <td>23014</td>\n",
       "      <td>LNS13000000</td>\n",
       "      <td>2015</td>\n",
       "      <td>5</td>\n",
       "      <td>8834.0</td>\n",
       "      <td>2015-5</td>\n",
       "    </tr>\n",
       "  </tbody>\n",
       "</table>\n",
       "</div>"
      ],
      "text/plain": [
       "         series_id  year  Month   value    date\n",
       "23010  LNS13000000  2015      1  8885.0  2015-1\n",
       "23011  LNS13000000  2015      2  8599.0  2015-2\n",
       "23012  LNS13000000  2015      3  8515.0  2015-3\n",
       "23013  LNS13000000  2015      4  8550.0  2015-4\n",
       "23014  LNS13000000  2015      5  8834.0  2015-5"
      ]
     },
     "execution_count": 20,
     "metadata": {},
     "output_type": "execute_result"
    }
   ],
   "source": [
    "df = allUnemploymentDF[['series_id','year','Month','value']]\n",
    "df['date']=df['year'].astype(str) + \"-\"+ df['Month'].astype(str) \n",
    "df.head()"
   ]
  },
  {
   "cell_type": "code",
   "execution_count": 21,
   "metadata": {
    "ExecuteTime": {
     "end_time": "2020-06-03T17:09:29.637735Z",
     "start_time": "2020-06-03T17:09:29.594755Z"
    },
    "scrolled": true
   },
   "outputs": [
    {
     "data": {
      "text/html": [
       "<div>\n",
       "<style scoped>\n",
       "    .dataframe tbody tr th:only-of-type {\n",
       "        vertical-align: middle;\n",
       "    }\n",
       "\n",
       "    .dataframe tbody tr th {\n",
       "        vertical-align: top;\n",
       "    }\n",
       "\n",
       "    .dataframe thead tr th {\n",
       "        text-align: left;\n",
       "    }\n",
       "\n",
       "    .dataframe thead tr:last-of-type th {\n",
       "        text-align: right;\n",
       "    }\n",
       "</style>\n",
       "<table border=\"1\" class=\"dataframe\">\n",
       "  <thead>\n",
       "    <tr>\n",
       "      <th></th>\n",
       "      <th colspan=\"3\" halign=\"left\">value</th>\n",
       "    </tr>\n",
       "    <tr>\n",
       "      <th>series_id</th>\n",
       "      <th>LNS13000000</th>\n",
       "      <th>LNS13000001</th>\n",
       "      <th>LNS13000002</th>\n",
       "    </tr>\n",
       "    <tr>\n",
       "      <th>date</th>\n",
       "      <th></th>\n",
       "      <th></th>\n",
       "      <th></th>\n",
       "    </tr>\n",
       "  </thead>\n",
       "  <tbody>\n",
       "    <tr>\n",
       "      <td>2015-1</td>\n",
       "      <td>8885.0</td>\n",
       "      <td>4863.0</td>\n",
       "      <td>4022.0</td>\n",
       "    </tr>\n",
       "    <tr>\n",
       "      <td>2015-10</td>\n",
       "      <td>7922.0</td>\n",
       "      <td>4242.0</td>\n",
       "      <td>3680.0</td>\n",
       "    </tr>\n",
       "    <tr>\n",
       "      <td>2015-11</td>\n",
       "      <td>8000.0</td>\n",
       "      <td>4339.0</td>\n",
       "      <td>3661.0</td>\n",
       "    </tr>\n",
       "    <tr>\n",
       "      <td>2015-12</td>\n",
       "      <td>7907.0</td>\n",
       "      <td>4280.0</td>\n",
       "      <td>3628.0</td>\n",
       "    </tr>\n",
       "    <tr>\n",
       "      <td>2015-2</td>\n",
       "      <td>8599.0</td>\n",
       "      <td>4691.0</td>\n",
       "      <td>3908.0</td>\n",
       "    </tr>\n",
       "  </tbody>\n",
       "</table>\n",
       "</div>"
      ],
      "text/plain": [
       "                value                        \n",
       "series_id LNS13000000 LNS13000001 LNS13000002\n",
       "date                                         \n",
       "2015-1         8885.0      4863.0      4022.0\n",
       "2015-10        7922.0      4242.0      3680.0\n",
       "2015-11        8000.0      4339.0      3661.0\n",
       "2015-12        7907.0      4280.0      3628.0\n",
       "2015-2         8599.0      4691.0      3908.0"
      ]
     },
     "execution_count": 21,
     "metadata": {},
     "output_type": "execute_result"
    }
   ],
   "source": [
    "df = pd.pivot_table(df,index=['date'],values=['value'],columns=['series_id'])\n",
    "df.head()"
   ]
  },
  {
   "cell_type": "code",
   "execution_count": 22,
   "metadata": {
    "ExecuteTime": {
     "end_time": "2020-06-03T17:09:29.653739Z",
     "start_time": "2020-06-03T17:09:29.644735Z"
    }
   },
   "outputs": [
    {
     "data": {
      "text/plain": [
       "MultiIndex([( 'date',            ''),\n",
       "            ('value', 'LNS13000000'),\n",
       "            ('value', 'LNS13000001'),\n",
       "            ('value', 'LNS13000002')],\n",
       "           names=[None, 'series_id'])"
      ]
     },
     "execution_count": 22,
     "metadata": {},
     "output_type": "execute_result"
    }
   ],
   "source": [
    "df.reset_index(inplace=True)\n",
    "df.columns"
   ]
  },
  {
   "cell_type": "code",
   "execution_count": 23,
   "metadata": {
    "ExecuteTime": {
     "end_time": "2020-06-03T17:09:30.230750Z",
     "start_time": "2020-06-03T17:09:29.656738Z"
    }
   },
   "outputs": [
    {
     "data": {
      "image/png": "[encoded data removed]",
      "text/plain": [
       "<Figure size 432x288 with 1 Axes>"
      ]
     },
     "metadata": {
      "needs_background": "light"
     },
     "output_type": "display_data"
    }
   ],
   "source": [
    "ax = df.plot(xticks=df.index)"
   ]
  }
 ],
 "metadata": {
  "kernelspec": {
   "display_name": "Python 3",
   "language": "python",
   "name": "python3"
  },
  "language_info": {
   "codemirror_mode": {
    "name": "ipython",
    "version": 3
   },
   "file_extension": ".py",
   "mimetype": "text/x-python",
   "name": "python",
   "nbconvert_exporter": "python",
   "pygments_lexer": "ipython3",
   "version": "3.7.4"
  }
 },
 "nbformat": 4,
 "nbformat_minor": 2
}
