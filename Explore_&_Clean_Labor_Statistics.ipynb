{
 "cells": [
  {
   "cell_type": "code",
   "execution_count": 1,
   "metadata": {
    "ExecuteTime": {
     "end_time": "2020-06-03T17:09:29.356735Z",
     "start_time": "2020-06-03T17:09:28.158735Z"
    }
   },
   "outputs": [
    {
     "data": {
      "text/html": [
       "<div>\n",
       "<style scoped>\n",
       "    .dataframe tbody tr th:only-of-type {\n",
       "        vertical-align: middle;\n",
       "    }\n",
       "\n",
       "    .dataframe tbody tr th {\n",
       "        vertical-align: top;\n",
       "    }\n",
       "\n",
       "    .dataframe thead th {\n",
       "        text-align: right;\n",
       "    }\n",
       "</style>\n",
       "<table border=\"1\" class=\"dataframe\">\n",
       "  <thead>\n",
       "    <tr style=\"text-align: right;\">\n",
       "      <th></th>\n",
       "      <th>series_id</th>\n",
       "      <th>year</th>\n",
       "      <th>value</th>\n",
       "      <th>Month</th>\n",
       "      <th>lfst_code</th>\n",
       "      <th>periodicity_code</th>\n",
       "      <th>series_title</th>\n",
       "      <th>activity_code</th>\n",
       "      <th>ages_code</th>\n",
       "      <th>class_code</th>\n",
       "      <th>duration_code</th>\n",
       "      <th>education_code</th>\n",
       "      <th>entr_code</th>\n",
       "      <th>expr_code</th>\n",
       "      <th>indy_text</th>\n",
       "    </tr>\n",
       "  </thead>\n",
       "  <tbody>\n",
       "    <tr>\n",
       "      <th>0</th>\n",
       "      <td>LNS11000000</td>\n",
       "      <td>2015</td>\n",
       "      <td>157030.0</td>\n",
       "      <td>1</td>\n",
       "      <td>10</td>\n",
       "      <td>M</td>\n",
       "      <td>(Seas) Civilian Labor Force Level</td>\n",
       "      <td>0</td>\n",
       "      <td>00</td>\n",
       "      <td>0</td>\n",
       "      <td>0</td>\n",
       "      <td>00</td>\n",
       "      <td>0</td>\n",
       "      <td>0</td>\n",
       "      <td>All Industries</td>\n",
       "    </tr>\n",
       "    <tr>\n",
       "      <th>1</th>\n",
       "      <td>LNS11000000</td>\n",
       "      <td>2015</td>\n",
       "      <td>156644.0</td>\n",
       "      <td>2</td>\n",
       "      <td>10</td>\n",
       "      <td>M</td>\n",
       "      <td>(Seas) Civilian Labor Force Level</td>\n",
       "      <td>0</td>\n",
       "      <td>00</td>\n",
       "      <td>0</td>\n",
       "      <td>0</td>\n",
       "      <td>00</td>\n",
       "      <td>0</td>\n",
       "      <td>0</td>\n",
       "      <td>All Industries</td>\n",
       "    </tr>\n",
       "    <tr>\n",
       "      <th>2</th>\n",
       "      <td>LNS11000000</td>\n",
       "      <td>2015</td>\n",
       "      <td>156643.0</td>\n",
       "      <td>3</td>\n",
       "      <td>10</td>\n",
       "      <td>M</td>\n",
       "      <td>(Seas) Civilian Labor Force Level</td>\n",
       "      <td>0</td>\n",
       "      <td>00</td>\n",
       "      <td>0</td>\n",
       "      <td>0</td>\n",
       "      <td>00</td>\n",
       "      <td>0</td>\n",
       "      <td>0</td>\n",
       "      <td>All Industries</td>\n",
       "    </tr>\n",
       "    <tr>\n",
       "      <th>3</th>\n",
       "      <td>LNS11000000</td>\n",
       "      <td>2015</td>\n",
       "      <td>157060.0</td>\n",
       "      <td>4</td>\n",
       "      <td>10</td>\n",
       "      <td>M</td>\n",
       "      <td>(Seas) Civilian Labor Force Level</td>\n",
       "      <td>0</td>\n",
       "      <td>00</td>\n",
       "      <td>0</td>\n",
       "      <td>0</td>\n",
       "      <td>00</td>\n",
       "      <td>0</td>\n",
       "      <td>0</td>\n",
       "      <td>All Industries</td>\n",
       "    </tr>\n",
       "    <tr>\n",
       "      <th>4</th>\n",
       "      <td>LNS11000000</td>\n",
       "      <td>2015</td>\n",
       "      <td>157651.0</td>\n",
       "      <td>5</td>\n",
       "      <td>10</td>\n",
       "      <td>M</td>\n",
       "      <td>(Seas) Civilian Labor Force Level</td>\n",
       "      <td>0</td>\n",
       "      <td>00</td>\n",
       "      <td>0</td>\n",
       "      <td>0</td>\n",
       "      <td>00</td>\n",
       "      <td>0</td>\n",
       "      <td>0</td>\n",
       "      <td>All Industries</td>\n",
       "    </tr>\n",
       "  </tbody>\n",
       "</table>\n",
       "</div>"
      ],
      "text/plain": [
       "     series_id  year     value  Month  lfst_code periodicity_code  \\\n",
       "0  LNS11000000  2015  157030.0      1         10                M   \n",
       "1  LNS11000000  2015  156644.0      2         10                M   \n",
       "2  LNS11000000  2015  156643.0      3         10                M   \n",
       "3  LNS11000000  2015  157060.0      4         10                M   \n",
       "4  LNS11000000  2015  157651.0      5         10                M   \n",
       "\n",
       "                        series_title  activity_code ages_code  class_code  \\\n",
       "0  (Seas) Civilian Labor Force Level              0        00           0   \n",
       "1  (Seas) Civilian Labor Force Level              0        00           0   \n",
       "2  (Seas) Civilian Labor Force Level              0        00           0   \n",
       "3  (Seas) Civilian Labor Force Level              0        00           0   \n",
       "4  (Seas) Civilian Labor Force Level              0        00           0   \n",
       "\n",
       "   duration_code education_code  entr_code  expr_code       indy_text  \n",
       "0              0             00          0          0  All Industries  \n",
       "1              0             00          0          0  All Industries  \n",
       "2              0             00          0          0  All Industries  \n",
       "3              0             00          0          0  All Industries  \n",
       "4              0             00          0          0  All Industries  "
      ]
     },
     "execution_count": 1,
     "metadata": {},
     "output_type": "execute_result"
    }
   ],
   "source": [
    "# Dependencies and Setup\n",
    "import pandas as pd\n",
    "import seaborn as sns\n",
    "import numpy as np\n",
    "from datetime import datetime,date\n",
    "\n",
    "# File to Load\n",
    "LNSDF=pd.read_pickle('resources/LNS2020.pkl',compression='gzip')\n",
    "# Preview of the DataFrame\n",
    "LNSDF.head()"
   ]
  },
  {
   "cell_type": "code",
   "execution_count": 2,
   "metadata": {
    "ExecuteTime": {
     "end_time": "2020-06-03T17:09:29.372736Z",
     "start_time": "2020-06-03T17:09:29.360736Z"
    }
   },
   "outputs": [
    {
     "data": {
      "text/plain": [
       "series_id            object\n",
       "year                  int64\n",
       "value               float64\n",
       "Month                 int32\n",
       "lfst_code             int64\n",
       "periodicity_code     object\n",
       "series_title         object\n",
       "activity_code         int64\n",
       "ages_code            object\n",
       "class_code            int64\n",
       "duration_code         int64\n",
       "education_code       object\n",
       "entr_code             int64\n",
       "expr_code             int64\n",
       "indy_text            object\n",
       "dtype: object"
      ]
     },
     "execution_count": 2,
     "metadata": {},
     "output_type": "execute_result"
    }
   ],
   "source": [
    "# Check for correct data types - need to convert\n",
    "LNSDF.dtypes"
   ]
  },
  {
   "cell_type": "code",
   "execution_count": 3,
   "metadata": {
    "ExecuteTime": {
     "end_time": "2020-06-03T17:09:29.387734Z",
     "start_time": "2020-06-03T17:09:29.376736Z"
    }
   },
   "outputs": [
    {
     "data": {
      "text/plain": [
       "Index(['series_id', 'year', 'value', 'Month', 'lfst_code', 'periodicity_code',\n",
       "       'series_title', 'activity_code', 'ages_code', 'class_code',\n",
       "       'duration_code', 'education_code', 'entr_code', 'expr_code',\n",
       "       'indy_text'],\n",
       "      dtype='object')"
      ]
     },
     "execution_count": 3,
     "metadata": {},
     "output_type": "execute_result"
    }
   ],
   "source": [
    "# Check column names for spaces - looks good\n",
    "LNSDF.columns"
   ]
  },
  {
   "cell_type": "code",
   "execution_count": 4,
   "metadata": {
    "ExecuteTime": {
     "end_time": "2020-06-03T17:09:29.403737Z",
     "start_time": "2020-06-03T17:09:29.391740Z"
    }
   },
   "outputs": [
    {
     "data": {
      "text/plain": [
       "series_id           1280\n",
       "year                1280\n",
       "value               1280\n",
       "Month               1280\n",
       "lfst_code           1280\n",
       "periodicity_code    1280\n",
       "series_title        1280\n",
       "activity_code       1280\n",
       "ages_code           1280\n",
       "class_code          1280\n",
       "duration_code       1280\n",
       "education_code      1280\n",
       "entr_code           1280\n",
       "expr_code           1280\n",
       "indy_text           1280\n",
       "dtype: int64"
      ]
     },
     "execution_count": 4,
     "metadata": {},
     "output_type": "execute_result"
    }
   ],
   "source": [
    "# Identify incomplete rows\n",
    "LNSDF.count()"
   ]
  },
  {
   "cell_type": "code",
   "execution_count": 5,
   "metadata": {
    "ExecuteTime": {
     "end_time": "2020-06-03T17:09:29.419738Z",
     "start_time": "2020-06-03T17:09:29.406740Z"
    }
   },
   "outputs": [],
   "source": [
    "# Drop all rows with missing information\n",
    "# df = unemployment_df.dropna(how='any')"
   ]
  },
  {
   "cell_type": "code",
   "execution_count": 6,
   "metadata": {
    "ExecuteTime": {
     "end_time": "2020-06-03T17:09:29.435735Z",
     "start_time": "2020-06-03T17:09:29.421738Z"
    }
   },
   "outputs": [
    {
     "data": {
      "text/plain": [
       "series_id           1280\n",
       "year                1280\n",
       "value               1280\n",
       "Month               1280\n",
       "lfst_code           1280\n",
       "periodicity_code    1280\n",
       "series_title        1280\n",
       "activity_code       1280\n",
       "ages_code           1280\n",
       "class_code          1280\n",
       "duration_code       1280\n",
       "education_code      1280\n",
       "entr_code           1280\n",
       "expr_code           1280\n",
       "indy_text           1280\n",
       "dtype: int64"
      ]
     },
     "execution_count": 6,
     "metadata": {},
     "output_type": "execute_result"
    }
   ],
   "source": [
    "# Verify dropped rows\n",
    "LNSDF.count()"
   ]
  },
  {
   "cell_type": "code",
   "execution_count": 7,
   "metadata": {
    "ExecuteTime": {
     "end_time": "2020-06-03T17:09:29.466734Z",
     "start_time": "2020-06-03T17:09:29.437735Z"
    }
   },
   "outputs": [
    {
     "data": {
      "text/plain": [
       "LNS13000036    64\n",
       "LNS11000002    64\n",
       "LNS13027689    64\n",
       "LNS13000012    64\n",
       "LNS13027659    64\n",
       "LNS13000001    64\n",
       "LNS13024230    64\n",
       "LNS13032183    64\n",
       "LNS13000089    64\n",
       "LNS13000091    64\n",
       "LNS11000001    64\n",
       "LNS11000000    64\n",
       "LNS13027662    64\n",
       "LNS13000003    64\n",
       "LNS11300093    64\n",
       "LNS13000006    64\n",
       "LNS13027660    64\n",
       "LNS13000000    64\n",
       "LNS13000002    64\n",
       "LNS13000009    64\n",
       "Name: series_id, dtype: int64"
      ]
     },
     "execution_count": 7,
     "metadata": {},
     "output_type": "execute_result"
    }
   ],
   "source": [
    "# Check states values\n",
    "LNSDF['series_id'].value_counts()"
   ]
  },
  {
   "cell_type": "code",
   "execution_count": 8,
   "metadata": {
    "ExecuteTime": {
     "end_time": "2020-06-03T17:09:29.512735Z",
     "start_time": "2020-06-03T17:09:29.469739Z"
    },
    "scrolled": true
   },
   "outputs": [
    {
     "data": {
      "text/html": [
       "<div>\n",
       "<style scoped>\n",
       "    .dataframe tbody tr th:only-of-type {\n",
       "        vertical-align: middle;\n",
       "    }\n",
       "\n",
       "    .dataframe tbody tr th {\n",
       "        vertical-align: top;\n",
       "    }\n",
       "\n",
       "    .dataframe thead th {\n",
       "        text-align: right;\n",
       "    }\n",
       "</style>\n",
       "<table border=\"1\" class=\"dataframe\">\n",
       "  <thead>\n",
       "    <tr style=\"text-align: right;\">\n",
       "      <th></th>\n",
       "      <th>year</th>\n",
       "      <th>value</th>\n",
       "      <th>Month</th>\n",
       "      <th>lfst_code</th>\n",
       "      <th>activity_code</th>\n",
       "      <th>class_code</th>\n",
       "      <th>duration_code</th>\n",
       "      <th>entr_code</th>\n",
       "      <th>expr_code</th>\n",
       "    </tr>\n",
       "  </thead>\n",
       "  <tbody>\n",
       "    <tr>\n",
       "      <th>count</th>\n",
       "      <td>1280.000000</td>\n",
       "      <td>1280.000000</td>\n",
       "      <td>1280.000000</td>\n",
       "      <td>1280.000000</td>\n",
       "      <td>1280.0</td>\n",
       "      <td>1280.0</td>\n",
       "      <td>1280.0</td>\n",
       "      <td>1280.0</td>\n",
       "      <td>1280.0</td>\n",
       "    </tr>\n",
       "    <tr>\n",
       "      <th>mean</th>\n",
       "      <td>2017.187500</td>\n",
       "      <td>17775.726250</td>\n",
       "      <td>6.250000</td>\n",
       "      <td>26.150000</td>\n",
       "      <td>0.0</td>\n",
       "      <td>0.0</td>\n",
       "      <td>0.0</td>\n",
       "      <td>0.0</td>\n",
       "      <td>0.0</td>\n",
       "    </tr>\n",
       "    <tr>\n",
       "      <th>std</th>\n",
       "      <td>1.550555</td>\n",
       "      <td>40352.856153</td>\n",
       "      <td>3.492425</td>\n",
       "      <td>7.724903</td>\n",
       "      <td>0.0</td>\n",
       "      <td>0.0</td>\n",
       "      <td>0.0</td>\n",
       "      <td>0.0</td>\n",
       "      <td>0.0</td>\n",
       "    </tr>\n",
       "    <tr>\n",
       "      <th>min</th>\n",
       "      <td>2015.000000</td>\n",
       "      <td>79.100000</td>\n",
       "      <td>1.000000</td>\n",
       "      <td>10.000000</td>\n",
       "      <td>0.0</td>\n",
       "      <td>0.0</td>\n",
       "      <td>0.0</td>\n",
       "      <td>0.0</td>\n",
       "      <td>0.0</td>\n",
       "    </tr>\n",
       "    <tr>\n",
       "      <th>25%</th>\n",
       "      <td>2016.000000</td>\n",
       "      <td>1068.750000</td>\n",
       "      <td>3.000000</td>\n",
       "      <td>30.000000</td>\n",
       "      <td>0.0</td>\n",
       "      <td>0.0</td>\n",
       "      <td>0.0</td>\n",
       "      <td>0.0</td>\n",
       "      <td>0.0</td>\n",
       "    </tr>\n",
       "    <tr>\n",
       "      <th>50%</th>\n",
       "      <td>2017.000000</td>\n",
       "      <td>1462.000000</td>\n",
       "      <td>6.000000</td>\n",
       "      <td>30.000000</td>\n",
       "      <td>0.0</td>\n",
       "      <td>0.0</td>\n",
       "      <td>0.0</td>\n",
       "      <td>0.0</td>\n",
       "      <td>0.0</td>\n",
       "    </tr>\n",
       "    <tr>\n",
       "      <th>75%</th>\n",
       "      <td>2018.250000</td>\n",
       "      <td>4288.250000</td>\n",
       "      <td>9.000000</td>\n",
       "      <td>30.000000</td>\n",
       "      <td>0.0</td>\n",
       "      <td>0.0</td>\n",
       "      <td>0.0</td>\n",
       "      <td>0.0</td>\n",
       "      <td>0.0</td>\n",
       "    </tr>\n",
       "    <tr>\n",
       "      <th>max</th>\n",
       "      <td>2020.000000</td>\n",
       "      <td>164606.000000</td>\n",
       "      <td>12.000000</td>\n",
       "      <td>30.000000</td>\n",
       "      <td>0.0</td>\n",
       "      <td>0.0</td>\n",
       "      <td>0.0</td>\n",
       "      <td>0.0</td>\n",
       "      <td>0.0</td>\n",
       "    </tr>\n",
       "  </tbody>\n",
       "</table>\n",
       "</div>"
      ],
      "text/plain": [
       "              year          value        Month    lfst_code  activity_code  \\\n",
       "count  1280.000000    1280.000000  1280.000000  1280.000000         1280.0   \n",
       "mean   2017.187500   17775.726250     6.250000    26.150000            0.0   \n",
       "std       1.550555   40352.856153     3.492425     7.724903            0.0   \n",
       "min    2015.000000      79.100000     1.000000    10.000000            0.0   \n",
       "25%    2016.000000    1068.750000     3.000000    30.000000            0.0   \n",
       "50%    2017.000000    1462.000000     6.000000    30.000000            0.0   \n",
       "75%    2018.250000    4288.250000     9.000000    30.000000            0.0   \n",
       "max    2020.000000  164606.000000    12.000000    30.000000            0.0   \n",
       "\n",
       "       class_code  duration_code  entr_code  expr_code  \n",
       "count      1280.0         1280.0     1280.0     1280.0  \n",
       "mean          0.0            0.0        0.0        0.0  \n",
       "std           0.0            0.0        0.0        0.0  \n",
       "min           0.0            0.0        0.0        0.0  \n",
       "25%           0.0            0.0        0.0        0.0  \n",
       "50%           0.0            0.0        0.0        0.0  \n",
       "75%           0.0            0.0        0.0        0.0  \n",
       "max           0.0            0.0        0.0        0.0  "
      ]
     },
     "execution_count": 8,
     "metadata": {},
     "output_type": "execute_result"
    }
   ],
   "source": [
    "# Display a statistical overview for a high level insight into the data\n",
    "LNSDF.describe()"
   ]
  },
  {
   "cell_type": "code",
   "execution_count": 9,
   "metadata": {
    "ExecuteTime": {
     "end_time": "2020-06-03T17:09:29.544751Z",
     "start_time": "2020-06-03T17:09:29.514756Z"
    }
   },
   "outputs": [
    {
     "data": {
      "text/html": [
       "<div>\n",
       "<style scoped>\n",
       "    .dataframe tbody tr th:only-of-type {\n",
       "        vertical-align: middle;\n",
       "    }\n",
       "\n",
       "    .dataframe tbody tr th {\n",
       "        vertical-align: top;\n",
       "    }\n",
       "\n",
       "    .dataframe thead th {\n",
       "        text-align: right;\n",
       "    }\n",
       "</style>\n",
       "<table border=\"1\" class=\"dataframe\">\n",
       "  <thead>\n",
       "    <tr style=\"text-align: right;\">\n",
       "      <th></th>\n",
       "      <th>series_id</th>\n",
       "      <th>year</th>\n",
       "      <th>value</th>\n",
       "      <th>Month</th>\n",
       "      <th>lfst_code</th>\n",
       "      <th>periodicity_code</th>\n",
       "      <th>series_title</th>\n",
       "      <th>activity_code</th>\n",
       "      <th>ages_code</th>\n",
       "      <th>class_code</th>\n",
       "      <th>duration_code</th>\n",
       "      <th>education_code</th>\n",
       "      <th>entr_code</th>\n",
       "      <th>expr_code</th>\n",
       "      <th>indy_text</th>\n",
       "    </tr>\n",
       "  </thead>\n",
       "  <tbody>\n",
       "    <tr>\n",
       "      <th>22656</th>\n",
       "      <td>LNS13000000</td>\n",
       "      <td>2015</td>\n",
       "      <td>8885.0</td>\n",
       "      <td>1</td>\n",
       "      <td>30</td>\n",
       "      <td>M</td>\n",
       "      <td>(Seas) Unemployment Level</td>\n",
       "      <td>0</td>\n",
       "      <td>00</td>\n",
       "      <td>0</td>\n",
       "      <td>0</td>\n",
       "      <td>00</td>\n",
       "      <td>0</td>\n",
       "      <td>0</td>\n",
       "      <td>All Industries</td>\n",
       "    </tr>\n",
       "    <tr>\n",
       "      <th>22657</th>\n",
       "      <td>LNS13000000</td>\n",
       "      <td>2015</td>\n",
       "      <td>8599.0</td>\n",
       "      <td>2</td>\n",
       "      <td>30</td>\n",
       "      <td>M</td>\n",
       "      <td>(Seas) Unemployment Level</td>\n",
       "      <td>0</td>\n",
       "      <td>00</td>\n",
       "      <td>0</td>\n",
       "      <td>0</td>\n",
       "      <td>00</td>\n",
       "      <td>0</td>\n",
       "      <td>0</td>\n",
       "      <td>All Industries</td>\n",
       "    </tr>\n",
       "    <tr>\n",
       "      <th>22658</th>\n",
       "      <td>LNS13000000</td>\n",
       "      <td>2015</td>\n",
       "      <td>8515.0</td>\n",
       "      <td>3</td>\n",
       "      <td>30</td>\n",
       "      <td>M</td>\n",
       "      <td>(Seas) Unemployment Level</td>\n",
       "      <td>0</td>\n",
       "      <td>00</td>\n",
       "      <td>0</td>\n",
       "      <td>0</td>\n",
       "      <td>00</td>\n",
       "      <td>0</td>\n",
       "      <td>0</td>\n",
       "      <td>All Industries</td>\n",
       "    </tr>\n",
       "    <tr>\n",
       "      <th>22659</th>\n",
       "      <td>LNS13000000</td>\n",
       "      <td>2015</td>\n",
       "      <td>8550.0</td>\n",
       "      <td>4</td>\n",
       "      <td>30</td>\n",
       "      <td>M</td>\n",
       "      <td>(Seas) Unemployment Level</td>\n",
       "      <td>0</td>\n",
       "      <td>00</td>\n",
       "      <td>0</td>\n",
       "      <td>0</td>\n",
       "      <td>00</td>\n",
       "      <td>0</td>\n",
       "      <td>0</td>\n",
       "      <td>All Industries</td>\n",
       "    </tr>\n",
       "    <tr>\n",
       "      <th>22660</th>\n",
       "      <td>LNS13000000</td>\n",
       "      <td>2015</td>\n",
       "      <td>8834.0</td>\n",
       "      <td>5</td>\n",
       "      <td>30</td>\n",
       "      <td>M</td>\n",
       "      <td>(Seas) Unemployment Level</td>\n",
       "      <td>0</td>\n",
       "      <td>00</td>\n",
       "      <td>0</td>\n",
       "      <td>0</td>\n",
       "      <td>00</td>\n",
       "      <td>0</td>\n",
       "      <td>0</td>\n",
       "      <td>All Industries</td>\n",
       "    </tr>\n",
       "  </tbody>\n",
       "</table>\n",
       "</div>"
      ],
      "text/plain": [
       "         series_id  year   value  Month  lfst_code periodicity_code  \\\n",
       "22656  LNS13000000  2015  8885.0      1         30                M   \n",
       "22657  LNS13000000  2015  8599.0      2         30                M   \n",
       "22658  LNS13000000  2015  8515.0      3         30                M   \n",
       "22659  LNS13000000  2015  8550.0      4         30                M   \n",
       "22660  LNS13000000  2015  8834.0      5         30                M   \n",
       "\n",
       "                    series_title  activity_code ages_code  class_code  \\\n",
       "22656  (Seas) Unemployment Level              0        00           0   \n",
       "22657  (Seas) Unemployment Level              0        00           0   \n",
       "22658  (Seas) Unemployment Level              0        00           0   \n",
       "22659  (Seas) Unemployment Level              0        00           0   \n",
       "22660  (Seas) Unemployment Level              0        00           0   \n",
       "\n",
       "       duration_code education_code  entr_code  expr_code       indy_text  \n",
       "22656              0             00          0          0  All Industries  \n",
       "22657              0             00          0          0  All Industries  \n",
       "22658              0             00          0          0  All Industries  \n",
       "22659              0             00          0          0  All Industries  \n",
       "22660              0             00          0          0  All Industries  "
      ]
     },
     "execution_count": 9,
     "metadata": {},
     "output_type": "execute_result"
    }
   ],
   "source": [
    "# get Unemployment level\n",
    "# LNS13000000 all\n",
    "# LNS13000001 Men\n",
    "# LNS13000002  Women\n",
    "condition = LNSDF['series_id'].isin(['LNS13000000','LNS13000001','LNS13000002'])\n",
    "allUnemploymentDF = LNSDF[condition]\n",
    "allUnemploymentDF.head()"
   ]
  },
  {
   "cell_type": "code",
   "execution_count": 10,
   "metadata": {
    "ExecuteTime": {
     "end_time": "2020-06-03T17:09:29.591749Z",
     "start_time": "2020-06-03T17:09:29.546739Z"
    }
   },
   "outputs": [
    {
     "name": "stderr",
     "output_type": "stream",
     "text": [
      "e:\\Anaconda3\\envs\\PythonData\\lib\\site-packages\\ipykernel_launcher.py:2: SettingWithCopyWarning: \n",
      "A value is trying to be set on a copy of a slice from a DataFrame.\n",
      "Try using .loc[row_indexer,col_indexer] = value instead\n",
      "\n",
      "See the caveats in the documentation: https://pandas.pydata.org/pandas-docs/stable/user_guide/indexing.html#returning-a-view-versus-a-copy\n",
      "  \n"
     ]
    },
    {
     "data": {
      "text/html": [
       "<div>\n",
       "<style scoped>\n",
       "    .dataframe tbody tr th:only-of-type {\n",
       "        vertical-align: middle;\n",
       "    }\n",
       "\n",
       "    .dataframe tbody tr th {\n",
       "        vertical-align: top;\n",
       "    }\n",
       "\n",
       "    .dataframe thead th {\n",
       "        text-align: right;\n",
       "    }\n",
       "</style>\n",
       "<table border=\"1\" class=\"dataframe\">\n",
       "  <thead>\n",
       "    <tr style=\"text-align: right;\">\n",
       "      <th></th>\n",
       "      <th>series_id</th>\n",
       "      <th>year</th>\n",
       "      <th>Month</th>\n",
       "      <th>value</th>\n",
       "      <th>date</th>\n",
       "    </tr>\n",
       "  </thead>\n",
       "  <tbody>\n",
       "    <tr>\n",
       "      <th>22656</th>\n",
       "      <td>LNS13000000</td>\n",
       "      <td>2015</td>\n",
       "      <td>1</td>\n",
       "      <td>8885.0</td>\n",
       "      <td>2015-1</td>\n",
       "    </tr>\n",
       "    <tr>\n",
       "      <th>22657</th>\n",
       "      <td>LNS13000000</td>\n",
       "      <td>2015</td>\n",
       "      <td>2</td>\n",
       "      <td>8599.0</td>\n",
       "      <td>2015-2</td>\n",
       "    </tr>\n",
       "    <tr>\n",
       "      <th>22658</th>\n",
       "      <td>LNS13000000</td>\n",
       "      <td>2015</td>\n",
       "      <td>3</td>\n",
       "      <td>8515.0</td>\n",
       "      <td>2015-3</td>\n",
       "    </tr>\n",
       "    <tr>\n",
       "      <th>22659</th>\n",
       "      <td>LNS13000000</td>\n",
       "      <td>2015</td>\n",
       "      <td>4</td>\n",
       "      <td>8550.0</td>\n",
       "      <td>2015-4</td>\n",
       "    </tr>\n",
       "    <tr>\n",
       "      <th>22660</th>\n",
       "      <td>LNS13000000</td>\n",
       "      <td>2015</td>\n",
       "      <td>5</td>\n",
       "      <td>8834.0</td>\n",
       "      <td>2015-5</td>\n",
       "    </tr>\n",
       "  </tbody>\n",
       "</table>\n",
       "</div>"
      ],
      "text/plain": [
       "         series_id  year  Month   value    date\n",
       "22656  LNS13000000  2015      1  8885.0  2015-1\n",
       "22657  LNS13000000  2015      2  8599.0  2015-2\n",
       "22658  LNS13000000  2015      3  8515.0  2015-3\n",
       "22659  LNS13000000  2015      4  8550.0  2015-4\n",
       "22660  LNS13000000  2015      5  8834.0  2015-5"
      ]
     },
     "execution_count": 10,
     "metadata": {},
     "output_type": "execute_result"
    }
   ],
   "source": [
    "df = allUnemploymentDF[['series_id','year','Month','value']]\n",
    "df['date']=df['year'].astype(str) + \"-\"+ df['Month'].astype(str) \n",
    "df.head()"
   ]
  },
  {
   "cell_type": "code",
   "execution_count": 11,
   "metadata": {
    "ExecuteTime": {
     "end_time": "2020-06-03T17:09:29.637735Z",
     "start_time": "2020-06-03T17:09:29.594755Z"
    },
    "scrolled": true
   },
   "outputs": [
    {
     "data": {
      "text/html": [
       "<div>\n",
       "<style scoped>\n",
       "    .dataframe tbody tr th:only-of-type {\n",
       "        vertical-align: middle;\n",
       "    }\n",
       "\n",
       "    .dataframe tbody tr th {\n",
       "        vertical-align: top;\n",
       "    }\n",
       "\n",
       "    .dataframe thead tr th {\n",
       "        text-align: left;\n",
       "    }\n",
       "\n",
       "    .dataframe thead tr:last-of-type th {\n",
       "        text-align: right;\n",
       "    }\n",
       "</style>\n",
       "<table border=\"1\" class=\"dataframe\">\n",
       "  <thead>\n",
       "    <tr>\n",
       "      <th></th>\n",
       "      <th colspan=\"3\" halign=\"left\">value</th>\n",
       "    </tr>\n",
       "    <tr>\n",
       "      <th>series_id</th>\n",
       "      <th>LNS13000000</th>\n",
       "      <th>LNS13000001</th>\n",
       "      <th>LNS13000002</th>\n",
       "    </tr>\n",
       "    <tr>\n",
       "      <th>date</th>\n",
       "      <th></th>\n",
       "      <th></th>\n",
       "      <th></th>\n",
       "    </tr>\n",
       "  </thead>\n",
       "  <tbody>\n",
       "    <tr>\n",
       "      <th>2015-1</th>\n",
       "      <td>8885.0</td>\n",
       "      <td>4863.0</td>\n",
       "      <td>4022.0</td>\n",
       "    </tr>\n",
       "    <tr>\n",
       "      <th>2015-10</th>\n",
       "      <td>7922.0</td>\n",
       "      <td>4242.0</td>\n",
       "      <td>3680.0</td>\n",
       "    </tr>\n",
       "    <tr>\n",
       "      <th>2015-11</th>\n",
       "      <td>8000.0</td>\n",
       "      <td>4339.0</td>\n",
       "      <td>3661.0</td>\n",
       "    </tr>\n",
       "    <tr>\n",
       "      <th>2015-12</th>\n",
       "      <td>7907.0</td>\n",
       "      <td>4280.0</td>\n",
       "      <td>3628.0</td>\n",
       "    </tr>\n",
       "    <tr>\n",
       "      <th>2015-2</th>\n",
       "      <td>8599.0</td>\n",
       "      <td>4691.0</td>\n",
       "      <td>3908.0</td>\n",
       "    </tr>\n",
       "  </tbody>\n",
       "</table>\n",
       "</div>"
      ],
      "text/plain": [
       "                value                        \n",
       "series_id LNS13000000 LNS13000001 LNS13000002\n",
       "date                                         \n",
       "2015-1         8885.0      4863.0      4022.0\n",
       "2015-10        7922.0      4242.0      3680.0\n",
       "2015-11        8000.0      4339.0      3661.0\n",
       "2015-12        7907.0      4280.0      3628.0\n",
       "2015-2         8599.0      4691.0      3908.0"
      ]
     },
     "execution_count": 11,
     "metadata": {},
     "output_type": "execute_result"
    }
   ],
   "source": [
    "df = pd.pivot_table(df,index=['date'],values=['value'],columns=['series_id'])\n",
    "\n",
    "df.head()"
   ]
  },
  {
   "cell_type": "code",
   "execution_count": 12,
   "metadata": {
    "ExecuteTime": {
     "end_time": "2020-06-03T17:09:29.653739Z",
     "start_time": "2020-06-03T17:09:29.644735Z"
    }
   },
   "outputs": [
    {
     "data": {
      "text/plain": [
       "MultiIndex([( 'date',            ''),\n",
       "            ('value', 'LNS13000000'),\n",
       "            ('value', 'LNS13000001'),\n",
       "            ('value', 'LNS13000002')],\n",
       "           names=[None, 'series_id'])"
      ]
     },
     "execution_count": 12,
     "metadata": {},
     "output_type": "execute_result"
    }
   ],
   "source": [
    "df.reset_index(inplace=True)\n",
    "df.columns"
   ]
  },
  {
   "cell_type": "code",
   "execution_count": 13,
   "metadata": {
    "ExecuteTime": {
     "end_time": "2020-06-03T17:09:30.230750Z",
     "start_time": "2020-06-03T17:09:29.656738Z"
    }
   },
   "outputs": [
    {
     "data": {
      "image/png": "[encoded data removed]",
      "text/plain": [
       "<Figure size 432x288 with 1 Axes>"
      ]
     },
     "metadata": {
      "needs_background": "light"
     },
     "output_type": "display_data"
    }
   ],
   "source": [
    "ax = df.plot(xticks=df.index)\n",
    "\n"
   ]
  },
  {
   "cell_type": "code",
   "execution_count": null,
   "metadata": {},
   "outputs": [],
   "source": []
  }
 ],
 "metadata": {
  "kernelspec": {
   "display_name": "Python 3",
   "language": "python",
   "name": "python3"
  },
  "language_info": {
   "codemirror_mode": {
    "name": "ipython",
    "version": 3
   },
   "file_extension": ".py",
   "mimetype": "text/x-python",
   "name": "python",
   "nbconvert_exporter": "python",
   "pygments_lexer": "ipython3",
   "version": "3.6.10"
  }
 },
 "nbformat": 4,
 "nbformat_minor": 2
}
