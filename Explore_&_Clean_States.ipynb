{
 "cells": [
  {
   "cell_type": "code",
   "execution_count": 1,
   "metadata": {
    "ExecuteTime": {
     "end_time": "2020-06-02T18:46:38.660305Z",
     "start_time": "2020-06-02T18:46:37.315287Z"
    }
   },
   "outputs": [
    {
     "data": {
      "text/html": [
       "<div>\n",
       "<style scoped>\n",
       "    .dataframe tbody tr th:only-of-type {\n",
       "        vertical-align: middle;\n",
       "    }\n",
       "\n",
       "    .dataframe tbody tr th {\n",
       "        vertical-align: top;\n",
       "    }\n",
       "\n",
       "    .dataframe thead th {\n",
       "        text-align: right;\n",
       "    }\n",
       "</style>\n",
       "<table border=\"1\" class=\"dataframe\">\n",
       "  <thead>\n",
       "    <tr style=\"text-align: right;\">\n",
       "      <th></th>\n",
       "      <th>state</th>\n",
       "      <th>filed_week_ended</th>\n",
       "      <th>initial_claim</th>\n",
       "      <th>reflecting_week_ended</th>\n",
       "      <th>continued_claims</th>\n",
       "      <th>covered_employment</th>\n",
       "      <th>insured_unemployment_rate</th>\n",
       "    </tr>\n",
       "  </thead>\n",
       "  <tbody>\n",
       "    <tr>\n",
       "      <th>0</th>\n",
       "      <td>Alabama</td>\n",
       "      <td>2015-01-03</td>\n",
       "      <td>7785.0</td>\n",
       "      <td>2014-12-27</td>\n",
       "      <td>30194.0</td>\n",
       "      <td>1794067.0</td>\n",
       "      <td>1.68</td>\n",
       "    </tr>\n",
       "    <tr>\n",
       "      <th>1</th>\n",
       "      <td>Alabama</td>\n",
       "      <td>2015-01-10</td>\n",
       "      <td>9139.0</td>\n",
       "      <td>2015-01-03</td>\n",
       "      <td>35246.0</td>\n",
       "      <td>1798083.0</td>\n",
       "      <td>1.96</td>\n",
       "    </tr>\n",
       "    <tr>\n",
       "      <th>2</th>\n",
       "      <td>Alabama</td>\n",
       "      <td>2015-01-17</td>\n",
       "      <td>4654.0</td>\n",
       "      <td>2015-01-10</td>\n",
       "      <td>28200.0</td>\n",
       "      <td>1798083.0</td>\n",
       "      <td>1.57</td>\n",
       "    </tr>\n",
       "    <tr>\n",
       "      <th>3</th>\n",
       "      <td>Alabama</td>\n",
       "      <td>2015-01-24</td>\n",
       "      <td>3284.0</td>\n",
       "      <td>2015-01-17</td>\n",
       "      <td>26222.0</td>\n",
       "      <td>1798083.0</td>\n",
       "      <td>1.46</td>\n",
       "    </tr>\n",
       "    <tr>\n",
       "      <th>4</th>\n",
       "      <td>Alabama</td>\n",
       "      <td>2015-01-31</td>\n",
       "      <td>3203.0</td>\n",
       "      <td>2015-01-24</td>\n",
       "      <td>25391.0</td>\n",
       "      <td>1798083.0</td>\n",
       "      <td>1.41</td>\n",
       "    </tr>\n",
       "  </tbody>\n",
       "</table>\n",
       "</div>"
      ],
      "text/plain": [
       "     state filed_week_ended  initial_claim reflecting_week_ended  \\\n",
       "0  Alabama       2015-01-03         7785.0            2014-12-27   \n",
       "1  Alabama       2015-01-10         9139.0            2015-01-03   \n",
       "2  Alabama       2015-01-17         4654.0            2015-01-10   \n",
       "3  Alabama       2015-01-24         3284.0            2015-01-17   \n",
       "4  Alabama       2015-01-31         3203.0            2015-01-24   \n",
       "\n",
       "   continued_claims  covered_employment  insured_unemployment_rate  \n",
       "0           30194.0           1794067.0                       1.68  \n",
       "1           35246.0           1798083.0                       1.96  \n",
       "2           28200.0           1798083.0                       1.57  \n",
       "3           26222.0           1798083.0                       1.46  \n",
       "4           25391.0           1798083.0                       1.41  "
      ]
     },
     "execution_count": 1,
     "metadata": {},
     "output_type": "execute_result"
    }
   ],
   "source": [
    "# Dependencies and Setup\n",
    "import pandas as pd\n",
    "import seaborn as sns\n",
    "import numpy as np\n",
    "from datetime import datetime,date\n",
    "\n",
    "# File to Load\n",
    "file_to_load = \"Resources/US_Unemployment-state.csv\"\n",
    "\n",
    "headers =['state','filed_week_ended','initial_claim','reflecting_week_ended','continued_claims','covered_employment','insured_unemployment_rate']\n",
    "dtypes = { 'state':np.str_, 'initial_claim':np.float32,'continued_claims':np.float32,'covered_employment':np.float32,'insured_unemployment_rate':np.float32}\n",
    "parse_dates = ['filed_week_ended','reflecting_week_ended']\n",
    "\n",
    "# Read file and store into Pandas data frame\n",
    "df = pd.read_csv(file_to_load,names=headers, dtype=dtypes,parse_dates=parse_dates,skiprows=1)\n",
    "\n",
    "# Output File (CSV)\n",
    "output_data_file = \"Resources/cleaned_data.csv\"\n",
    "\n",
    "# Preview of the DataFrame\n",
    "df.head()"
   ]
  },
  {
   "cell_type": "code",
   "execution_count": 2,
   "metadata": {
    "ExecuteTime": {
     "end_time": "2020-06-02T18:46:38.690289Z",
     "start_time": "2020-06-02T18:46:38.668287Z"
    }
   },
   "outputs": [
    {
     "data": {
      "text/plain": [
       "state                                object\n",
       "filed_week_ended             datetime64[ns]\n",
       "initial_claim                       float32\n",
       "reflecting_week_ended        datetime64[ns]\n",
       "continued_claims                    float32\n",
       "covered_employment                  float32\n",
       "insured_unemployment_rate           float32\n",
       "dtype: object"
      ]
     },
     "execution_count": 2,
     "metadata": {},
     "output_type": "execute_result"
    }
   ],
   "source": [
    "# Check for correct data types - need to convert\n",
    "df.dtypes"
   ]
  },
  {
   "cell_type": "code",
   "execution_count": 3,
   "metadata": {
    "ExecuteTime": {
     "end_time": "2020-06-02T18:46:38.706296Z",
     "start_time": "2020-06-02T18:46:38.694288Z"
    }
   },
   "outputs": [],
   "source": [
    "# # Remove commas from columns to be able to cast as a number\n",
    "# df[\"Initial Claims\"] = df[\"Initial Claims\"].str.replace(',', '')\n",
    "# df[\"Continued Claims\"] = df[\"Continued Claims\"].str.replace(',', '')\n",
    "# df[\"Covered Employment\"] = df[\"Covered Employment\"].str.replace(',', '')"
   ]
  },
  {
   "cell_type": "code",
   "execution_count": 4,
   "metadata": {
    "ExecuteTime": {
     "end_time": "2020-06-02T18:46:38.722289Z",
     "start_time": "2020-06-02T18:46:38.710288Z"
    }
   },
   "outputs": [],
   "source": [
    "# # Convert data types\n",
    "# df['Initial Claims'] = pd.to_numeric(df['Initial Claims'])\n",
    "# df['Continued Claims'] = pd.to_numeric(df['Continued Claims'])\n",
    "# df['Covered Employment'] = pd.to_numeric(df['Covered Employment'])"
   ]
  },
  {
   "cell_type": "code",
   "execution_count": 5,
   "metadata": {
    "ExecuteTime": {
     "end_time": "2020-06-02T18:46:38.737289Z",
     "start_time": "2020-06-02T18:46:38.724289Z"
    }
   },
   "outputs": [
    {
     "data": {
      "text/plain": [
       "state                                object\n",
       "filed_week_ended             datetime64[ns]\n",
       "initial_claim                       float32\n",
       "reflecting_week_ended        datetime64[ns]\n",
       "continued_claims                    float32\n",
       "covered_employment                  float32\n",
       "insured_unemployment_rate           float32\n",
       "dtype: object"
      ]
     },
     "execution_count": 5,
     "metadata": {},
     "output_type": "execute_result"
    }
   ],
   "source": [
    "# Verify adjusted data types\n",
    "df.dtypes"
   ]
  },
  {
   "cell_type": "code",
   "execution_count": 6,
   "metadata": {
    "ExecuteTime": {
     "end_time": "2020-06-02T18:46:38.769287Z",
     "start_time": "2020-06-02T18:46:38.739289Z"
    }
   },
   "outputs": [
    {
     "data": {
      "text/plain": [
       "Index(['state', 'filed_week_ended', 'initial_claim', 'reflecting_week_ended',\n",
       "       'continued_claims', 'covered_employment', 'insured_unemployment_rate'],\n",
       "      dtype='object')"
      ]
     },
     "execution_count": 6,
     "metadata": {},
     "output_type": "execute_result"
    }
   ],
   "source": [
    "# Check column names for spaces - looks good\n",
    "df.columns"
   ]
  },
  {
   "cell_type": "code",
   "execution_count": 7,
   "metadata": {
    "ExecuteTime": {
     "end_time": "2020-06-02T18:46:38.784292Z",
     "start_time": "2020-06-02T18:46:38.771287Z"
    }
   },
   "outputs": [
    {
     "data": {
      "text/plain": [
       "state                        14893\n",
       "filed_week_ended             14893\n",
       "initial_claim                14893\n",
       "reflecting_week_ended        14893\n",
       "continued_claims             14893\n",
       "covered_employment           14893\n",
       "insured_unemployment_rate    14893\n",
       "dtype: int64"
      ]
     },
     "execution_count": 7,
     "metadata": {},
     "output_type": "execute_result"
    }
   ],
   "source": [
    "# Identify incomplete rows\n",
    "df.count()"
   ]
  },
  {
   "cell_type": "code",
   "execution_count": 8,
   "metadata": {
    "ExecuteTime": {
     "end_time": "2020-06-02T18:46:38.800287Z",
     "start_time": "2020-06-02T18:46:38.787289Z"
    }
   },
   "outputs": [],
   "source": [
    "# Drop all rows with missing information\n",
    "# df = unemployment_df.dropna(how='any')"
   ]
  },
  {
   "cell_type": "code",
   "execution_count": 9,
   "metadata": {
    "ExecuteTime": {
     "end_time": "2020-06-02T18:46:38.815290Z",
     "start_time": "2020-06-02T18:46:38.803286Z"
    }
   },
   "outputs": [
    {
     "data": {
      "text/plain": [
       "state                        14893\n",
       "filed_week_ended             14893\n",
       "initial_claim                14893\n",
       "reflecting_week_ended        14893\n",
       "continued_claims             14893\n",
       "covered_employment           14893\n",
       "insured_unemployment_rate    14893\n",
       "dtype: int64"
      ]
     },
     "execution_count": 9,
     "metadata": {},
     "output_type": "execute_result"
    }
   ],
   "source": [
    "# Verify dropped rows\n",
    "df.count()"
   ]
  },
  {
   "cell_type": "code",
   "execution_count": 11,
   "metadata": {
    "ExecuteTime": {
     "end_time": "2020-06-02T18:46:45.460462Z",
     "start_time": "2020-06-02T18:46:45.445459Z"
    }
   },
   "outputs": [
    {
     "data": {
      "text/plain": [
       "Illinois                281\n",
       "Hawaii                  281\n",
       "New Jersey              281\n",
       "South Dakota            281\n",
       "Arizona                 281\n",
       "North Dakota            281\n",
       "North Carolina          281\n",
       "Louisiana               281\n",
       "Maine                   281\n",
       "Virgin Islands          281\n",
       "Washington              281\n",
       "Colorado                281\n",
       "Virginia                281\n",
       "New Mexico              281\n",
       "Wyoming                 281\n",
       "Arkansas                281\n",
       "Ohio                    281\n",
       "Michigan                281\n",
       "California              281\n",
       "Delaware                281\n",
       "Indiana                 281\n",
       "Puerto Rico             281\n",
       "Idaho                   281\n",
       "Massachusetts           281\n",
       "Pennsylvania            281\n",
       "Wisconsin               281\n",
       "New Hampshire           281\n",
       "Tennessee               281\n",
       "West Virginia           281\n",
       "Nebraska                281\n",
       "Maryland                281\n",
       "South Carolina          281\n",
       "Texas                   281\n",
       "Mississippi             281\n",
       "Nevada                  281\n",
       "Vermont                 281\n",
       "Kentucky                281\n",
       "Montana                 281\n",
       "Oklahoma                281\n",
       "Iowa                    281\n",
       "Utah                    281\n",
       "Alaska                  281\n",
       "New York                281\n",
       "Connecticut             281\n",
       "Florida                 281\n",
       "Rhode Island            281\n",
       "Georgia                 281\n",
       "Alabama                 281\n",
       "Minnesota               281\n",
       "Kansas                  281\n",
       "District of Columbia    281\n",
       "Missouri                281\n",
       "Oregon                  281\n",
       "Name: state, dtype: int64"
      ]
     },
     "execution_count": 11,
     "metadata": {},
     "output_type": "execute_result"
    }
   ],
   "source": [
    "# Check states values\n",
    "df['state'].value_counts()"
   ]
  },
  {
   "cell_type": "code",
   "execution_count": null,
   "metadata": {
    "ExecuteTime": {
     "end_time": "2020-06-02T18:46:39.041294Z",
     "start_time": "2020-06-02T18:46:37.329Z"
    },
    "scrolled": true
   },
   "outputs": [],
   "source": [
    "# Display a statistical overview for a high level insight into the data\n",
    "df.describe()"
   ]
  },
  {
   "cell_type": "code",
   "execution_count": null,
   "metadata": {},
   "outputs": [],
   "source": []
  }
 ],
 "metadata": {
  "kernelspec": {
   "display_name": "Python 3",
   "language": "python",
   "name": "python3"
  },
  "language_info": {
   "codemirror_mode": {
    "name": "ipython",
    "version": 3
   },
   "file_extension": ".py",
   "mimetype": "text/x-python",
   "name": "python",
   "nbconvert_exporter": "python",
   "pygments_lexer": "ipython3",
   "version": "3.6.10"
  }
 },
 "nbformat": 4,
 "nbformat_minor": 2
}
