{
 "cells": [
  {
   "cell_type": "code",
   "execution_count": 1,
   "metadata": {
    "ExecuteTime": {
     "end_time": "2020-06-05T19:10:30.168076Z",
     "start_time": "2020-06-05T19:10:28.576060Z"
    }
   },
   "outputs": [
    {
     "data": {
      "text/html": [
       "<div>\n",
       "<style scoped>\n",
       "    .dataframe tbody tr th:only-of-type {\n",
       "        vertical-align: middle;\n",
       "    }\n",
       "\n",
       "    .dataframe tbody tr th {\n",
       "        vertical-align: top;\n",
       "    }\n",
       "\n",
       "    .dataframe thead th {\n",
       "        text-align: right;\n",
       "    }\n",
       "</style>\n",
       "<table border=\"1\" class=\"dataframe\">\n",
       "  <thead>\n",
       "    <tr style=\"text-align: right;\">\n",
       "      <th></th>\n",
       "      <th>state</th>\n",
       "      <th>filed_week_ended</th>\n",
       "      <th>initial_claim</th>\n",
       "      <th>reflecting_week_ended</th>\n",
       "      <th>continued_claims</th>\n",
       "      <th>covered_employment</th>\n",
       "      <th>insured_unemployment_rate</th>\n",
       "    </tr>\n",
       "  </thead>\n",
       "  <tbody>\n",
       "    <tr>\n",
       "      <th>0</th>\n",
       "      <td>Alabama</td>\n",
       "      <td>2015-01-03</td>\n",
       "      <td>7785.0</td>\n",
       "      <td>2014-12-27</td>\n",
       "      <td>30194.0</td>\n",
       "      <td>1794067.0</td>\n",
       "      <td>1.68</td>\n",
       "    </tr>\n",
       "    <tr>\n",
       "      <th>1</th>\n",
       "      <td>Alabama</td>\n",
       "      <td>2015-01-10</td>\n",
       "      <td>9139.0</td>\n",
       "      <td>2015-01-03</td>\n",
       "      <td>35246.0</td>\n",
       "      <td>1798083.0</td>\n",
       "      <td>1.96</td>\n",
       "    </tr>\n",
       "    <tr>\n",
       "      <th>2</th>\n",
       "      <td>Alabama</td>\n",
       "      <td>2015-01-17</td>\n",
       "      <td>4654.0</td>\n",
       "      <td>2015-01-10</td>\n",
       "      <td>28200.0</td>\n",
       "      <td>1798083.0</td>\n",
       "      <td>1.57</td>\n",
       "    </tr>\n",
       "    <tr>\n",
       "      <th>3</th>\n",
       "      <td>Alabama</td>\n",
       "      <td>2015-01-24</td>\n",
       "      <td>3284.0</td>\n",
       "      <td>2015-01-17</td>\n",
       "      <td>26222.0</td>\n",
       "      <td>1798083.0</td>\n",
       "      <td>1.46</td>\n",
       "    </tr>\n",
       "    <tr>\n",
       "      <th>4</th>\n",
       "      <td>Alabama</td>\n",
       "      <td>2015-01-31</td>\n",
       "      <td>3203.0</td>\n",
       "      <td>2015-01-24</td>\n",
       "      <td>25391.0</td>\n",
       "      <td>1798083.0</td>\n",
       "      <td>1.41</td>\n",
       "    </tr>\n",
       "  </tbody>\n",
       "</table>\n",
       "</div>"
      ],
      "text/plain": [
       "     state filed_week_ended  initial_claim reflecting_week_ended  \\\n",
       "0  Alabama       2015-01-03         7785.0            2014-12-27   \n",
       "1  Alabama       2015-01-10         9139.0            2015-01-03   \n",
       "2  Alabama       2015-01-17         4654.0            2015-01-10   \n",
       "3  Alabama       2015-01-24         3284.0            2015-01-17   \n",
       "4  Alabama       2015-01-31         3203.0            2015-01-24   \n",
       "\n",
       "   continued_claims  covered_employment  insured_unemployment_rate  \n",
       "0           30194.0           1794067.0                       1.68  \n",
       "1           35246.0           1798083.0                       1.96  \n",
       "2           28200.0           1798083.0                       1.57  \n",
       "3           26222.0           1798083.0                       1.46  \n",
       "4           25391.0           1798083.0                       1.41  "
      ]
     },
     "execution_count": 1,
     "metadata": {},
     "output_type": "execute_result"
    }
   ],
   "source": [
    "# Dependencies and Setup\n",
    "import pandas as pd\n",
    "import seaborn as sns\n",
    "import numpy as np\n",
    "from datetime import datetime,date\n",
    "\n",
    "# File to Load\n",
    "file_to_load = \"Resources/US_Unemployment-state.csv\"\n",
    "\n",
    "headers =['state','filed_week_ended','initial_claim','reflecting_week_ended','continued_claims','covered_employment','insured_unemployment_rate']\n",
    "dtypes = { 'state':np.str_, 'initial_claim':np.float32,'continued_claims':np.float32,'covered_employment':np.float32,'insured_unemployment_rate':np.float32}\n",
    "parse_dates = ['filed_week_ended','reflecting_week_ended']\n",
    "\n",
    "# Read file and store into Pandas data frame\n",
    "df = pd.read_csv(file_to_load,names=headers, dtype=dtypes,parse_dates=parse_dates,skiprows=1)\n",
    "\n",
    "# Output File (CSV)\n",
    "output_data_file = \"Resources/cleaned_data.csv\"\n",
    "\n",
    "# Preview of the DataFrame\n",
    "df.head()"
   ]
  },
  {
   "cell_type": "code",
   "execution_count": 2,
   "metadata": {
    "ExecuteTime": {
     "end_time": "2020-06-05T19:10:30.184061Z",
     "start_time": "2020-06-05T19:10:30.171061Z"
    }
   },
   "outputs": [
    {
     "data": {
      "text/plain": [
       "state                                object\n",
       "filed_week_ended             datetime64[ns]\n",
       "initial_claim                       float32\n",
       "reflecting_week_ended        datetime64[ns]\n",
       "continued_claims                    float32\n",
       "covered_employment                  float32\n",
       "insured_unemployment_rate           float32\n",
       "dtype: object"
      ]
     },
     "execution_count": 2,
     "metadata": {},
     "output_type": "execute_result"
    }
   ],
   "source": [
    "# Check for correct data types - need to convert\n",
    "df.dtypes"
   ]
  },
  {
   "cell_type": "code",
   "execution_count": 3,
   "metadata": {
    "ExecuteTime": {
     "end_time": "2020-06-05T19:10:30.214060Z",
     "start_time": "2020-06-05T19:10:30.191062Z"
    }
   },
   "outputs": [],
   "source": [
    "# # Remove commas from columns to be able to cast as a number\n",
    "# df[\"Initial Claims\"] = df[\"Initial Claims\"].str.replace(',', '')\n",
    "# df[\"Continued Claims\"] = df[\"Continued Claims\"].str.replace(',', '')\n",
    "# df[\"Covered Employment\"] = df[\"Covered Employment\"].str.replace(',', '')"
   ]
  },
  {
   "cell_type": "code",
   "execution_count": 4,
   "metadata": {
    "ExecuteTime": {
     "end_time": "2020-06-05T19:10:30.230059Z",
     "start_time": "2020-06-05T19:10:30.218064Z"
    }
   },
   "outputs": [],
   "source": [
    "# # Convert data types\n",
    "# df['Initial Claims'] = pd.to_numeric(df['Initial Claims'])\n",
    "# df['Continued Claims'] = pd.to_numeric(df['Continued Claims'])\n",
    "# df['Covered Employment'] = pd.to_numeric(df['Covered Employment'])"
   ]
  },
  {
   "cell_type": "code",
   "execution_count": 5,
   "metadata": {
    "ExecuteTime": {
     "end_time": "2020-06-05T19:10:30.245059Z",
     "start_time": "2020-06-05T19:10:30.233062Z"
    }
   },
   "outputs": [
    {
     "data": {
      "text/plain": [
       "state                                object\n",
       "filed_week_ended             datetime64[ns]\n",
       "initial_claim                       float32\n",
       "reflecting_week_ended        datetime64[ns]\n",
       "continued_claims                    float32\n",
       "covered_employment                  float32\n",
       "insured_unemployment_rate           float32\n",
       "dtype: object"
      ]
     },
     "execution_count": 5,
     "metadata": {},
     "output_type": "execute_result"
    }
   ],
   "source": [
    "# Verify adjusted data types\n",
    "df.dtypes"
   ]
  },
  {
   "cell_type": "code",
   "execution_count": 6,
   "metadata": {
    "ExecuteTime": {
     "end_time": "2020-06-05T19:10:30.260061Z",
     "start_time": "2020-06-05T19:10:30.248062Z"
    }
   },
   "outputs": [
    {
     "data": {
      "text/plain": [
       "Index(['state', 'filed_week_ended', 'initial_claim', 'reflecting_week_ended',\n",
       "       'continued_claims', 'covered_employment', 'insured_unemployment_rate'],\n",
       "      dtype='object')"
      ]
     },
     "execution_count": 6,
     "metadata": {},
     "output_type": "execute_result"
    }
   ],
   "source": [
    "# Check column names for spaces - looks good\n",
    "df.columns"
   ]
  },
  {
   "cell_type": "code",
   "execution_count": 7,
   "metadata": {
    "ExecuteTime": {
     "end_time": "2020-06-05T19:10:30.276060Z",
     "start_time": "2020-06-05T19:10:30.263062Z"
    }
   },
   "outputs": [
    {
     "data": {
      "text/plain": [
       "state                        14946\n",
       "filed_week_ended             14946\n",
       "initial_claim                14946\n",
       "reflecting_week_ended        14946\n",
       "continued_claims             14946\n",
       "covered_employment           14946\n",
       "insured_unemployment_rate    14946\n",
       "dtype: int64"
      ]
     },
     "execution_count": 7,
     "metadata": {},
     "output_type": "execute_result"
    }
   ],
   "source": [
    "# Identify incomplete rows\n",
    "df.count()"
   ]
  },
  {
   "cell_type": "code",
   "execution_count": 8,
   "metadata": {
    "ExecuteTime": {
     "end_time": "2020-06-05T19:10:30.291062Z",
     "start_time": "2020-06-05T19:10:30.280063Z"
    }
   },
   "outputs": [],
   "source": [
    "# Drop all rows with missing information\n",
    "# df = unemployment_df.dropna(how='any')"
   ]
  },
  {
   "cell_type": "code",
   "execution_count": 9,
   "metadata": {
    "ExecuteTime": {
     "end_time": "2020-06-05T19:10:30.322061Z",
     "start_time": "2020-06-05T19:10:30.294063Z"
    }
   },
   "outputs": [
    {
     "data": {
      "text/plain": [
       "state                        14946\n",
       "filed_week_ended             14946\n",
       "initial_claim                14946\n",
       "reflecting_week_ended        14946\n",
       "continued_claims             14946\n",
       "covered_employment           14946\n",
       "insured_unemployment_rate    14946\n",
       "dtype: int64"
      ]
     },
     "execution_count": 9,
     "metadata": {},
     "output_type": "execute_result"
    }
   ],
   "source": [
    "# Verify dropped rows\n",
    "df.count()"
   ]
  },
  {
   "cell_type": "code",
   "execution_count": 10,
   "metadata": {
    "ExecuteTime": {
     "end_time": "2020-06-05T19:10:30.353063Z",
     "start_time": "2020-06-05T19:10:30.326061Z"
    }
   },
   "outputs": [
    {
     "data": {
      "text/plain": [
       "Illinois                282\n",
       "Colorado                282\n",
       "Florida                 282\n",
       "Massachusetts           282\n",
       "Mississippi             282\n",
       "Hawaii                  282\n",
       "Georgia                 282\n",
       "South Carolina          282\n",
       "Oklahoma                282\n",
       "New Jersey              282\n",
       "Missouri                282\n",
       "North Carolina          282\n",
       "Maryland                282\n",
       "Texas                   282\n",
       "Utah                    282\n",
       "Michigan                282\n",
       "Ohio                    282\n",
       "Indiana                 282\n",
       "Idaho                   282\n",
       "District of Columbia    282\n",
       "Arkansas                282\n",
       "Virgin Islands          282\n",
       "South Dakota            282\n",
       "Arizona                 282\n",
       "Rhode Island            282\n",
       "Minnesota               282\n",
       "Nevada                  282\n",
       "Pennsylvania            282\n",
       "Washington              282\n",
       "Montana                 282\n",
       "Alabama                 282\n",
       "Connecticut             282\n",
       "Virginia                282\n",
       "Delaware                282\n",
       "Puerto Rico             282\n",
       "Kansas                  282\n",
       "Kentucky                282\n",
       "Wyoming                 282\n",
       "New Hampshire           282\n",
       "Oregon                  282\n",
       "Vermont                 282\n",
       "Louisiana               282\n",
       "Maine                   282\n",
       "Alaska                  282\n",
       "New York                282\n",
       "Tennessee               282\n",
       "New Mexico              282\n",
       "Iowa                    282\n",
       "North Dakota            282\n",
       "California              282\n",
       "West Virginia           282\n",
       "Nebraska                282\n",
       "Wisconsin               282\n",
       "Name: state, dtype: int64"
      ]
     },
     "execution_count": 10,
     "metadata": {},
     "output_type": "execute_result"
    }
   ],
   "source": [
    "# Check states values\n",
    "df['state'].value_counts()"
   ]
  },
  {
   "cell_type": "code",
   "execution_count": 11,
   "metadata": {
    "ExecuteTime": {
     "end_time": "2020-06-05T19:10:30.398063Z",
     "start_time": "2020-06-05T19:10:30.358064Z"
    },
    "scrolled": true
   },
   "outputs": [
    {
     "data": {
      "text/html": [
       "<div>\n",
       "<style scoped>\n",
       "    .dataframe tbody tr th:only-of-type {\n",
       "        vertical-align: middle;\n",
       "    }\n",
       "\n",
       "    .dataframe tbody tr th {\n",
       "        vertical-align: top;\n",
       "    }\n",
       "\n",
       "    .dataframe thead th {\n",
       "        text-align: right;\n",
       "    }\n",
       "</style>\n",
       "<table border=\"1\" class=\"dataframe\">\n",
       "  <thead>\n",
       "    <tr style=\"text-align: right;\">\n",
       "      <th></th>\n",
       "      <th>initial_claim</th>\n",
       "      <th>continued_claims</th>\n",
       "      <th>covered_employment</th>\n",
       "      <th>insured_unemployment_rate</th>\n",
       "    </tr>\n",
       "  </thead>\n",
       "  <tbody>\n",
       "    <tr>\n",
       "      <th>count</th>\n",
       "      <td>1.494600e+04</td>\n",
       "      <td>1.494600e+04</td>\n",
       "      <td>14946.0</td>\n",
       "      <td>14946.000000</td>\n",
       "    </tr>\n",
       "    <tr>\n",
       "      <th>mean</th>\n",
       "      <td>6.943299e+03</td>\n",
       "      <td>4.564289e+04</td>\n",
       "      <td>2642790.0</td>\n",
       "      <td>1.667128</td>\n",
       "    </tr>\n",
       "    <tr>\n",
       "      <th>std</th>\n",
       "      <td>2.380265e+04</td>\n",
       "      <td>1.088436e+05</td>\n",
       "      <td>2999577.0</td>\n",
       "      <td>2.032472</td>\n",
       "    </tr>\n",
       "    <tr>\n",
       "      <th>min</th>\n",
       "      <td>0.000000e+00</td>\n",
       "      <td>0.000000e+00</td>\n",
       "      <td>32446.0</td>\n",
       "      <td>0.000000</td>\n",
       "    </tr>\n",
       "    <tr>\n",
       "      <th>25%</th>\n",
       "      <td>1.094000e+03</td>\n",
       "      <td>8.666000e+03</td>\n",
       "      <td>652934.0</td>\n",
       "      <td>0.850000</td>\n",
       "    </tr>\n",
       "    <tr>\n",
       "      <th>50%</th>\n",
       "      <td>2.550000e+03</td>\n",
       "      <td>1.991950e+04</td>\n",
       "      <td>1797624.0</td>\n",
       "      <td>1.240000</td>\n",
       "    </tr>\n",
       "    <tr>\n",
       "      <th>75%</th>\n",
       "      <td>5.608750e+03</td>\n",
       "      <td>4.008000e+04</td>\n",
       "      <td>3266242.0</td>\n",
       "      <td>1.830000</td>\n",
       "    </tr>\n",
       "    <tr>\n",
       "      <th>max</th>\n",
       "      <td>1.058325e+06</td>\n",
       "      <td>4.808361e+06</td>\n",
       "      <td>17330010.0</td>\n",
       "      <td>31.200001</td>\n",
       "    </tr>\n",
       "  </tbody>\n",
       "</table>\n",
       "</div>"
      ],
      "text/plain": [
       "       initial_claim  continued_claims  covered_employment  \\\n",
       "count   1.494600e+04      1.494600e+04             14946.0   \n",
       "mean    6.943299e+03      4.564289e+04           2642790.0   \n",
       "std     2.380265e+04      1.088436e+05           2999577.0   \n",
       "min     0.000000e+00      0.000000e+00             32446.0   \n",
       "25%     1.094000e+03      8.666000e+03            652934.0   \n",
       "50%     2.550000e+03      1.991950e+04           1797624.0   \n",
       "75%     5.608750e+03      4.008000e+04           3266242.0   \n",
       "max     1.058325e+06      4.808361e+06          17330010.0   \n",
       "\n",
       "       insured_unemployment_rate  \n",
       "count               14946.000000  \n",
       "mean                    1.667128  \n",
       "std                     2.032472  \n",
       "min                     0.000000  \n",
       "25%                     0.850000  \n",
       "50%                     1.240000  \n",
       "75%                     1.830000  \n",
       "max                    31.200001  "
      ]
     },
     "execution_count": 11,
     "metadata": {},
     "output_type": "execute_result"
    }
   ],
   "source": [
    "# Display a statistical overview for a high level insight into the data\n",
    "df.describe()"
   ]
  },
  {
   "cell_type": "code",
   "execution_count": null,
   "metadata": {},
   "outputs": [],
   "source": []
  }
 ],
 "metadata": {
  "kernelspec": {
   "display_name": "Python 3",
   "language": "python",
   "name": "python3"
  },
  "language_info": {
   "codemirror_mode": {
    "name": "ipython",
    "version": 3
   },
   "file_extension": ".py",
   "mimetype": "text/x-python",
   "name": "python",
   "nbconvert_exporter": "python",
   "pygments_lexer": "ipython3",
   "version": "3.7.4"
  }
 },
 "nbformat": 4,
 "nbformat_minor": 2
}
