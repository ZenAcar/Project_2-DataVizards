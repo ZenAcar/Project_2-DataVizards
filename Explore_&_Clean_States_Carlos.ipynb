{
 "cells": [
  {
   "cell_type": "code",
   "execution_count": 1,
   "metadata": {
    "ExecuteTime": {
     "end_time": "2020-06-07T01:34:10.291032Z",
     "start_time": "2020-06-07T01:34:08.835022Z"
    }
   },
   "outputs": [
    {
     "data": {
      "text/html": [
       "<div>\n",
       "<style scoped>\n",
       "    .dataframe tbody tr th:only-of-type {\n",
       "        vertical-align: middle;\n",
       "    }\n",
       "\n",
       "    .dataframe tbody tr th {\n",
       "        vertical-align: top;\n",
       "    }\n",
       "\n",
       "    .dataframe thead th {\n",
       "        text-align: right;\n",
       "    }\n",
       "</style>\n",
       "<table border=\"1\" class=\"dataframe\">\n",
       "  <thead>\n",
       "    <tr style=\"text-align: right;\">\n",
       "      <th></th>\n",
       "      <th>state</th>\n",
       "      <th>filed_week_ended</th>\n",
       "      <th>initial_claim</th>\n",
       "      <th>reflecting_week_ended</th>\n",
       "      <th>continued_claims</th>\n",
       "      <th>covered_employment</th>\n",
       "      <th>insured_unemployment_rate</th>\n",
       "    </tr>\n",
       "  </thead>\n",
       "  <tbody>\n",
       "    <tr>\n",
       "      <th>0</th>\n",
       "      <td>Alabama</td>\n",
       "      <td>2015-01-03</td>\n",
       "      <td>7785</td>\n",
       "      <td>2014-12-27</td>\n",
       "      <td>30194</td>\n",
       "      <td>1794067</td>\n",
       "      <td>1.68</td>\n",
       "    </tr>\n",
       "    <tr>\n",
       "      <th>1</th>\n",
       "      <td>Alabama</td>\n",
       "      <td>2015-01-10</td>\n",
       "      <td>9139</td>\n",
       "      <td>2015-01-03</td>\n",
       "      <td>35246</td>\n",
       "      <td>1798083</td>\n",
       "      <td>1.96</td>\n",
       "    </tr>\n",
       "    <tr>\n",
       "      <th>2</th>\n",
       "      <td>Alabama</td>\n",
       "      <td>2015-01-17</td>\n",
       "      <td>4654</td>\n",
       "      <td>2015-01-10</td>\n",
       "      <td>28200</td>\n",
       "      <td>1798083</td>\n",
       "      <td>1.57</td>\n",
       "    </tr>\n",
       "    <tr>\n",
       "      <th>3</th>\n",
       "      <td>Alabama</td>\n",
       "      <td>2015-01-24</td>\n",
       "      <td>3284</td>\n",
       "      <td>2015-01-17</td>\n",
       "      <td>26222</td>\n",
       "      <td>1798083</td>\n",
       "      <td>1.46</td>\n",
       "    </tr>\n",
       "    <tr>\n",
       "      <th>4</th>\n",
       "      <td>Alabama</td>\n",
       "      <td>2015-01-31</td>\n",
       "      <td>3203</td>\n",
       "      <td>2015-01-24</td>\n",
       "      <td>25391</td>\n",
       "      <td>1798083</td>\n",
       "      <td>1.41</td>\n",
       "    </tr>\n",
       "  </tbody>\n",
       "</table>\n",
       "</div>"
      ],
      "text/plain": [
       "     state filed_week_ended  initial_claim reflecting_week_ended  \\\n",
       "0  Alabama       2015-01-03           7785            2014-12-27   \n",
       "1  Alabama       2015-01-10           9139            2015-01-03   \n",
       "2  Alabama       2015-01-17           4654            2015-01-10   \n",
       "3  Alabama       2015-01-24           3284            2015-01-17   \n",
       "4  Alabama       2015-01-31           3203            2015-01-24   \n",
       "\n",
       "   continued_claims  covered_employment  insured_unemployment_rate  \n",
       "0             30194             1794067                       1.68  \n",
       "1             35246             1798083                       1.96  \n",
       "2             28200             1798083                       1.57  \n",
       "3             26222             1798083                       1.46  \n",
       "4             25391             1798083                       1.41  "
      ]
     },
     "execution_count": 1,
     "metadata": {},
     "output_type": "execute_result"
    }
   ],
   "source": [
    "# Dependencies and Setup\n",
    "import pandas as pd\n",
    "import seaborn as sns\n",
    "import numpy as np\n",
    "from datetime import datetime,date\n",
    "\n",
    "# File to Load\n",
    "file_to_load = \"Resources/US_Unemployment-state.csv\"\n",
    "\n",
    "headers =['state','filed_week_ended','initial_claim','reflecting_week_ended','continued_claims','covered_employment','insured_unemployment_rate']\n",
    "dtypes = { 'state':np.str_, 'initial_claim':np.int,'continued_claims':np.int,'covered_employment':np.int,'insured_unemployment_rate':np.float32}\n",
    "parse_dates = ['filed_week_ended','reflecting_week_ended']\n",
    "\n",
    "# Read file and store into Pandas data frame\n",
    "df = pd.read_csv(file_to_load,names=headers, dtype=dtypes,parse_dates=parse_dates,skiprows=1)\n",
    "\n",
    "# Output File (CSV)\n",
    "output_data_file = \"Resources/cleaned_data.csv\"\n",
    "\n",
    "# Preview of the DataFrame\n",
    "df.head()"
   ]
  },
  {
   "cell_type": "code",
   "execution_count": 2,
   "metadata": {
    "ExecuteTime": {
     "end_time": "2020-06-07T01:34:10.307036Z",
     "start_time": "2020-06-07T01:34:10.294036Z"
    }
   },
   "outputs": [
    {
     "data": {
      "text/plain": [
       "state                                object\n",
       "filed_week_ended             datetime64[ns]\n",
       "initial_claim                         int32\n",
       "reflecting_week_ended        datetime64[ns]\n",
       "continued_claims                      int32\n",
       "covered_employment                    int32\n",
       "insured_unemployment_rate           float32\n",
       "dtype: object"
      ]
     },
     "execution_count": 2,
     "metadata": {},
     "output_type": "execute_result"
    }
   ],
   "source": [
    "# Check for correct data types\n",
    "df.dtypes"
   ]
  },
  {
   "cell_type": "code",
   "execution_count": 6,
   "metadata": {
    "ExecuteTime": {
     "end_time": "2020-06-07T01:34:10.384037Z",
     "start_time": "2020-06-07T01:34:10.371036Z"
    }
   },
   "outputs": [
    {
     "data": {
      "text/plain": [
       "Index(['state', 'filed_week_ended', 'initial_claim', 'reflecting_week_ended',\n",
       "       'continued_claims', 'covered_employment', 'insured_unemployment_rate'],\n",
       "      dtype='object')"
      ]
     },
     "execution_count": 6,
     "metadata": {},
     "output_type": "execute_result"
    }
   ],
   "source": [
    "# Check column names for spaces \n",
    "df.columns"
   ]
  },
  {
   "cell_type": "code",
   "execution_count": 7,
   "metadata": {
    "ExecuteTime": {
     "end_time": "2020-06-07T01:34:10.400036Z",
     "start_time": "2020-06-07T01:34:10.387038Z"
    }
   },
   "outputs": [
    {
     "data": {
      "text/plain": [
       "state                        14946\n",
       "filed_week_ended             14946\n",
       "initial_claim                14946\n",
       "reflecting_week_ended        14946\n",
       "continued_claims             14946\n",
       "covered_employment           14946\n",
       "insured_unemployment_rate    14946\n",
       "dtype: int64"
      ]
     },
     "execution_count": 7,
     "metadata": {},
     "output_type": "execute_result"
    }
   ],
   "source": [
    "# Identify incomplete rows\n",
    "df.count()"
   ]
  },
  {
   "cell_type": "code",
   "execution_count": 8,
   "metadata": {
    "ExecuteTime": {
     "end_time": "2020-06-07T01:34:10.415036Z",
     "start_time": "2020-06-07T01:34:10.405036Z"
    }
   },
   "outputs": [],
   "source": [
    "# Drop all rows with missing information\n",
    "# df = unemployment_df.dropna(how='any')"
   ]
  },
  {
   "cell_type": "code",
   "execution_count": 9,
   "metadata": {
    "ExecuteTime": {
     "end_time": "2020-06-07T01:34:10.446037Z",
     "start_time": "2020-06-07T01:34:10.417034Z"
    }
   },
   "outputs": [
    {
     "data": {
      "text/plain": [
       "state                        14946\n",
       "filed_week_ended             14946\n",
       "initial_claim                14946\n",
       "reflecting_week_ended        14946\n",
       "continued_claims             14946\n",
       "covered_employment           14946\n",
       "insured_unemployment_rate    14946\n",
       "dtype: int64"
      ]
     },
     "execution_count": 9,
     "metadata": {},
     "output_type": "execute_result"
    }
   ],
   "source": [
    "# Verify dropped rows if any\n",
    "df.count()"
   ]
  },
  {
   "cell_type": "code",
   "execution_count": 10,
   "metadata": {
    "ExecuteTime": {
     "end_time": "2020-06-07T01:34:10.462035Z",
     "start_time": "2020-06-07T01:34:10.449039Z"
    }
   },
   "outputs": [
    {
     "data": {
      "text/plain": [
       "Louisiana               282\n",
       "Ohio                    282\n",
       "New Hampshire           282\n",
       "Texas                   282\n",
       "Oklahoma                282\n",
       "Arizona                 282\n",
       "Oregon                  282\n",
       "California              282\n",
       "Idaho                   282\n",
       "Tennessee               282\n",
       "Iowa                    282\n",
       "Kansas                  282\n",
       "Connecticut             282\n",
       "South Carolina          282\n",
       "Wyoming                 282\n",
       "Illinois                282\n",
       "North Carolina          282\n",
       "New Jersey              282\n",
       "Wisconsin               282\n",
       "Montana                 282\n",
       "Nevada                  282\n",
       "Rhode Island            282\n",
       "Colorado                282\n",
       "Maine                   282\n",
       "Maryland                282\n",
       "Michigan                282\n",
       "West Virginia           282\n",
       "Washington              282\n",
       "District of Columbia    282\n",
       "Minnesota               282\n",
       "Kentucky                282\n",
       "Virgin Islands          282\n",
       "Delaware                282\n",
       "Puerto Rico             282\n",
       "Pennsylvania            282\n",
       "New Mexico              282\n",
       "Mississippi             282\n",
       "Utah                    282\n",
       "Vermont                 282\n",
       "South Dakota            282\n",
       "Georgia                 282\n",
       "Missouri                282\n",
       "Hawaii                  282\n",
       "Virginia                282\n",
       "Massachusetts           282\n",
       "Alaska                  282\n",
       "New York                282\n",
       "Florida                 282\n",
       "Indiana                 282\n",
       "Arkansas                282\n",
       "Nebraska                282\n",
       "North Dakota            282\n",
       "Alabama                 282\n",
       "Name: state, dtype: int64"
      ]
     },
     "execution_count": 10,
     "metadata": {},
     "output_type": "execute_result"
    }
   ],
   "source": [
    "# Check states values\n",
    "df['state'].value_counts()"
   ]
  },
  {
   "cell_type": "code",
   "execution_count": 11,
   "metadata": {
    "ExecuteTime": {
     "end_time": "2020-06-07T01:34:10.516034Z",
     "start_time": "2020-06-07T01:34:10.464036Z"
    },
    "scrolled": true
   },
   "outputs": [
    {
     "data": {
      "text/html": [
       "<div>\n",
       "<style scoped>\n",
       "    .dataframe tbody tr th:only-of-type {\n",
       "        vertical-align: middle;\n",
       "    }\n",
       "\n",
       "    .dataframe tbody tr th {\n",
       "        vertical-align: top;\n",
       "    }\n",
       "\n",
       "    .dataframe thead th {\n",
       "        text-align: right;\n",
       "    }\n",
       "</style>\n",
       "<table border=\"1\" class=\"dataframe\">\n",
       "  <thead>\n",
       "    <tr style=\"text-align: right;\">\n",
       "      <th></th>\n",
       "      <th>initial_claim</th>\n",
       "      <th>continued_claims</th>\n",
       "      <th>covered_employment</th>\n",
       "      <th>insured_unemployment_rate</th>\n",
       "    </tr>\n",
       "  </thead>\n",
       "  <tbody>\n",
       "    <tr>\n",
       "      <th>count</th>\n",
       "      <td>1.494600e+04</td>\n",
       "      <td>1.494600e+04</td>\n",
       "      <td>1.494600e+04</td>\n",
       "      <td>14946.000000</td>\n",
       "    </tr>\n",
       "    <tr>\n",
       "      <th>mean</th>\n",
       "      <td>6.943296e+03</td>\n",
       "      <td>4.564290e+04</td>\n",
       "      <td>2.642809e+06</td>\n",
       "      <td>1.667128</td>\n",
       "    </tr>\n",
       "    <tr>\n",
       "      <th>std</th>\n",
       "      <td>2.380269e+04</td>\n",
       "      <td>1.088439e+05</td>\n",
       "      <td>2.999574e+06</td>\n",
       "      <td>2.032472</td>\n",
       "    </tr>\n",
       "    <tr>\n",
       "      <th>min</th>\n",
       "      <td>0.000000e+00</td>\n",
       "      <td>0.000000e+00</td>\n",
       "      <td>3.244600e+04</td>\n",
       "      <td>0.000000</td>\n",
       "    </tr>\n",
       "    <tr>\n",
       "      <th>25%</th>\n",
       "      <td>1.094000e+03</td>\n",
       "      <td>8.666000e+03</td>\n",
       "      <td>6.529340e+05</td>\n",
       "      <td>0.850000</td>\n",
       "    </tr>\n",
       "    <tr>\n",
       "      <th>50%</th>\n",
       "      <td>2.550000e+03</td>\n",
       "      <td>1.991950e+04</td>\n",
       "      <td>1.797624e+06</td>\n",
       "      <td>1.240000</td>\n",
       "    </tr>\n",
       "    <tr>\n",
       "      <th>75%</th>\n",
       "      <td>5.608750e+03</td>\n",
       "      <td>4.008000e+04</td>\n",
       "      <td>3.266242e+06</td>\n",
       "      <td>1.830000</td>\n",
       "    </tr>\n",
       "    <tr>\n",
       "      <th>max</th>\n",
       "      <td>1.058325e+06</td>\n",
       "      <td>4.808361e+06</td>\n",
       "      <td>1.733001e+07</td>\n",
       "      <td>31.200001</td>\n",
       "    </tr>\n",
       "  </tbody>\n",
       "</table>\n",
       "</div>"
      ],
      "text/plain": [
       "       initial_claim  continued_claims  covered_employment  \\\n",
       "count   1.494600e+04      1.494600e+04        1.494600e+04   \n",
       "mean    6.943296e+03      4.564290e+04        2.642809e+06   \n",
       "std     2.380269e+04      1.088439e+05        2.999574e+06   \n",
       "min     0.000000e+00      0.000000e+00        3.244600e+04   \n",
       "25%     1.094000e+03      8.666000e+03        6.529340e+05   \n",
       "50%     2.550000e+03      1.991950e+04        1.797624e+06   \n",
       "75%     5.608750e+03      4.008000e+04        3.266242e+06   \n",
       "max     1.058325e+06      4.808361e+06        1.733001e+07   \n",
       "\n",
       "       insured_unemployment_rate  \n",
       "count               14946.000000  \n",
       "mean                    1.667128  \n",
       "std                     2.032472  \n",
       "min                     0.000000  \n",
       "25%                     0.850000  \n",
       "50%                     1.240000  \n",
       "75%                     1.830000  \n",
       "max                    31.200001  "
      ]
     },
     "execution_count": 11,
     "metadata": {},
     "output_type": "execute_result"
    }
   ],
   "source": [
    "# Display a statistical overview for a high level insight into the data\n",
    "df.describe()"
   ]
  },
  {
   "cell_type": "code",
   "execution_count": 12,
   "metadata": {
    "ExecuteTime": {
     "end_time": "2020-06-07T01:34:10.540034Z",
     "start_time": "2020-06-07T01:34:10.521035Z"
    }
   },
   "outputs": [
    {
     "data": {
      "text/html": [
       "<div>\n",
       "<style scoped>\n",
       "    .dataframe tbody tr th:only-of-type {\n",
       "        vertical-align: middle;\n",
       "    }\n",
       "\n",
       "    .dataframe tbody tr th {\n",
       "        vertical-align: top;\n",
       "    }\n",
       "\n",
       "    .dataframe thead th {\n",
       "        text-align: right;\n",
       "    }\n",
       "</style>\n",
       "<table border=\"1\" class=\"dataframe\">\n",
       "  <thead>\n",
       "    <tr style=\"text-align: right;\">\n",
       "      <th></th>\n",
       "      <th>state</th>\n",
       "      <th>filed_week_ended</th>\n",
       "      <th>initial_claim</th>\n",
       "      <th>reflecting_week_ended</th>\n",
       "      <th>continued_claims</th>\n",
       "      <th>covered_employment</th>\n",
       "      <th>insured_unemployment_rate</th>\n",
       "    </tr>\n",
       "  </thead>\n",
       "  <tbody>\n",
       "    <tr>\n",
       "      <th>0</th>\n",
       "      <td>Alabama</td>\n",
       "      <td>2015-01-03</td>\n",
       "      <td>7785</td>\n",
       "      <td>2014-12-27</td>\n",
       "      <td>30194</td>\n",
       "      <td>1794067</td>\n",
       "      <td>1.68</td>\n",
       "    </tr>\n",
       "    <tr>\n",
       "      <th>1</th>\n",
       "      <td>Alabama</td>\n",
       "      <td>2015-01-10</td>\n",
       "      <td>9139</td>\n",
       "      <td>2015-01-03</td>\n",
       "      <td>35246</td>\n",
       "      <td>1798083</td>\n",
       "      <td>1.96</td>\n",
       "    </tr>\n",
       "    <tr>\n",
       "      <th>2</th>\n",
       "      <td>Alabama</td>\n",
       "      <td>2015-01-17</td>\n",
       "      <td>4654</td>\n",
       "      <td>2015-01-10</td>\n",
       "      <td>28200</td>\n",
       "      <td>1798083</td>\n",
       "      <td>1.57</td>\n",
       "    </tr>\n",
       "    <tr>\n",
       "      <th>3</th>\n",
       "      <td>Alabama</td>\n",
       "      <td>2015-01-24</td>\n",
       "      <td>3284</td>\n",
       "      <td>2015-01-17</td>\n",
       "      <td>26222</td>\n",
       "      <td>1798083</td>\n",
       "      <td>1.46</td>\n",
       "    </tr>\n",
       "    <tr>\n",
       "      <th>4</th>\n",
       "      <td>Alabama</td>\n",
       "      <td>2015-01-31</td>\n",
       "      <td>3203</td>\n",
       "      <td>2015-01-24</td>\n",
       "      <td>25391</td>\n",
       "      <td>1798083</td>\n",
       "      <td>1.41</td>\n",
       "    </tr>\n",
       "  </tbody>\n",
       "</table>\n",
       "</div>"
      ],
      "text/plain": [
       "     state filed_week_ended  initial_claim reflecting_week_ended  \\\n",
       "0  Alabama       2015-01-03           7785            2014-12-27   \n",
       "1  Alabama       2015-01-10           9139            2015-01-03   \n",
       "2  Alabama       2015-01-17           4654            2015-01-10   \n",
       "3  Alabama       2015-01-24           3284            2015-01-17   \n",
       "4  Alabama       2015-01-31           3203            2015-01-24   \n",
       "\n",
       "   continued_claims  covered_employment  insured_unemployment_rate  \n",
       "0             30194             1794067                       1.68  \n",
       "1             35246             1798083                       1.96  \n",
       "2             28200             1798083                       1.57  \n",
       "3             26222             1798083                       1.46  \n",
       "4             25391             1798083                       1.41  "
      ]
     },
     "execution_count": 12,
     "metadata": {},
     "output_type": "execute_result"
    }
   ],
   "source": [
    "df.head()"
   ]
  },
  {
   "cell_type": "code",
   "execution_count": 13,
   "metadata": {
    "ExecuteTime": {
     "end_time": "2020-06-07T01:34:10.585037Z",
     "start_time": "2020-06-07T01:34:10.544040Z"
    }
   },
   "outputs": [],
   "source": [
    "# Add two more columns to the dataframe for displaying filed month and year separately\n",
    "df['filed_ended_month'] = df['filed_week_ended'].dt.month.map(\"{:02}\".format)\n",
    "df['filed_ended_year'] = df['filed_week_ended'].dt.year.astype(str)"
   ]
  },
  {
   "cell_type": "code",
   "execution_count": 14,
   "metadata": {
    "ExecuteTime": {
     "end_time": "2020-06-07T01:34:10.615047Z",
     "start_time": "2020-06-07T01:34:10.595034Z"
    }
   },
   "outputs": [
    {
     "data": {
      "text/html": [
       "<div>\n",
       "<style scoped>\n",
       "    .dataframe tbody tr th:only-of-type {\n",
       "        vertical-align: middle;\n",
       "    }\n",
       "\n",
       "    .dataframe tbody tr th {\n",
       "        vertical-align: top;\n",
       "    }\n",
       "\n",
       "    .dataframe thead th {\n",
       "        text-align: right;\n",
       "    }\n",
       "</style>\n",
       "<table border=\"1\" class=\"dataframe\">\n",
       "  <thead>\n",
       "    <tr style=\"text-align: right;\">\n",
       "      <th></th>\n",
       "      <th>state</th>\n",
       "      <th>filed_week_ended</th>\n",
       "      <th>initial_claim</th>\n",
       "      <th>reflecting_week_ended</th>\n",
       "      <th>continued_claims</th>\n",
       "      <th>covered_employment</th>\n",
       "      <th>insured_unemployment_rate</th>\n",
       "      <th>filed_ended_month</th>\n",
       "      <th>filed_ended_year</th>\n",
       "    </tr>\n",
       "  </thead>\n",
       "  <tbody>\n",
       "    <tr>\n",
       "      <th>0</th>\n",
       "      <td>Alabama</td>\n",
       "      <td>2015-01-03</td>\n",
       "      <td>7785</td>\n",
       "      <td>2014-12-27</td>\n",
       "      <td>30194</td>\n",
       "      <td>1794067</td>\n",
       "      <td>1.68</td>\n",
       "      <td>01</td>\n",
       "      <td>2015</td>\n",
       "    </tr>\n",
       "    <tr>\n",
       "      <th>1</th>\n",
       "      <td>Alabama</td>\n",
       "      <td>2015-01-10</td>\n",
       "      <td>9139</td>\n",
       "      <td>2015-01-03</td>\n",
       "      <td>35246</td>\n",
       "      <td>1798083</td>\n",
       "      <td>1.96</td>\n",
       "      <td>01</td>\n",
       "      <td>2015</td>\n",
       "    </tr>\n",
       "    <tr>\n",
       "      <th>2</th>\n",
       "      <td>Alabama</td>\n",
       "      <td>2015-01-17</td>\n",
       "      <td>4654</td>\n",
       "      <td>2015-01-10</td>\n",
       "      <td>28200</td>\n",
       "      <td>1798083</td>\n",
       "      <td>1.57</td>\n",
       "      <td>01</td>\n",
       "      <td>2015</td>\n",
       "    </tr>\n",
       "    <tr>\n",
       "      <th>3</th>\n",
       "      <td>Alabama</td>\n",
       "      <td>2015-01-24</td>\n",
       "      <td>3284</td>\n",
       "      <td>2015-01-17</td>\n",
       "      <td>26222</td>\n",
       "      <td>1798083</td>\n",
       "      <td>1.46</td>\n",
       "      <td>01</td>\n",
       "      <td>2015</td>\n",
       "    </tr>\n",
       "    <tr>\n",
       "      <th>4</th>\n",
       "      <td>Alabama</td>\n",
       "      <td>2015-01-31</td>\n",
       "      <td>3203</td>\n",
       "      <td>2015-01-24</td>\n",
       "      <td>25391</td>\n",
       "      <td>1798083</td>\n",
       "      <td>1.41</td>\n",
       "      <td>01</td>\n",
       "      <td>2015</td>\n",
       "    </tr>\n",
       "  </tbody>\n",
       "</table>\n",
       "</div>"
      ],
      "text/plain": [
       "     state filed_week_ended  initial_claim reflecting_week_ended  \\\n",
       "0  Alabama       2015-01-03           7785            2014-12-27   \n",
       "1  Alabama       2015-01-10           9139            2015-01-03   \n",
       "2  Alabama       2015-01-17           4654            2015-01-10   \n",
       "3  Alabama       2015-01-24           3284            2015-01-17   \n",
       "4  Alabama       2015-01-31           3203            2015-01-24   \n",
       "\n",
       "   continued_claims  covered_employment  insured_unemployment_rate  \\\n",
       "0             30194             1794067                       1.68   \n",
       "1             35246             1798083                       1.96   \n",
       "2             28200             1798083                       1.57   \n",
       "3             26222             1798083                       1.46   \n",
       "4             25391             1798083                       1.41   \n",
       "\n",
       "  filed_ended_month filed_ended_year  \n",
       "0                01             2015  \n",
       "1                01             2015  \n",
       "2                01             2015  \n",
       "3                01             2015  \n",
       "4                01             2015  "
      ]
     },
     "execution_count": 14,
     "metadata": {},
     "output_type": "execute_result"
    }
   ],
   "source": [
    "df.head()"
   ]
  },
  {
   "cell_type": "code",
   "execution_count": 15,
   "metadata": {
    "ExecuteTime": {
     "end_time": "2020-06-07T01:34:10.662033Z",
     "start_time": "2020-06-07T01:34:10.617034Z"
    }
   },
   "outputs": [
    {
     "data": {
      "text/html": [
       "<div>\n",
       "<style scoped>\n",
       "    .dataframe tbody tr th:only-of-type {\n",
       "        vertical-align: middle;\n",
       "    }\n",
       "\n",
       "    .dataframe tbody tr th {\n",
       "        vertical-align: top;\n",
       "    }\n",
       "\n",
       "    .dataframe thead th {\n",
       "        text-align: right;\n",
       "    }\n",
       "</style>\n",
       "<table border=\"1\" class=\"dataframe\">\n",
       "  <thead>\n",
       "    <tr style=\"text-align: right;\">\n",
       "      <th></th>\n",
       "      <th>state</th>\n",
       "      <th>filed_ended_year</th>\n",
       "      <th>filed_ended_month</th>\n",
       "      <th>monthly_initial_claim</th>\n",
       "      <th>continued_claims</th>\n",
       "      <th>average_insured_unemployment_rate</th>\n",
       "    </tr>\n",
       "  </thead>\n",
       "  <tbody>\n",
       "    <tr>\n",
       "      <th>0</th>\n",
       "      <td>Alabama</td>\n",
       "      <td>2015</td>\n",
       "      <td>01</td>\n",
       "      <td>28065</td>\n",
       "      <td>29050.60</td>\n",
       "      <td>1.6160</td>\n",
       "    </tr>\n",
       "    <tr>\n",
       "      <th>1</th>\n",
       "      <td>Alabama</td>\n",
       "      <td>2015</td>\n",
       "      <td>02</td>\n",
       "      <td>12777</td>\n",
       "      <td>24491.75</td>\n",
       "      <td>1.3625</td>\n",
       "    </tr>\n",
       "    <tr>\n",
       "      <th>2</th>\n",
       "      <td>Alabama</td>\n",
       "      <td>2015</td>\n",
       "      <td>03</td>\n",
       "      <td>13023</td>\n",
       "      <td>23454.25</td>\n",
       "      <td>1.3050</td>\n",
       "    </tr>\n",
       "    <tr>\n",
       "      <th>3</th>\n",
       "      <td>Alabama</td>\n",
       "      <td>2015</td>\n",
       "      <td>04</td>\n",
       "      <td>14475</td>\n",
       "      <td>22520.00</td>\n",
       "      <td>1.2500</td>\n",
       "    </tr>\n",
       "    <tr>\n",
       "      <th>4</th>\n",
       "      <td>Alabama</td>\n",
       "      <td>2015</td>\n",
       "      <td>05</td>\n",
       "      <td>17966</td>\n",
       "      <td>22709.20</td>\n",
       "      <td>1.2600</td>\n",
       "    </tr>\n",
       "  </tbody>\n",
       "</table>\n",
       "</div>"
      ],
      "text/plain": [
       "     state filed_ended_year filed_ended_month  monthly_initial_claim  \\\n",
       "0  Alabama             2015                01                  28065   \n",
       "1  Alabama             2015                02                  12777   \n",
       "2  Alabama             2015                03                  13023   \n",
       "3  Alabama             2015                04                  14475   \n",
       "4  Alabama             2015                05                  17966   \n",
       "\n",
       "   continued_claims  average_insured_unemployment_rate  \n",
       "0          29050.60                             1.6160  \n",
       "1          24491.75                             1.3625  \n",
       "2          23454.25                             1.3050  \n",
       "3          22520.00                             1.2500  \n",
       "4          22709.20                             1.2600  "
      ]
     },
     "execution_count": 15,
     "metadata": {},
     "output_type": "execute_result"
    }
   ],
   "source": [
    "# Rename the columns and generate a new dataframe aggregating all the weekly claims to a month, per state\n",
    "d = {'initial_claim':'monthly_initial_claim', 'average_continued_claims':'continued_claims','insured_unemployment_rate':'average_insured_unemployment_rate'}\n",
    "df_3 = df.groupby(['state','filed_ended_year','filed_ended_month']).agg({'initial_claim':'sum','continued_claims':'mean','insured_unemployment_rate':'mean'}).rename(columns=d).reset_index()\n",
    "df_3.head()"
   ]
  },
  {
   "cell_type": "code",
   "execution_count": 16,
   "metadata": {
    "ExecuteTime": {
     "end_time": "2020-06-07T01:34:10.677034Z",
     "start_time": "2020-06-07T01:34:10.664036Z"
    }
   },
   "outputs": [
    {
     "data": {
      "text/plain": [
       "state                                 object\n",
       "filed_ended_year                      object\n",
       "filed_ended_month                     object\n",
       "monthly_initial_claim                  int32\n",
       "continued_claims                     float64\n",
       "average_insured_unemployment_rate    float32\n",
       "dtype: object"
      ]
     },
     "execution_count": 16,
     "metadata": {},
     "output_type": "execute_result"
    }
   ],
   "source": [
    "df_3.dtypes"
   ]
  },
  {
   "cell_type": "code",
   "execution_count": 17,
   "metadata": {
    "ExecuteTime": {
     "end_time": "2020-06-07T01:34:10.894502Z",
     "start_time": "2020-06-07T01:34:10.680040Z"
    }
   },
   "outputs": [
    {
     "data": {
      "text/plain": [
       "<matplotlib.axes._subplots.AxesSubplot at 0x1eda47c2fd0>"
      ]
     },
     "execution_count": 17,
     "metadata": {},
     "output_type": "execute_result"
    },
    {
     "data": {
      "image/png": "[encoded data removed]",
      "text/plain": [
       "<Figure size 432x288 with 1 Axes>"
      ]
     },
     "metadata": {
      "needs_background": "light"
     },
     "output_type": "display_data"
    }
   ],
   "source": [
    "# Generate test plots\n",
    "df_3['year-month'] =  df_3['filed_ended_year'] + \"-\" + df_3['filed_ended_month']\n",
    "df_3= df_3.sort_values(['state','year-month'])\n",
    "condition = (df_3['state']=='Texas') & (df_3['filed_ended_year'].isin(['2020']))\n",
    "df_3[condition].plot(x='year-month',y='average_insured_unemployment_rate')"
   ]
  },
  {
   "cell_type": "code",
   "execution_count": 18,
   "metadata": {
    "ExecuteTime": {
     "end_time": "2020-06-07T01:34:10.926501Z",
     "start_time": "2020-06-07T01:34:10.897499Z"
    }
   },
   "outputs": [
    {
     "data": {
      "text/html": [
       "<div>\n",
       "<style scoped>\n",
       "    .dataframe tbody tr th:only-of-type {\n",
       "        vertical-align: middle;\n",
       "    }\n",
       "\n",
       "    .dataframe tbody tr th {\n",
       "        vertical-align: top;\n",
       "    }\n",
       "\n",
       "    .dataframe thead th {\n",
       "        text-align: right;\n",
       "    }\n",
       "</style>\n",
       "<table border=\"1\" class=\"dataframe\">\n",
       "  <thead>\n",
       "    <tr style=\"text-align: right;\">\n",
       "      <th></th>\n",
       "      <th>state</th>\n",
       "      <th>filed_ended_year</th>\n",
       "      <th>filed_ended_month</th>\n",
       "      <th>monthly_initial_claim</th>\n",
       "      <th>continued_claims</th>\n",
       "      <th>average_insured_unemployment_rate</th>\n",
       "      <th>year-month</th>\n",
       "    </tr>\n",
       "  </thead>\n",
       "  <tbody>\n",
       "    <tr>\n",
       "      <th>0</th>\n",
       "      <td>Alabama</td>\n",
       "      <td>2015</td>\n",
       "      <td>01</td>\n",
       "      <td>28065</td>\n",
       "      <td>29050.60</td>\n",
       "      <td>1.6160</td>\n",
       "      <td>2015-01</td>\n",
       "    </tr>\n",
       "    <tr>\n",
       "      <th>1</th>\n",
       "      <td>Alabama</td>\n",
       "      <td>2015</td>\n",
       "      <td>02</td>\n",
       "      <td>12777</td>\n",
       "      <td>24491.75</td>\n",
       "      <td>1.3625</td>\n",
       "      <td>2015-02</td>\n",
       "    </tr>\n",
       "    <tr>\n",
       "      <th>2</th>\n",
       "      <td>Alabama</td>\n",
       "      <td>2015</td>\n",
       "      <td>03</td>\n",
       "      <td>13023</td>\n",
       "      <td>23454.25</td>\n",
       "      <td>1.3050</td>\n",
       "      <td>2015-03</td>\n",
       "    </tr>\n",
       "    <tr>\n",
       "      <th>3</th>\n",
       "      <td>Alabama</td>\n",
       "      <td>2015</td>\n",
       "      <td>04</td>\n",
       "      <td>14475</td>\n",
       "      <td>22520.00</td>\n",
       "      <td>1.2500</td>\n",
       "      <td>2015-04</td>\n",
       "    </tr>\n",
       "    <tr>\n",
       "      <th>4</th>\n",
       "      <td>Alabama</td>\n",
       "      <td>2015</td>\n",
       "      <td>05</td>\n",
       "      <td>17966</td>\n",
       "      <td>22709.20</td>\n",
       "      <td>1.2600</td>\n",
       "      <td>2015-05</td>\n",
       "    </tr>\n",
       "  </tbody>\n",
       "</table>\n",
       "</div>"
      ],
      "text/plain": [
       "     state filed_ended_year filed_ended_month  monthly_initial_claim  \\\n",
       "0  Alabama             2015                01                  28065   \n",
       "1  Alabama             2015                02                  12777   \n",
       "2  Alabama             2015                03                  13023   \n",
       "3  Alabama             2015                04                  14475   \n",
       "4  Alabama             2015                05                  17966   \n",
       "\n",
       "   continued_claims  average_insured_unemployment_rate year-month  \n",
       "0          29050.60                             1.6160    2015-01  \n",
       "1          24491.75                             1.3625    2015-02  \n",
       "2          23454.25                             1.3050    2015-03  \n",
       "3          22520.00                             1.2500    2015-04  \n",
       "4          22709.20                             1.2600    2015-05  "
      ]
     },
     "execution_count": 18,
     "metadata": {},
     "output_type": "execute_result"
    }
   ],
   "source": [
    "df_3.head()"
   ]
  },
  {
   "cell_type": "code",
   "execution_count": 19,
   "metadata": {
    "ExecuteTime": {
     "end_time": "2020-06-07T01:34:10.957203Z",
     "start_time": "2020-06-07T01:34:10.928503Z"
    }
   },
   "outputs": [],
   "source": [
    "# Generate a new dataframe by re-orienting the original data frame using pd.melt\n",
    "df_2 = pd.melt(df,id_vars=['state','filed_week_ended'],value_vars=['initial_claim','continued_claims','covered_employment','insured_unemployment_rate'])"
   ]
  },
  {
   "cell_type": "code",
   "execution_count": 20,
   "metadata": {
    "ExecuteTime": {
     "end_time": "2020-06-07T01:34:10.972202Z",
     "start_time": "2020-06-07T01:34:10.959203Z"
    }
   },
   "outputs": [
    {
     "data": {
      "text/plain": [
       "Index(['state', 'filed_week_ended', 'variable', 'value'], dtype='object')"
      ]
     },
     "execution_count": 20,
     "metadata": {},
     "output_type": "execute_result"
    }
   ],
   "source": [
    "df_2.columns"
   ]
  },
  {
   "cell_type": "code",
   "execution_count": 21,
   "metadata": {
    "ExecuteTime": {
     "end_time": "2020-06-07T01:34:10.988206Z",
     "start_time": "2020-06-07T01:34:10.975202Z"
    }
   },
   "outputs": [
    {
     "data": {
      "text/plain": [
       "(59784, 4)"
      ]
     },
     "execution_count": 21,
     "metadata": {},
     "output_type": "execute_result"
    }
   ],
   "source": [
    "df_2.shape"
   ]
  },
  {
   "cell_type": "code",
   "execution_count": 22,
   "metadata": {
    "ExecuteTime": {
     "end_time": "2020-06-07T01:34:11.004204Z",
     "start_time": "2020-06-07T01:34:10.991204Z"
    }
   },
   "outputs": [
    {
     "data": {
      "text/plain": [
       "state                       object\n",
       "filed_week_ended    datetime64[ns]\n",
       "variable                    object\n",
       "value                      float64\n",
       "dtype: object"
      ]
     },
     "execution_count": 22,
     "metadata": {},
     "output_type": "execute_result"
    }
   ],
   "source": [
    "df_2.dtypes"
   ]
  },
  {
   "cell_type": "code",
   "execution_count": 23,
   "metadata": {
    "ExecuteTime": {
     "end_time": "2020-06-07T01:34:11.034931Z",
     "start_time": "2020-06-07T01:34:11.008207Z"
    }
   },
   "outputs": [
    {
     "data": {
      "text/plain": [
       "0        2015\n",
       "1        2015\n",
       "2        2015\n",
       "3        2015\n",
       "4        2015\n",
       "         ... \n",
       "59779    2020\n",
       "59780    2020\n",
       "59781    2020\n",
       "59782    2020\n",
       "59783    2020\n",
       "Name: filed_week_ended, Length: 59784, dtype: int64"
      ]
     },
     "execution_count": 23,
     "metadata": {},
     "output_type": "execute_result"
    }
   ],
   "source": [
    "df_2['filed_week_ended'].dt.year"
   ]
  },
  {
   "cell_type": "code",
   "execution_count": 24,
   "metadata": {
    "ExecuteTime": {
     "end_time": "2020-06-07T01:34:11.050929Z",
     "start_time": "2020-06-07T01:34:11.040931Z"
    }
   },
   "outputs": [],
   "source": [
    "# Visualize the dataframe\n",
    "# import dtale \n",
    "# d = dtale.show(df_3, ignore_duplicate=True)\n",
    "# d.open_browser()"
   ]
  },
  {
   "cell_type": "code",
   "execution_count": 27,
   "metadata": {
    "ExecuteTime": {
     "end_time": "2020-06-07T03:18:13.003912Z",
     "start_time": "2020-06-07T03:18:12.514907Z"
    }
   },
   "outputs": [],
   "source": [
    "from flask import (\n",
    "    Flask,\n",
    "    render_template,\n",
    "    jsonify,\n",
    "    request,\n",
    "    redirect)"
   ]
  },
  {
   "cell_type": "code",
   "execution_count": 26,
   "metadata": {
    "ExecuteTime": {
     "end_time": "2020-06-07T01:37:06.466072Z",
     "start_time": "2020-06-07T01:37:05.918784Z"
    }
   },
   "outputs": [],
   "source": [
    "from sqlalchemy import create_engine\n",
    "\n",
    "engine = create_engine('sqlite:///resources/us_unemployment.db', echo=False)\n",
    "df.to_sql('state_claims',con=engine,if_exists='replace')"
   ]
  },
  {
   "cell_type": "code",
   "execution_count": 31,
   "metadata": {
    "ExecuteTime": {
     "end_time": "2020-06-07T03:20:01.543739Z",
     "start_time": "2020-06-07T03:20:01.535723Z"
    }
   },
   "outputs": [
    {
     "ename": "SyntaxError",
     "evalue": "invalid syntax (<ipython-input-31-e9cf5b036d0b>, line 5)",
     "output_type": "error",
     "traceback": [
      "\u001b[1;36m  File \u001b[1;32m\"<ipython-input-31-e9cf5b036d0b>\"\u001b[1;36m, line \u001b[1;32m5\u001b[0m\n\u001b[1;33m    year=['2001','2002'],\u001b[0m\n\u001b[1;37m        ^\u001b[0m\n\u001b[1;31mSyntaxError\u001b[0m\u001b[1;31m:\u001b[0m invalid syntax\n"
     ]
    }
   ],
   "source": [
    "data = [{\n",
    "    'state':{\n",
    "        \n",
    "        name:['Texas',\n",
    "        year=['2001','2002'],\n",
    "        data=[123,456]\n",
    "             ]\n",
    "    }\n",
    "}\n",
    "       ]\n",
    "\n",
    "jsonify(data)"
   ]
  }
 ],
 "metadata": {
  "kernelspec": {
   "display_name": "Python 3",
   "language": "python",
   "name": "python3"
  },
  "language_info": {
   "codemirror_mode": {
    "name": "ipython",
    "version": 3
   },
   "file_extension": ".py",
   "mimetype": "text/x-python",
   "name": "python",
   "nbconvert_exporter": "python",
   "pygments_lexer": "ipython3",
   "version": "3.7.4"
  }
 },
 "nbformat": 4,
 "nbformat_minor": 2
}
